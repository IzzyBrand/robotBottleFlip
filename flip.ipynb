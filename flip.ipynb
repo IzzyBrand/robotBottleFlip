{
  "nbformat": 4,
  "nbformat_minor": 0,
  "metadata": {
    "kernelspec": {
      "display_name": "Python 3",
      "language": "python",
      "name": "python3"
    },
    "language_info": {
      "codemirror_mode": {
        "name": "ipython",
        "version": 3
      },
      "file_extension": ".py",
      "mimetype": "text/x-python",
      "name": "python",
      "nbconvert_exporter": "python",
      "pygments_lexer": "ipython3",
      "version": "3.8.3"
    },
    "colab": {
      "name": "Robotic_Manipulation_Basic_Pick_and_Place.ipynb",
      "provenance": [],
      "collapsed_sections": [],
      "include_colab_link": true
    },
    "widgets": {
      "application/vnd.jupyter.widget-state+json": {
        "5f3e9195d85040b29c8f79e610bac3fd": {
          "model_module": "@jupyter-widgets/controls",
          "model_name": "FloatSliderModel",
          "state": {
            "_view_name": "FloatSliderView",
            "style": "IPY_MODEL_e956c1a7657f4f56be99fb50b76fd874",
            "_dom_classes": [],
            "description": "iiwa_joint_1",
            "step": 0.01,
            "_model_name": "FloatSliderModel",
            "orientation": "horizontal",
            "max": 2.96706,
            "_view_module": "@jupyter-widgets/controls",
            "_model_module_version": "1.5.0",
            "value": -1.57,
            "_view_count": null,
            "disabled": false,
            "_view_module_version": "1.5.0",
            "min": -2.96706,
            "continuous_update": true,
            "readout_format": ".2f",
            "description_tooltip": null,
            "readout": true,
            "_model_module": "@jupyter-widgets/controls",
            "layout": "IPY_MODEL_af385731100a4670bafe59b9672424fa"
          }
        },
        "e956c1a7657f4f56be99fb50b76fd874": {
          "model_module": "@jupyter-widgets/controls",
          "model_name": "SliderStyleModel",
          "state": {
            "_view_name": "StyleView",
            "handle_color": null,
            "_model_name": "SliderStyleModel",
            "description_width": "initial",
            "_view_module": "@jupyter-widgets/base",
            "_model_module_version": "1.5.0",
            "_view_count": null,
            "_view_module_version": "1.2.0",
            "_model_module": "@jupyter-widgets/controls"
          }
        },
        "af385731100a4670bafe59b9672424fa": {
          "model_module": "@jupyter-widgets/base",
          "model_name": "LayoutModel",
          "state": {
            "_view_name": "LayoutView",
            "grid_template_rows": null,
            "right": null,
            "justify_content": null,
            "_view_module": "@jupyter-widgets/base",
            "overflow": null,
            "_model_module_version": "1.2.0",
            "_view_count": null,
            "flex_flow": null,
            "width": "'200'",
            "min_width": null,
            "border": null,
            "align_items": null,
            "bottom": null,
            "_model_module": "@jupyter-widgets/base",
            "top": null,
            "grid_column": null,
            "overflow_y": null,
            "overflow_x": null,
            "grid_auto_flow": null,
            "grid_area": null,
            "grid_template_columns": null,
            "flex": null,
            "_model_name": "LayoutModel",
            "justify_items": null,
            "grid_row": null,
            "max_height": null,
            "align_content": null,
            "visibility": null,
            "align_self": null,
            "height": null,
            "min_height": null,
            "padding": null,
            "grid_auto_rows": null,
            "grid_gap": null,
            "max_width": null,
            "order": null,
            "_view_module_version": "1.2.0",
            "grid_template_areas": null,
            "object_position": null,
            "object_fit": null,
            "grid_auto_columns": null,
            "margin": null,
            "display": null,
            "left": null
          }
        },
        "d26be749769a466ea16510d7644abe4e": {
          "model_module": "@jupyter-widgets/controls",
          "model_name": "FloatSliderModel",
          "state": {
            "_view_name": "FloatSliderView",
            "style": "IPY_MODEL_a7de60959636459da806ab276aa3128d",
            "_dom_classes": [],
            "description": "iiwa_joint_2",
            "step": 0.01,
            "_model_name": "FloatSliderModel",
            "orientation": "horizontal",
            "max": 2.0944,
            "_view_module": "@jupyter-widgets/controls",
            "_model_module_version": "1.5.0",
            "value": 0.1,
            "_view_count": null,
            "disabled": false,
            "_view_module_version": "1.5.0",
            "min": -2.0944,
            "continuous_update": true,
            "readout_format": ".2f",
            "description_tooltip": null,
            "readout": true,
            "_model_module": "@jupyter-widgets/controls",
            "layout": "IPY_MODEL_0ced6b9863a54d199b4ca361c611e95b"
          }
        },
        "a7de60959636459da806ab276aa3128d": {
          "model_module": "@jupyter-widgets/controls",
          "model_name": "SliderStyleModel",
          "state": {
            "_view_name": "StyleView",
            "handle_color": null,
            "_model_name": "SliderStyleModel",
            "description_width": "initial",
            "_view_module": "@jupyter-widgets/base",
            "_model_module_version": "1.5.0",
            "_view_count": null,
            "_view_module_version": "1.2.0",
            "_model_module": "@jupyter-widgets/controls"
          }
        },
        "0ced6b9863a54d199b4ca361c611e95b": {
          "model_module": "@jupyter-widgets/base",
          "model_name": "LayoutModel",
          "state": {
            "_view_name": "LayoutView",
            "grid_template_rows": null,
            "right": null,
            "justify_content": null,
            "_view_module": "@jupyter-widgets/base",
            "overflow": null,
            "_model_module_version": "1.2.0",
            "_view_count": null,
            "flex_flow": null,
            "width": "'200'",
            "min_width": null,
            "border": null,
            "align_items": null,
            "bottom": null,
            "_model_module": "@jupyter-widgets/base",
            "top": null,
            "grid_column": null,
            "overflow_y": null,
            "overflow_x": null,
            "grid_auto_flow": null,
            "grid_area": null,
            "grid_template_columns": null,
            "flex": null,
            "_model_name": "LayoutModel",
            "justify_items": null,
            "grid_row": null,
            "max_height": null,
            "align_content": null,
            "visibility": null,
            "align_self": null,
            "height": null,
            "min_height": null,
            "padding": null,
            "grid_auto_rows": null,
            "grid_gap": null,
            "max_width": null,
            "order": null,
            "_view_module_version": "1.2.0",
            "grid_template_areas": null,
            "object_position": null,
            "object_fit": null,
            "grid_auto_columns": null,
            "margin": null,
            "display": null,
            "left": null
          }
        },
        "2fa1ff761d1344a7811ee197fe5bad7f": {
          "model_module": "@jupyter-widgets/controls",
          "model_name": "FloatSliderModel",
          "state": {
            "_view_name": "FloatSliderView",
            "style": "IPY_MODEL_d308bb28643147b5a8ecb5e21d141019",
            "_dom_classes": [],
            "description": "iiwa_joint_3",
            "step": 0.01,
            "_model_name": "FloatSliderModel",
            "orientation": "horizontal",
            "max": 2.96706,
            "_view_module": "@jupyter-widgets/controls",
            "_model_module_version": "1.5.0",
            "value": 0,
            "_view_count": null,
            "disabled": false,
            "_view_module_version": "1.5.0",
            "min": -2.96706,
            "continuous_update": true,
            "readout_format": ".2f",
            "description_tooltip": null,
            "readout": true,
            "_model_module": "@jupyter-widgets/controls",
            "layout": "IPY_MODEL_da63924786e9446493b6df2f09d0b654"
          }
        },
        "d308bb28643147b5a8ecb5e21d141019": {
          "model_module": "@jupyter-widgets/controls",
          "model_name": "SliderStyleModel",
          "state": {
            "_view_name": "StyleView",
            "handle_color": null,
            "_model_name": "SliderStyleModel",
            "description_width": "initial",
            "_view_module": "@jupyter-widgets/base",
            "_model_module_version": "1.5.0",
            "_view_count": null,
            "_view_module_version": "1.2.0",
            "_model_module": "@jupyter-widgets/controls"
          }
        },
        "da63924786e9446493b6df2f09d0b654": {
          "model_module": "@jupyter-widgets/base",
          "model_name": "LayoutModel",
          "state": {
            "_view_name": "LayoutView",
            "grid_template_rows": null,
            "right": null,
            "justify_content": null,
            "_view_module": "@jupyter-widgets/base",
            "overflow": null,
            "_model_module_version": "1.2.0",
            "_view_count": null,
            "flex_flow": null,
            "width": "'200'",
            "min_width": null,
            "border": null,
            "align_items": null,
            "bottom": null,
            "_model_module": "@jupyter-widgets/base",
            "top": null,
            "grid_column": null,
            "overflow_y": null,
            "overflow_x": null,
            "grid_auto_flow": null,
            "grid_area": null,
            "grid_template_columns": null,
            "flex": null,
            "_model_name": "LayoutModel",
            "justify_items": null,
            "grid_row": null,
            "max_height": null,
            "align_content": null,
            "visibility": null,
            "align_self": null,
            "height": null,
            "min_height": null,
            "padding": null,
            "grid_auto_rows": null,
            "grid_gap": null,
            "max_width": null,
            "order": null,
            "_view_module_version": "1.2.0",
            "grid_template_areas": null,
            "object_position": null,
            "object_fit": null,
            "grid_auto_columns": null,
            "margin": null,
            "display": null,
            "left": null
          }
        },
        "218e791bf4c74887b1d53adab2dfc23d": {
          "model_module": "@jupyter-widgets/controls",
          "model_name": "FloatSliderModel",
          "state": {
            "_view_name": "FloatSliderView",
            "style": "IPY_MODEL_4bad7d2051f646ae864d3e5403d6d097",
            "_dom_classes": [],
            "description": "iiwa_joint_4",
            "step": 0.01,
            "_model_name": "FloatSliderModel",
            "orientation": "horizontal",
            "max": 2.0944,
            "_view_module": "@jupyter-widgets/controls",
            "_model_module_version": "1.5.0",
            "value": -1.2,
            "_view_count": null,
            "disabled": false,
            "_view_module_version": "1.5.0",
            "min": -2.0944,
            "continuous_update": true,
            "readout_format": ".2f",
            "description_tooltip": null,
            "readout": true,
            "_model_module": "@jupyter-widgets/controls",
            "layout": "IPY_MODEL_f0983b765dd44d57aae0d28fef09abbb"
          }
        },
        "4bad7d2051f646ae864d3e5403d6d097": {
          "model_module": "@jupyter-widgets/controls",
          "model_name": "SliderStyleModel",
          "state": {
            "_view_name": "StyleView",
            "handle_color": null,
            "_model_name": "SliderStyleModel",
            "description_width": "initial",
            "_view_module": "@jupyter-widgets/base",
            "_model_module_version": "1.5.0",
            "_view_count": null,
            "_view_module_version": "1.2.0",
            "_model_module": "@jupyter-widgets/controls"
          }
        },
        "f0983b765dd44d57aae0d28fef09abbb": {
          "model_module": "@jupyter-widgets/base",
          "model_name": "LayoutModel",
          "state": {
            "_view_name": "LayoutView",
            "grid_template_rows": null,
            "right": null,
            "justify_content": null,
            "_view_module": "@jupyter-widgets/base",
            "overflow": null,
            "_model_module_version": "1.2.0",
            "_view_count": null,
            "flex_flow": null,
            "width": "'200'",
            "min_width": null,
            "border": null,
            "align_items": null,
            "bottom": null,
            "_model_module": "@jupyter-widgets/base",
            "top": null,
            "grid_column": null,
            "overflow_y": null,
            "overflow_x": null,
            "grid_auto_flow": null,
            "grid_area": null,
            "grid_template_columns": null,
            "flex": null,
            "_model_name": "LayoutModel",
            "justify_items": null,
            "grid_row": null,
            "max_height": null,
            "align_content": null,
            "visibility": null,
            "align_self": null,
            "height": null,
            "min_height": null,
            "padding": null,
            "grid_auto_rows": null,
            "grid_gap": null,
            "max_width": null,
            "order": null,
            "_view_module_version": "1.2.0",
            "grid_template_areas": null,
            "object_position": null,
            "object_fit": null,
            "grid_auto_columns": null,
            "margin": null,
            "display": null,
            "left": null
          }
        },
        "aa7a01fa04064b979b31680def6bb76b": {
          "model_module": "@jupyter-widgets/controls",
          "model_name": "FloatSliderModel",
          "state": {
            "_view_name": "FloatSliderView",
            "style": "IPY_MODEL_93a1e4a05879439488fd5985545e15a4",
            "_dom_classes": [],
            "description": "iiwa_joint_5",
            "step": 0.01,
            "_model_name": "FloatSliderModel",
            "orientation": "horizontal",
            "max": 2.96706,
            "_view_module": "@jupyter-widgets/controls",
            "_model_module_version": "1.5.0",
            "value": 0,
            "_view_count": null,
            "disabled": false,
            "_view_module_version": "1.5.0",
            "min": -2.96706,
            "continuous_update": true,
            "readout_format": ".2f",
            "description_tooltip": null,
            "readout": true,
            "_model_module": "@jupyter-widgets/controls",
            "layout": "IPY_MODEL_6a4e39a6749f440aa8d1f68de1fb2766"
          }
        },
        "93a1e4a05879439488fd5985545e15a4": {
          "model_module": "@jupyter-widgets/controls",
          "model_name": "SliderStyleModel",
          "state": {
            "_view_name": "StyleView",
            "handle_color": null,
            "_model_name": "SliderStyleModel",
            "description_width": "initial",
            "_view_module": "@jupyter-widgets/base",
            "_model_module_version": "1.5.0",
            "_view_count": null,
            "_view_module_version": "1.2.0",
            "_model_module": "@jupyter-widgets/controls"
          }
        },
        "6a4e39a6749f440aa8d1f68de1fb2766": {
          "model_module": "@jupyter-widgets/base",
          "model_name": "LayoutModel",
          "state": {
            "_view_name": "LayoutView",
            "grid_template_rows": null,
            "right": null,
            "justify_content": null,
            "_view_module": "@jupyter-widgets/base",
            "overflow": null,
            "_model_module_version": "1.2.0",
            "_view_count": null,
            "flex_flow": null,
            "width": "'200'",
            "min_width": null,
            "border": null,
            "align_items": null,
            "bottom": null,
            "_model_module": "@jupyter-widgets/base",
            "top": null,
            "grid_column": null,
            "overflow_y": null,
            "overflow_x": null,
            "grid_auto_flow": null,
            "grid_area": null,
            "grid_template_columns": null,
            "flex": null,
            "_model_name": "LayoutModel",
            "justify_items": null,
            "grid_row": null,
            "max_height": null,
            "align_content": null,
            "visibility": null,
            "align_self": null,
            "height": null,
            "min_height": null,
            "padding": null,
            "grid_auto_rows": null,
            "grid_gap": null,
            "max_width": null,
            "order": null,
            "_view_module_version": "1.2.0",
            "grid_template_areas": null,
            "object_position": null,
            "object_fit": null,
            "grid_auto_columns": null,
            "margin": null,
            "display": null,
            "left": null
          }
        },
        "31e5b81e3de34447a166bdec276303fb": {
          "model_module": "@jupyter-widgets/controls",
          "model_name": "FloatSliderModel",
          "state": {
            "_view_name": "FloatSliderView",
            "style": "IPY_MODEL_1fd1e1725ff84d65843666e4674873c5",
            "_dom_classes": [],
            "description": "iiwa_joint_6",
            "step": 0.01,
            "_model_name": "FloatSliderModel",
            "orientation": "horizontal",
            "max": 2.0944,
            "_view_module": "@jupyter-widgets/controls",
            "_model_module_version": "1.5.0",
            "value": 1.6,
            "_view_count": null,
            "disabled": false,
            "_view_module_version": "1.5.0",
            "min": -2.0944,
            "continuous_update": true,
            "readout_format": ".2f",
            "description_tooltip": null,
            "readout": true,
            "_model_module": "@jupyter-widgets/controls",
            "layout": "IPY_MODEL_3a1b86c9ee2e47f18948a5db442d46ef"
          }
        },
        "1fd1e1725ff84d65843666e4674873c5": {
          "model_module": "@jupyter-widgets/controls",
          "model_name": "SliderStyleModel",
          "state": {
            "_view_name": "StyleView",
            "handle_color": null,
            "_model_name": "SliderStyleModel",
            "description_width": "initial",
            "_view_module": "@jupyter-widgets/base",
            "_model_module_version": "1.5.0",
            "_view_count": null,
            "_view_module_version": "1.2.0",
            "_model_module": "@jupyter-widgets/controls"
          }
        },
        "3a1b86c9ee2e47f18948a5db442d46ef": {
          "model_module": "@jupyter-widgets/base",
          "model_name": "LayoutModel",
          "state": {
            "_view_name": "LayoutView",
            "grid_template_rows": null,
            "right": null,
            "justify_content": null,
            "_view_module": "@jupyter-widgets/base",
            "overflow": null,
            "_model_module_version": "1.2.0",
            "_view_count": null,
            "flex_flow": null,
            "width": "'200'",
            "min_width": null,
            "border": null,
            "align_items": null,
            "bottom": null,
            "_model_module": "@jupyter-widgets/base",
            "top": null,
            "grid_column": null,
            "overflow_y": null,
            "overflow_x": null,
            "grid_auto_flow": null,
            "grid_area": null,
            "grid_template_columns": null,
            "flex": null,
            "_model_name": "LayoutModel",
            "justify_items": null,
            "grid_row": null,
            "max_height": null,
            "align_content": null,
            "visibility": null,
            "align_self": null,
            "height": null,
            "min_height": null,
            "padding": null,
            "grid_auto_rows": null,
            "grid_gap": null,
            "max_width": null,
            "order": null,
            "_view_module_version": "1.2.0",
            "grid_template_areas": null,
            "object_position": null,
            "object_fit": null,
            "grid_auto_columns": null,
            "margin": null,
            "display": null,
            "left": null
          }
        },
        "cfe7822a6b894d8db50f7ec4a478ece7": {
          "model_module": "@jupyter-widgets/controls",
          "model_name": "FloatSliderModel",
          "state": {
            "_view_name": "FloatSliderView",
            "style": "IPY_MODEL_4d2dc589078442d68cabe78ffaa3300b",
            "_dom_classes": [],
            "description": "iiwa_joint_7",
            "step": 0.01,
            "_model_name": "FloatSliderModel",
            "orientation": "horizontal",
            "max": 3.05433,
            "_view_module": "@jupyter-widgets/controls",
            "_model_module_version": "1.5.0",
            "value": 0,
            "_view_count": null,
            "disabled": false,
            "_view_module_version": "1.5.0",
            "min": -3.05433,
            "continuous_update": true,
            "readout_format": ".2f",
            "description_tooltip": null,
            "readout": true,
            "_model_module": "@jupyter-widgets/controls",
            "layout": "IPY_MODEL_6e16ecd7fd3448d5a51f24de7a795053"
          }
        },
        "4d2dc589078442d68cabe78ffaa3300b": {
          "model_module": "@jupyter-widgets/controls",
          "model_name": "SliderStyleModel",
          "state": {
            "_view_name": "StyleView",
            "handle_color": null,
            "_model_name": "SliderStyleModel",
            "description_width": "initial",
            "_view_module": "@jupyter-widgets/base",
            "_model_module_version": "1.5.0",
            "_view_count": null,
            "_view_module_version": "1.2.0",
            "_model_module": "@jupyter-widgets/controls"
          }
        },
        "6e16ecd7fd3448d5a51f24de7a795053": {
          "model_module": "@jupyter-widgets/base",
          "model_name": "LayoutModel",
          "state": {
            "_view_name": "LayoutView",
            "grid_template_rows": null,
            "right": null,
            "justify_content": null,
            "_view_module": "@jupyter-widgets/base",
            "overflow": null,
            "_model_module_version": "1.2.0",
            "_view_count": null,
            "flex_flow": null,
            "width": "'200'",
            "min_width": null,
            "border": null,
            "align_items": null,
            "bottom": null,
            "_model_module": "@jupyter-widgets/base",
            "top": null,
            "grid_column": null,
            "overflow_y": null,
            "overflow_x": null,
            "grid_auto_flow": null,
            "grid_area": null,
            "grid_template_columns": null,
            "flex": null,
            "_model_name": "LayoutModel",
            "justify_items": null,
            "grid_row": null,
            "max_height": null,
            "align_content": null,
            "visibility": null,
            "align_self": null,
            "height": null,
            "min_height": null,
            "padding": null,
            "grid_auto_rows": null,
            "grid_gap": null,
            "max_width": null,
            "order": null,
            "_view_module_version": "1.2.0",
            "grid_template_areas": null,
            "object_position": null,
            "object_fit": null,
            "grid_auto_columns": null,
            "margin": null,
            "display": null,
            "left": null
          }
        },
        "d0012b425a5c4533a594439cc2fd2d2f": {
          "model_module": "@jupyter-widgets/controls",
          "model_name": "FloatSliderModel",
          "state": {
            "_view_name": "FloatSliderView",
            "style": "IPY_MODEL_2ff6bb93d95f497db1906792be979346",
            "_dom_classes": [],
            "description": "left_finger_sliding_joint",
            "step": 0.01,
            "_model_name": "FloatSliderModel",
            "orientation": "horizontal",
            "max": 0,
            "_view_module": "@jupyter-widgets/controls",
            "_model_module_version": "1.5.0",
            "value": -0.05,
            "_view_count": null,
            "disabled": false,
            "_view_module_version": "1.5.0",
            "min": -0.055,
            "continuous_update": true,
            "readout_format": ".2f",
            "description_tooltip": null,
            "readout": true,
            "_model_module": "@jupyter-widgets/controls",
            "layout": "IPY_MODEL_d4f1216582bb4678a66177c95f19427d"
          }
        },
        "2ff6bb93d95f497db1906792be979346": {
          "model_module": "@jupyter-widgets/controls",
          "model_name": "SliderStyleModel",
          "state": {
            "_view_name": "StyleView",
            "handle_color": null,
            "_model_name": "SliderStyleModel",
            "description_width": "initial",
            "_view_module": "@jupyter-widgets/base",
            "_model_module_version": "1.5.0",
            "_view_count": null,
            "_view_module_version": "1.2.0",
            "_model_module": "@jupyter-widgets/controls"
          }
        },
        "d4f1216582bb4678a66177c95f19427d": {
          "model_module": "@jupyter-widgets/base",
          "model_name": "LayoutModel",
          "state": {
            "_view_name": "LayoutView",
            "grid_template_rows": null,
            "right": null,
            "justify_content": null,
            "_view_module": "@jupyter-widgets/base",
            "overflow": null,
            "_model_module_version": "1.2.0",
            "_view_count": null,
            "flex_flow": null,
            "width": "'200'",
            "min_width": null,
            "border": null,
            "align_items": null,
            "bottom": null,
            "_model_module": "@jupyter-widgets/base",
            "top": null,
            "grid_column": null,
            "overflow_y": null,
            "overflow_x": null,
            "grid_auto_flow": null,
            "grid_area": null,
            "grid_template_columns": null,
            "flex": null,
            "_model_name": "LayoutModel",
            "justify_items": null,
            "grid_row": null,
            "max_height": null,
            "align_content": null,
            "visibility": null,
            "align_self": null,
            "height": null,
            "min_height": null,
            "padding": null,
            "grid_auto_rows": null,
            "grid_gap": null,
            "max_width": null,
            "order": null,
            "_view_module_version": "1.2.0",
            "grid_template_areas": null,
            "object_position": null,
            "object_fit": null,
            "grid_auto_columns": null,
            "margin": null,
            "display": null,
            "left": null
          }
        },
        "df2caf3ecf0441db808474321373b3d1": {
          "model_module": "@jupyter-widgets/controls",
          "model_name": "FloatSliderModel",
          "state": {
            "_view_name": "FloatSliderView",
            "style": "IPY_MODEL_e01daf846a824d9892864635c199d127",
            "_dom_classes": [],
            "description": "right_finger_sliding_joint",
            "step": 0.01,
            "_model_name": "FloatSliderModel",
            "orientation": "horizontal",
            "max": 0.055,
            "_view_module": "@jupyter-widgets/controls",
            "_model_module_version": "1.5.0",
            "value": 0.05,
            "_view_count": null,
            "disabled": false,
            "_view_module_version": "1.5.0",
            "min": 0,
            "continuous_update": true,
            "readout_format": ".2f",
            "description_tooltip": null,
            "readout": true,
            "_model_module": "@jupyter-widgets/controls",
            "layout": "IPY_MODEL_3e48836556034734b59de15c5230f221"
          }
        },
        "e01daf846a824d9892864635c199d127": {
          "model_module": "@jupyter-widgets/controls",
          "model_name": "SliderStyleModel",
          "state": {
            "_view_name": "StyleView",
            "handle_color": null,
            "_model_name": "SliderStyleModel",
            "description_width": "initial",
            "_view_module": "@jupyter-widgets/base",
            "_model_module_version": "1.5.0",
            "_view_count": null,
            "_view_module_version": "1.2.0",
            "_model_module": "@jupyter-widgets/controls"
          }
        },
        "3e48836556034734b59de15c5230f221": {
          "model_module": "@jupyter-widgets/base",
          "model_name": "LayoutModel",
          "state": {
            "_view_name": "LayoutView",
            "grid_template_rows": null,
            "right": null,
            "justify_content": null,
            "_view_module": "@jupyter-widgets/base",
            "overflow": null,
            "_model_module_version": "1.2.0",
            "_view_count": null,
            "flex_flow": null,
            "width": "'200'",
            "min_width": null,
            "border": null,
            "align_items": null,
            "bottom": null,
            "_model_module": "@jupyter-widgets/base",
            "top": null,
            "grid_column": null,
            "overflow_y": null,
            "overflow_x": null,
            "grid_auto_flow": null,
            "grid_area": null,
            "grid_template_columns": null,
            "flex": null,
            "_model_name": "LayoutModel",
            "justify_items": null,
            "grid_row": null,
            "max_height": null,
            "align_content": null,
            "visibility": null,
            "align_self": null,
            "height": null,
            "min_height": null,
            "padding": null,
            "grid_auto_rows": null,
            "grid_gap": null,
            "max_width": null,
            "order": null,
            "_view_module_version": "1.2.0",
            "grid_template_areas": null,
            "object_position": null,
            "object_fit": null,
            "grid_auto_columns": null,
            "margin": null,
            "display": null,
            "left": null
          }
        },
        "d84f3a84e27f4c1bab91c48deb07ff2d": {
          "model_module": "@jupyter-widgets/controls",
          "model_name": "TextModel",
          "state": {
            "_view_name": "TextView",
            "style": "IPY_MODEL_304a76cab1be4cca9751f60c8a15c1c4",
            "_dom_classes": [],
            "description": "gripper position (m): ",
            "_model_name": "TextModel",
            "placeholder": "​",
            "_view_module": "@jupyter-widgets/controls",
            "_model_module_version": "1.5.0",
            "value": "[0.00 -0.47 0.66]",
            "_view_count": null,
            "disabled": false,
            "_view_module_version": "1.5.0",
            "continuous_update": true,
            "description_tooltip": null,
            "_model_module": "@jupyter-widgets/controls",
            "layout": "IPY_MODEL_b5f44c2b3252463b873378e63d2f8687"
          }
        },
        "304a76cab1be4cca9751f60c8a15c1c4": {
          "model_module": "@jupyter-widgets/controls",
          "model_name": "DescriptionStyleModel",
          "state": {
            "_view_name": "StyleView",
            "_model_name": "DescriptionStyleModel",
            "description_width": "initial",
            "_view_module": "@jupyter-widgets/base",
            "_model_module_version": "1.5.0",
            "_view_count": null,
            "_view_module_version": "1.2.0",
            "_model_module": "@jupyter-widgets/controls"
          }
        },
        "b5f44c2b3252463b873378e63d2f8687": {
          "model_module": "@jupyter-widgets/base",
          "model_name": "LayoutModel",
          "state": {
            "_view_name": "LayoutView",
            "grid_template_rows": null,
            "right": null,
            "justify_content": null,
            "_view_module": "@jupyter-widgets/base",
            "overflow": null,
            "_model_module_version": "1.2.0",
            "_view_count": null,
            "flex_flow": null,
            "width": "500px",
            "min_width": null,
            "border": null,
            "align_items": null,
            "bottom": null,
            "_model_module": "@jupyter-widgets/base",
            "top": null,
            "grid_column": null,
            "overflow_y": null,
            "overflow_x": null,
            "grid_auto_flow": null,
            "grid_area": null,
            "grid_template_columns": null,
            "flex": null,
            "_model_name": "LayoutModel",
            "justify_items": null,
            "grid_row": null,
            "max_height": null,
            "align_content": null,
            "visibility": null,
            "align_self": null,
            "height": null,
            "min_height": null,
            "padding": null,
            "grid_auto_rows": null,
            "grid_gap": null,
            "max_width": null,
            "order": null,
            "_view_module_version": "1.2.0",
            "grid_template_areas": null,
            "object_position": null,
            "object_fit": null,
            "grid_auto_columns": null,
            "margin": null,
            "display": null,
            "left": null
          }
        },
        "5a2ac6f905eb41ef8d9c1b61922815a7": {
          "model_module": "@jupyter-widgets/controls",
          "model_name": "TextModel",
          "state": {
            "_view_name": "TextView",
            "style": "IPY_MODEL_bc57c24882d54aac87ce3ffad7aa288e",
            "_dom_classes": [],
            "description": "gripper roll-pitch-yaw (rad): ",
            "_model_name": "TextModel",
            "placeholder": "​",
            "_view_module": "@jupyter-widgets/controls",
            "_model_module_version": "1.5.0",
            "value": "[-1.81 -0.00 0.00]",
            "_view_count": null,
            "disabled": false,
            "_view_module_version": "1.5.0",
            "continuous_update": true,
            "description_tooltip": null,
            "_model_module": "@jupyter-widgets/controls",
            "layout": "IPY_MODEL_1c707d91583f4522a9b49b5cdfd4e487"
          }
        },
        "bc57c24882d54aac87ce3ffad7aa288e": {
          "model_module": "@jupyter-widgets/controls",
          "model_name": "DescriptionStyleModel",
          "state": {
            "_view_name": "StyleView",
            "_model_name": "DescriptionStyleModel",
            "description_width": "initial",
            "_view_module": "@jupyter-widgets/base",
            "_model_module_version": "1.5.0",
            "_view_count": null,
            "_view_module_version": "1.2.0",
            "_model_module": "@jupyter-widgets/controls"
          }
        },
        "1c707d91583f4522a9b49b5cdfd4e487": {
          "model_module": "@jupyter-widgets/base",
          "model_name": "LayoutModel",
          "state": {
            "_view_name": "LayoutView",
            "grid_template_rows": null,
            "right": null,
            "justify_content": null,
            "_view_module": "@jupyter-widgets/base",
            "overflow": null,
            "_model_module_version": "1.2.0",
            "_view_count": null,
            "flex_flow": null,
            "width": "500px",
            "min_width": null,
            "border": null,
            "align_items": null,
            "bottom": null,
            "_model_module": "@jupyter-widgets/base",
            "top": null,
            "grid_column": null,
            "overflow_y": null,
            "overflow_x": null,
            "grid_auto_flow": null,
            "grid_area": null,
            "grid_template_columns": null,
            "flex": null,
            "_model_name": "LayoutModel",
            "justify_items": null,
            "grid_row": null,
            "max_height": null,
            "align_content": null,
            "visibility": null,
            "align_self": null,
            "height": null,
            "min_height": null,
            "padding": null,
            "grid_auto_rows": null,
            "grid_gap": null,
            "max_width": null,
            "order": null,
            "_view_module_version": "1.2.0",
            "grid_template_areas": null,
            "object_position": null,
            "object_fit": null,
            "grid_auto_columns": null,
            "margin": null,
            "display": null,
            "left": null
          }
        },
        "558e06c88aa34b21827fbe0525ed052a": {
          "model_module": "@jupyter-widgets/controls",
          "model_name": "FloatSliderModel",
          "state": {
            "_view_name": "FloatSliderView",
            "style": "IPY_MODEL_3f0c224255194d32bd5a4937f0b5ff02",
            "_dom_classes": [],
            "description": "iiwa_joint_1",
            "step": 0.01,
            "_model_name": "FloatSliderModel",
            "orientation": "horizontal",
            "max": 2.96706,
            "_view_module": "@jupyter-widgets/controls",
            "_model_module_version": "1.5.0",
            "value": -1.57,
            "_view_count": null,
            "disabled": false,
            "_view_module_version": "1.5.0",
            "min": -2.96706,
            "continuous_update": true,
            "readout_format": ".2f",
            "description_tooltip": null,
            "readout": true,
            "_model_module": "@jupyter-widgets/controls",
            "layout": "IPY_MODEL_57aa0377d3c7401885eee65e4908f543"
          }
        },
        "3f0c224255194d32bd5a4937f0b5ff02": {
          "model_module": "@jupyter-widgets/controls",
          "model_name": "SliderStyleModel",
          "state": {
            "_view_name": "StyleView",
            "handle_color": null,
            "_model_name": "SliderStyleModel",
            "description_width": "initial",
            "_view_module": "@jupyter-widgets/base",
            "_model_module_version": "1.5.0",
            "_view_count": null,
            "_view_module_version": "1.2.0",
            "_model_module": "@jupyter-widgets/controls"
          }
        },
        "57aa0377d3c7401885eee65e4908f543": {
          "model_module": "@jupyter-widgets/base",
          "model_name": "LayoutModel",
          "state": {
            "_view_name": "LayoutView",
            "grid_template_rows": null,
            "right": null,
            "justify_content": null,
            "_view_module": "@jupyter-widgets/base",
            "overflow": null,
            "_model_module_version": "1.2.0",
            "_view_count": null,
            "flex_flow": null,
            "width": "'200'",
            "min_width": null,
            "border": null,
            "align_items": null,
            "bottom": null,
            "_model_module": "@jupyter-widgets/base",
            "top": null,
            "grid_column": null,
            "overflow_y": null,
            "overflow_x": null,
            "grid_auto_flow": null,
            "grid_area": null,
            "grid_template_columns": null,
            "flex": null,
            "_model_name": "LayoutModel",
            "justify_items": null,
            "grid_row": null,
            "max_height": null,
            "align_content": null,
            "visibility": null,
            "align_self": null,
            "height": null,
            "min_height": null,
            "padding": null,
            "grid_auto_rows": null,
            "grid_gap": null,
            "max_width": null,
            "order": null,
            "_view_module_version": "1.2.0",
            "grid_template_areas": null,
            "object_position": null,
            "object_fit": null,
            "grid_auto_columns": null,
            "margin": null,
            "display": null,
            "left": null
          }
        },
        "68aeb0e928e74ce58dc5bd50746ab2f7": {
          "model_module": "@jupyter-widgets/controls",
          "model_name": "FloatSliderModel",
          "state": {
            "_view_name": "FloatSliderView",
            "style": "IPY_MODEL_317a9a42345a4a749c4c7287b1d5a194",
            "_dom_classes": [],
            "description": "iiwa_joint_2",
            "step": 0.01,
            "_model_name": "FloatSliderModel",
            "orientation": "horizontal",
            "max": 2.0944,
            "_view_module": "@jupyter-widgets/controls",
            "_model_module_version": "1.5.0",
            "value": 0.1,
            "_view_count": null,
            "disabled": false,
            "_view_module_version": "1.5.0",
            "min": -2.0944,
            "continuous_update": true,
            "readout_format": ".2f",
            "description_tooltip": null,
            "readout": true,
            "_model_module": "@jupyter-widgets/controls",
            "layout": "IPY_MODEL_fac9afd060ee4e608ab5783f09311c05"
          }
        },
        "317a9a42345a4a749c4c7287b1d5a194": {
          "model_module": "@jupyter-widgets/controls",
          "model_name": "SliderStyleModel",
          "state": {
            "_view_name": "StyleView",
            "handle_color": null,
            "_model_name": "SliderStyleModel",
            "description_width": "initial",
            "_view_module": "@jupyter-widgets/base",
            "_model_module_version": "1.5.0",
            "_view_count": null,
            "_view_module_version": "1.2.0",
            "_model_module": "@jupyter-widgets/controls"
          }
        },
        "fac9afd060ee4e608ab5783f09311c05": {
          "model_module": "@jupyter-widgets/base",
          "model_name": "LayoutModel",
          "state": {
            "_view_name": "LayoutView",
            "grid_template_rows": null,
            "right": null,
            "justify_content": null,
            "_view_module": "@jupyter-widgets/base",
            "overflow": null,
            "_model_module_version": "1.2.0",
            "_view_count": null,
            "flex_flow": null,
            "width": "'200'",
            "min_width": null,
            "border": null,
            "align_items": null,
            "bottom": null,
            "_model_module": "@jupyter-widgets/base",
            "top": null,
            "grid_column": null,
            "overflow_y": null,
            "overflow_x": null,
            "grid_auto_flow": null,
            "grid_area": null,
            "grid_template_columns": null,
            "flex": null,
            "_model_name": "LayoutModel",
            "justify_items": null,
            "grid_row": null,
            "max_height": null,
            "align_content": null,
            "visibility": null,
            "align_self": null,
            "height": null,
            "min_height": null,
            "padding": null,
            "grid_auto_rows": null,
            "grid_gap": null,
            "max_width": null,
            "order": null,
            "_view_module_version": "1.2.0",
            "grid_template_areas": null,
            "object_position": null,
            "object_fit": null,
            "grid_auto_columns": null,
            "margin": null,
            "display": null,
            "left": null
          }
        },
        "70c383b608db472aa32df1360a2ffe31": {
          "model_module": "@jupyter-widgets/controls",
          "model_name": "FloatSliderModel",
          "state": {
            "_view_name": "FloatSliderView",
            "style": "IPY_MODEL_c79e3f1db6b247e9bfe973964b49be9a",
            "_dom_classes": [],
            "description": "iiwa_joint_3",
            "step": 0.01,
            "_model_name": "FloatSliderModel",
            "orientation": "horizontal",
            "max": 2.96706,
            "_view_module": "@jupyter-widgets/controls",
            "_model_module_version": "1.5.0",
            "value": 0,
            "_view_count": null,
            "disabled": false,
            "_view_module_version": "1.5.0",
            "min": -2.96706,
            "continuous_update": true,
            "readout_format": ".2f",
            "description_tooltip": null,
            "readout": true,
            "_model_module": "@jupyter-widgets/controls",
            "layout": "IPY_MODEL_24ddb3108ea44d028affa7310284a9f3"
          }
        },
        "c79e3f1db6b247e9bfe973964b49be9a": {
          "model_module": "@jupyter-widgets/controls",
          "model_name": "SliderStyleModel",
          "state": {
            "_view_name": "StyleView",
            "handle_color": null,
            "_model_name": "SliderStyleModel",
            "description_width": "initial",
            "_view_module": "@jupyter-widgets/base",
            "_model_module_version": "1.5.0",
            "_view_count": null,
            "_view_module_version": "1.2.0",
            "_model_module": "@jupyter-widgets/controls"
          }
        },
        "24ddb3108ea44d028affa7310284a9f3": {
          "model_module": "@jupyter-widgets/base",
          "model_name": "LayoutModel",
          "state": {
            "_view_name": "LayoutView",
            "grid_template_rows": null,
            "right": null,
            "justify_content": null,
            "_view_module": "@jupyter-widgets/base",
            "overflow": null,
            "_model_module_version": "1.2.0",
            "_view_count": null,
            "flex_flow": null,
            "width": "'200'",
            "min_width": null,
            "border": null,
            "align_items": null,
            "bottom": null,
            "_model_module": "@jupyter-widgets/base",
            "top": null,
            "grid_column": null,
            "overflow_y": null,
            "overflow_x": null,
            "grid_auto_flow": null,
            "grid_area": null,
            "grid_template_columns": null,
            "flex": null,
            "_model_name": "LayoutModel",
            "justify_items": null,
            "grid_row": null,
            "max_height": null,
            "align_content": null,
            "visibility": null,
            "align_self": null,
            "height": null,
            "min_height": null,
            "padding": null,
            "grid_auto_rows": null,
            "grid_gap": null,
            "max_width": null,
            "order": null,
            "_view_module_version": "1.2.0",
            "grid_template_areas": null,
            "object_position": null,
            "object_fit": null,
            "grid_auto_columns": null,
            "margin": null,
            "display": null,
            "left": null
          }
        },
        "84f45b72e03f40f7b8ed5e282e3e9e60": {
          "model_module": "@jupyter-widgets/controls",
          "model_name": "FloatSliderModel",
          "state": {
            "_view_name": "FloatSliderView",
            "style": "IPY_MODEL_c7e02045e3464dfd80ebdf6689daa357",
            "_dom_classes": [],
            "description": "iiwa_joint_4",
            "step": 0.01,
            "_model_name": "FloatSliderModel",
            "orientation": "horizontal",
            "max": 2.0944,
            "_view_module": "@jupyter-widgets/controls",
            "_model_module_version": "1.5.0",
            "value": -1.2,
            "_view_count": null,
            "disabled": false,
            "_view_module_version": "1.5.0",
            "min": -2.0944,
            "continuous_update": true,
            "readout_format": ".2f",
            "description_tooltip": null,
            "readout": true,
            "_model_module": "@jupyter-widgets/controls",
            "layout": "IPY_MODEL_77a7c4bd453f40ada83500809bf63c4c"
          }
        },
        "c7e02045e3464dfd80ebdf6689daa357": {
          "model_module": "@jupyter-widgets/controls",
          "model_name": "SliderStyleModel",
          "state": {
            "_view_name": "StyleView",
            "handle_color": null,
            "_model_name": "SliderStyleModel",
            "description_width": "initial",
            "_view_module": "@jupyter-widgets/base",
            "_model_module_version": "1.5.0",
            "_view_count": null,
            "_view_module_version": "1.2.0",
            "_model_module": "@jupyter-widgets/controls"
          }
        },
        "77a7c4bd453f40ada83500809bf63c4c": {
          "model_module": "@jupyter-widgets/base",
          "model_name": "LayoutModel",
          "state": {
            "_view_name": "LayoutView",
            "grid_template_rows": null,
            "right": null,
            "justify_content": null,
            "_view_module": "@jupyter-widgets/base",
            "overflow": null,
            "_model_module_version": "1.2.0",
            "_view_count": null,
            "flex_flow": null,
            "width": "'200'",
            "min_width": null,
            "border": null,
            "align_items": null,
            "bottom": null,
            "_model_module": "@jupyter-widgets/base",
            "top": null,
            "grid_column": null,
            "overflow_y": null,
            "overflow_x": null,
            "grid_auto_flow": null,
            "grid_area": null,
            "grid_template_columns": null,
            "flex": null,
            "_model_name": "LayoutModel",
            "justify_items": null,
            "grid_row": null,
            "max_height": null,
            "align_content": null,
            "visibility": null,
            "align_self": null,
            "height": null,
            "min_height": null,
            "padding": null,
            "grid_auto_rows": null,
            "grid_gap": null,
            "max_width": null,
            "order": null,
            "_view_module_version": "1.2.0",
            "grid_template_areas": null,
            "object_position": null,
            "object_fit": null,
            "grid_auto_columns": null,
            "margin": null,
            "display": null,
            "left": null
          }
        },
        "93ae3bb2356148e888e04bcff732203b": {
          "model_module": "@jupyter-widgets/controls",
          "model_name": "FloatSliderModel",
          "state": {
            "_view_name": "FloatSliderView",
            "style": "IPY_MODEL_50a0a63bc7764790b1e7c74f55303c08",
            "_dom_classes": [],
            "description": "iiwa_joint_5",
            "step": 0.01,
            "_model_name": "FloatSliderModel",
            "orientation": "horizontal",
            "max": 2.96706,
            "_view_module": "@jupyter-widgets/controls",
            "_model_module_version": "1.5.0",
            "value": 0,
            "_view_count": null,
            "disabled": false,
            "_view_module_version": "1.5.0",
            "min": -2.96706,
            "continuous_update": true,
            "readout_format": ".2f",
            "description_tooltip": null,
            "readout": true,
            "_model_module": "@jupyter-widgets/controls",
            "layout": "IPY_MODEL_8c697857dd524b82a81e2826e93bbb06"
          }
        },
        "50a0a63bc7764790b1e7c74f55303c08": {
          "model_module": "@jupyter-widgets/controls",
          "model_name": "SliderStyleModel",
          "state": {
            "_view_name": "StyleView",
            "handle_color": null,
            "_model_name": "SliderStyleModel",
            "description_width": "initial",
            "_view_module": "@jupyter-widgets/base",
            "_model_module_version": "1.5.0",
            "_view_count": null,
            "_view_module_version": "1.2.0",
            "_model_module": "@jupyter-widgets/controls"
          }
        },
        "8c697857dd524b82a81e2826e93bbb06": {
          "model_module": "@jupyter-widgets/base",
          "model_name": "LayoutModel",
          "state": {
            "_view_name": "LayoutView",
            "grid_template_rows": null,
            "right": null,
            "justify_content": null,
            "_view_module": "@jupyter-widgets/base",
            "overflow": null,
            "_model_module_version": "1.2.0",
            "_view_count": null,
            "flex_flow": null,
            "width": "'200'",
            "min_width": null,
            "border": null,
            "align_items": null,
            "bottom": null,
            "_model_module": "@jupyter-widgets/base",
            "top": null,
            "grid_column": null,
            "overflow_y": null,
            "overflow_x": null,
            "grid_auto_flow": null,
            "grid_area": null,
            "grid_template_columns": null,
            "flex": null,
            "_model_name": "LayoutModel",
            "justify_items": null,
            "grid_row": null,
            "max_height": null,
            "align_content": null,
            "visibility": null,
            "align_self": null,
            "height": null,
            "min_height": null,
            "padding": null,
            "grid_auto_rows": null,
            "grid_gap": null,
            "max_width": null,
            "order": null,
            "_view_module_version": "1.2.0",
            "grid_template_areas": null,
            "object_position": null,
            "object_fit": null,
            "grid_auto_columns": null,
            "margin": null,
            "display": null,
            "left": null
          }
        },
        "f50dc85586d14218a32c05f52b6fb27f": {
          "model_module": "@jupyter-widgets/controls",
          "model_name": "FloatSliderModel",
          "state": {
            "_view_name": "FloatSliderView",
            "style": "IPY_MODEL_419b917b76384698a3bd7390de90e798",
            "_dom_classes": [],
            "description": "iiwa_joint_6",
            "step": 0.01,
            "_model_name": "FloatSliderModel",
            "orientation": "horizontal",
            "max": 2.0944,
            "_view_module": "@jupyter-widgets/controls",
            "_model_module_version": "1.5.0",
            "value": 1.6,
            "_view_count": null,
            "disabled": false,
            "_view_module_version": "1.5.0",
            "min": -2.0944,
            "continuous_update": true,
            "readout_format": ".2f",
            "description_tooltip": null,
            "readout": true,
            "_model_module": "@jupyter-widgets/controls",
            "layout": "IPY_MODEL_0934af88075548ebabede2ef3c50718d"
          }
        },
        "419b917b76384698a3bd7390de90e798": {
          "model_module": "@jupyter-widgets/controls",
          "model_name": "SliderStyleModel",
          "state": {
            "_view_name": "StyleView",
            "handle_color": null,
            "_model_name": "SliderStyleModel",
            "description_width": "initial",
            "_view_module": "@jupyter-widgets/base",
            "_model_module_version": "1.5.0",
            "_view_count": null,
            "_view_module_version": "1.2.0",
            "_model_module": "@jupyter-widgets/controls"
          }
        },
        "0934af88075548ebabede2ef3c50718d": {
          "model_module": "@jupyter-widgets/base",
          "model_name": "LayoutModel",
          "state": {
            "_view_name": "LayoutView",
            "grid_template_rows": null,
            "right": null,
            "justify_content": null,
            "_view_module": "@jupyter-widgets/base",
            "overflow": null,
            "_model_module_version": "1.2.0",
            "_view_count": null,
            "flex_flow": null,
            "width": "'200'",
            "min_width": null,
            "border": null,
            "align_items": null,
            "bottom": null,
            "_model_module": "@jupyter-widgets/base",
            "top": null,
            "grid_column": null,
            "overflow_y": null,
            "overflow_x": null,
            "grid_auto_flow": null,
            "grid_area": null,
            "grid_template_columns": null,
            "flex": null,
            "_model_name": "LayoutModel",
            "justify_items": null,
            "grid_row": null,
            "max_height": null,
            "align_content": null,
            "visibility": null,
            "align_self": null,
            "height": null,
            "min_height": null,
            "padding": null,
            "grid_auto_rows": null,
            "grid_gap": null,
            "max_width": null,
            "order": null,
            "_view_module_version": "1.2.0",
            "grid_template_areas": null,
            "object_position": null,
            "object_fit": null,
            "grid_auto_columns": null,
            "margin": null,
            "display": null,
            "left": null
          }
        },
        "f9738972396349b5b174874797558545": {
          "model_module": "@jupyter-widgets/controls",
          "model_name": "FloatSliderModel",
          "state": {
            "_view_name": "FloatSliderView",
            "style": "IPY_MODEL_03ede6e71a7e43b88d584f2238538ce8",
            "_dom_classes": [],
            "description": "iiwa_joint_7",
            "step": 0.01,
            "_model_name": "FloatSliderModel",
            "orientation": "horizontal",
            "max": 3.05433,
            "_view_module": "@jupyter-widgets/controls",
            "_model_module_version": "1.5.0",
            "value": 0,
            "_view_count": null,
            "disabled": false,
            "_view_module_version": "1.5.0",
            "min": -3.05433,
            "continuous_update": true,
            "readout_format": ".2f",
            "description_tooltip": null,
            "readout": true,
            "_model_module": "@jupyter-widgets/controls",
            "layout": "IPY_MODEL_c5a4ed30eb0e442e857707bbee903de0"
          }
        },
        "03ede6e71a7e43b88d584f2238538ce8": {
          "model_module": "@jupyter-widgets/controls",
          "model_name": "SliderStyleModel",
          "state": {
            "_view_name": "StyleView",
            "handle_color": null,
            "_model_name": "SliderStyleModel",
            "description_width": "initial",
            "_view_module": "@jupyter-widgets/base",
            "_model_module_version": "1.5.0",
            "_view_count": null,
            "_view_module_version": "1.2.0",
            "_model_module": "@jupyter-widgets/controls"
          }
        },
        "c5a4ed30eb0e442e857707bbee903de0": {
          "model_module": "@jupyter-widgets/base",
          "model_name": "LayoutModel",
          "state": {
            "_view_name": "LayoutView",
            "grid_template_rows": null,
            "right": null,
            "justify_content": null,
            "_view_module": "@jupyter-widgets/base",
            "overflow": null,
            "_model_module_version": "1.2.0",
            "_view_count": null,
            "flex_flow": null,
            "width": "'200'",
            "min_width": null,
            "border": null,
            "align_items": null,
            "bottom": null,
            "_model_module": "@jupyter-widgets/base",
            "top": null,
            "grid_column": null,
            "overflow_y": null,
            "overflow_x": null,
            "grid_auto_flow": null,
            "grid_area": null,
            "grid_template_columns": null,
            "flex": null,
            "_model_name": "LayoutModel",
            "justify_items": null,
            "grid_row": null,
            "max_height": null,
            "align_content": null,
            "visibility": null,
            "align_self": null,
            "height": null,
            "min_height": null,
            "padding": null,
            "grid_auto_rows": null,
            "grid_gap": null,
            "max_width": null,
            "order": null,
            "_view_module_version": "1.2.0",
            "grid_template_areas": null,
            "object_position": null,
            "object_fit": null,
            "grid_auto_columns": null,
            "margin": null,
            "display": null,
            "left": null
          }
        },
        "88e616df2d704f8eaa4aa445973a8a92": {
          "model_module": "@jupyter-widgets/controls",
          "model_name": "FloatSliderModel",
          "state": {
            "_view_name": "FloatSliderView",
            "style": "IPY_MODEL_fcd0376d291442ba981670aca5acc61c",
            "_dom_classes": [],
            "description": "left_finger_sliding_joint",
            "step": 0.01,
            "_model_name": "FloatSliderModel",
            "orientation": "horizontal",
            "max": 0,
            "_view_module": "@jupyter-widgets/controls",
            "_model_module_version": "1.5.0",
            "value": -0.05,
            "_view_count": null,
            "disabled": false,
            "_view_module_version": "1.5.0",
            "min": -0.055,
            "continuous_update": true,
            "readout_format": ".2f",
            "description_tooltip": null,
            "readout": true,
            "_model_module": "@jupyter-widgets/controls",
            "layout": "IPY_MODEL_c1c489ef82c04cffbf56b35d063b67df"
          }
        },
        "fcd0376d291442ba981670aca5acc61c": {
          "model_module": "@jupyter-widgets/controls",
          "model_name": "SliderStyleModel",
          "state": {
            "_view_name": "StyleView",
            "handle_color": null,
            "_model_name": "SliderStyleModel",
            "description_width": "initial",
            "_view_module": "@jupyter-widgets/base",
            "_model_module_version": "1.5.0",
            "_view_count": null,
            "_view_module_version": "1.2.0",
            "_model_module": "@jupyter-widgets/controls"
          }
        },
        "c1c489ef82c04cffbf56b35d063b67df": {
          "model_module": "@jupyter-widgets/base",
          "model_name": "LayoutModel",
          "state": {
            "_view_name": "LayoutView",
            "grid_template_rows": null,
            "right": null,
            "justify_content": null,
            "_view_module": "@jupyter-widgets/base",
            "overflow": null,
            "_model_module_version": "1.2.0",
            "_view_count": null,
            "flex_flow": null,
            "width": "'200'",
            "min_width": null,
            "border": null,
            "align_items": null,
            "bottom": null,
            "_model_module": "@jupyter-widgets/base",
            "top": null,
            "grid_column": null,
            "overflow_y": null,
            "overflow_x": null,
            "grid_auto_flow": null,
            "grid_area": null,
            "grid_template_columns": null,
            "flex": null,
            "_model_name": "LayoutModel",
            "justify_items": null,
            "grid_row": null,
            "max_height": null,
            "align_content": null,
            "visibility": null,
            "align_self": null,
            "height": null,
            "min_height": null,
            "padding": null,
            "grid_auto_rows": null,
            "grid_gap": null,
            "max_width": null,
            "order": null,
            "_view_module_version": "1.2.0",
            "grid_template_areas": null,
            "object_position": null,
            "object_fit": null,
            "grid_auto_columns": null,
            "margin": null,
            "display": null,
            "left": null
          }
        },
        "59fa725f035d425f88d99411ae36e05d": {
          "model_module": "@jupyter-widgets/controls",
          "model_name": "FloatSliderModel",
          "state": {
            "_view_name": "FloatSliderView",
            "style": "IPY_MODEL_d125521f65724f2396c9d05fd708daa8",
            "_dom_classes": [],
            "description": "right_finger_sliding_joint",
            "step": 0.01,
            "_model_name": "FloatSliderModel",
            "orientation": "horizontal",
            "max": 0.055,
            "_view_module": "@jupyter-widgets/controls",
            "_model_module_version": "1.5.0",
            "value": 0.05,
            "_view_count": null,
            "disabled": false,
            "_view_module_version": "1.5.0",
            "min": 0,
            "continuous_update": true,
            "readout_format": ".2f",
            "description_tooltip": null,
            "readout": true,
            "_model_module": "@jupyter-widgets/controls",
            "layout": "IPY_MODEL_d52f2c07aabb42dea7160cc7a7fe6ebc"
          }
        },
        "d125521f65724f2396c9d05fd708daa8": {
          "model_module": "@jupyter-widgets/controls",
          "model_name": "SliderStyleModel",
          "state": {
            "_view_name": "StyleView",
            "handle_color": null,
            "_model_name": "SliderStyleModel",
            "description_width": "initial",
            "_view_module": "@jupyter-widgets/base",
            "_model_module_version": "1.5.0",
            "_view_count": null,
            "_view_module_version": "1.2.0",
            "_model_module": "@jupyter-widgets/controls"
          }
        },
        "d52f2c07aabb42dea7160cc7a7fe6ebc": {
          "model_module": "@jupyter-widgets/base",
          "model_name": "LayoutModel",
          "state": {
            "_view_name": "LayoutView",
            "grid_template_rows": null,
            "right": null,
            "justify_content": null,
            "_view_module": "@jupyter-widgets/base",
            "overflow": null,
            "_model_module_version": "1.2.0",
            "_view_count": null,
            "flex_flow": null,
            "width": "'200'",
            "min_width": null,
            "border": null,
            "align_items": null,
            "bottom": null,
            "_model_module": "@jupyter-widgets/base",
            "top": null,
            "grid_column": null,
            "overflow_y": null,
            "overflow_x": null,
            "grid_auto_flow": null,
            "grid_area": null,
            "grid_template_columns": null,
            "flex": null,
            "_model_name": "LayoutModel",
            "justify_items": null,
            "grid_row": null,
            "max_height": null,
            "align_content": null,
            "visibility": null,
            "align_self": null,
            "height": null,
            "min_height": null,
            "padding": null,
            "grid_auto_rows": null,
            "grid_gap": null,
            "max_width": null,
            "order": null,
            "_view_module_version": "1.2.0",
            "grid_template_areas": null,
            "object_position": null,
            "object_fit": null,
            "grid_auto_columns": null,
            "margin": null,
            "display": null,
            "left": null
          }
        },
        "68c9d5be0595422cabb49b5a1b007f4d": {
          "model_module": "@jupyter-widgets/controls",
          "model_name": "TextareaModel",
          "state": {
            "_view_name": "TextareaView",
            "style": "IPY_MODEL_e1dc95e29ad24621a06a4654e7764bb5",
            "rows": null,
            "_dom_classes": [],
            "description": "J_G: ",
            "_model_name": "TextareaModel",
            "placeholder": "​",
            "_view_module": "@jupyter-widgets/controls",
            "_model_module_version": "1.5.0",
            "value": "[[  0.0   1.0   0.0  -1.0   0.0   1.0   0.0   0.0   0.0]\n [  0.0   0.0  -0.1  -0.0  -1.0   0.0  -0.2   0.0   0.0]\n [  1.0   0.0   1.0  -0.0   0.3   0.0  -1.0   0.0   0.0]\n [  0.5   0.0   0.4   0.0   0.2  -0.0  -0.0   0.0   0.0]\n [  0.0  -0.3   0.0  -0.1   0.0   0.2  -0.0   0.0   0.0]\n [  0.0  -0.5   0.0   0.4   0.0  -0.0  -0.0   0.0   0.0]]",
            "_view_count": null,
            "disabled": false,
            "_view_module_version": "1.5.0",
            "continuous_update": true,
            "description_tooltip": null,
            "_model_module": "@jupyter-widgets/controls",
            "layout": "IPY_MODEL_f54b0bc8d945457cbcf211d14e3d6a14"
          }
        },
        "e1dc95e29ad24621a06a4654e7764bb5": {
          "model_module": "@jupyter-widgets/controls",
          "model_name": "DescriptionStyleModel",
          "state": {
            "_view_name": "StyleView",
            "_model_name": "DescriptionStyleModel",
            "description_width": "initial",
            "_view_module": "@jupyter-widgets/base",
            "_model_module_version": "1.5.0",
            "_view_count": null,
            "_view_module_version": "1.2.0",
            "_model_module": "@jupyter-widgets/controls"
          }
        },
        "f54b0bc8d945457cbcf211d14e3d6a14": {
          "model_module": "@jupyter-widgets/base",
          "model_name": "LayoutModel",
          "state": {
            "_view_name": "LayoutView",
            "grid_template_rows": null,
            "right": null,
            "justify_content": null,
            "_view_module": "@jupyter-widgets/base",
            "overflow": null,
            "_model_module_version": "1.2.0",
            "_view_count": null,
            "flex_flow": null,
            "width": "60%",
            "min_width": null,
            "border": null,
            "align_items": null,
            "bottom": null,
            "_model_module": "@jupyter-widgets/base",
            "top": null,
            "grid_column": null,
            "overflow_y": null,
            "overflow_x": null,
            "grid_auto_flow": null,
            "grid_area": null,
            "grid_template_columns": null,
            "flex": null,
            "_model_name": "LayoutModel",
            "justify_items": null,
            "grid_row": null,
            "max_height": null,
            "align_content": null,
            "visibility": null,
            "align_self": null,
            "height": "100px",
            "min_height": null,
            "padding": null,
            "grid_auto_rows": null,
            "grid_gap": null,
            "max_width": null,
            "order": null,
            "_view_module_version": "1.2.0",
            "grid_template_areas": null,
            "object_position": null,
            "object_fit": null,
            "grid_auto_columns": null,
            "margin": null,
            "display": null,
            "left": null
          }
        },
        "97dbca0e0fd949bf994bf8fd32990f39": {
          "model_module": "@jupyter-widgets/controls",
          "model_name": "TextModel",
          "state": {
            "_view_name": "TextView",
            "style": "IPY_MODEL_df16cef2cc9c4af8a37ed9133c695d44",
            "_dom_classes": [],
            "description": "smallest singular value(J_G): ",
            "_model_name": "TextModel",
            "placeholder": "​",
            "_view_module": "@jupyter-widgets/controls",
            "_model_module_version": "1.5.0",
            "value": "0.17931039621645192",
            "_view_count": null,
            "disabled": false,
            "_view_module_version": "1.5.0",
            "continuous_update": true,
            "description_tooltip": null,
            "_model_module": "@jupyter-widgets/controls",
            "layout": "IPY_MODEL_7276a9383f314d318d9dde7ac45f303e"
          }
        },
        "df16cef2cc9c4af8a37ed9133c695d44": {
          "model_module": "@jupyter-widgets/controls",
          "model_name": "DescriptionStyleModel",
          "state": {
            "_view_name": "StyleView",
            "_model_name": "DescriptionStyleModel",
            "description_width": "initial",
            "_view_module": "@jupyter-widgets/base",
            "_model_module_version": "1.5.0",
            "_view_count": null,
            "_view_module_version": "1.2.0",
            "_model_module": "@jupyter-widgets/controls"
          }
        },
        "7276a9383f314d318d9dde7ac45f303e": {
          "model_module": "@jupyter-widgets/base",
          "model_name": "LayoutModel",
          "state": {
            "_view_name": "LayoutView",
            "grid_template_rows": null,
            "right": null,
            "justify_content": null,
            "_view_module": "@jupyter-widgets/base",
            "overflow": null,
            "_model_module_version": "1.2.0",
            "_view_count": null,
            "flex_flow": null,
            "width": "60%",
            "min_width": null,
            "border": null,
            "align_items": null,
            "bottom": null,
            "_model_module": "@jupyter-widgets/base",
            "top": null,
            "grid_column": null,
            "overflow_y": null,
            "overflow_x": null,
            "grid_auto_flow": null,
            "grid_area": null,
            "grid_template_columns": null,
            "flex": null,
            "_model_name": "LayoutModel",
            "justify_items": null,
            "grid_row": null,
            "max_height": null,
            "align_content": null,
            "visibility": null,
            "align_self": null,
            "height": null,
            "min_height": null,
            "padding": null,
            "grid_auto_rows": null,
            "grid_gap": null,
            "max_width": null,
            "order": null,
            "_view_module_version": "1.2.0",
            "grid_template_areas": null,
            "object_position": null,
            "object_fit": null,
            "grid_auto_columns": null,
            "margin": null,
            "display": null,
            "left": null
          }
        }
      }
    }
  },
  "cells": [
    {
      "cell_type": "markdown",
      "metadata": {
        "id": "view-in-github",
        "colab_type": "text"
      },
      "source": [
        "<a href=\"https://colab.research.google.com/github/IzzyBrand/robotBottleFlip/blob/main/flip.ipynb\" target=\"_parent\"><img src=\"https://colab.research.google.com/assets/colab-badge.svg\" alt=\"Open In Colab\"/></a>"
      ]
    },
    {
      "cell_type": "markdown",
      "metadata": {
        "id": "EgiF12Hf1Dhs"
      },
      "source": [
        "**I recommend you run the first code cell of this notebook immediately, to start provisioning drake on the cloud machine, then you can leave this window open as you [read the textbook](manipulation.csail.mit.edu/pick.html).**\n",
        "\n",
        "# Notebook setup\n",
        "\n",
        "The following cell will:\n",
        "- on Colab (only), install Drake to `/opt/drake`, install Drake's prerequisites via `apt`, and add pydrake to `sys.path`.  This will take approximately two minutes on the first time it runs (to provision the machine), but should only need to reinstall once every 12 hours.  If you navigate between notebooks using Colab's \"File->Open\" menu, then you can avoid provisioning a separate machine for each notebook.\n",
        "- launch a server for our 3D visualizer (MeshCat) that will be used for the remainder of this notebook.\n",
        "\n",
        "You will need to rerun this cell if you restart the kernel, but it should be fast because the machine will already have drake installed."
      ]
    },
    {
      "cell_type": "code",
      "metadata": {
        "id": "eeMrMI0-1Dhu"
      },
      "source": [
        "import importlib\n",
        "import sys\n",
        "from urllib.request import urlretrieve\n",
        "\n",
        "# Install drake.\n",
        "if 'google.colab' in sys.modules and importlib.util.find_spec('pydrake') is None:\n",
        "  version='20200918'\n",
        "  build='nightly'\n",
        "  urlretrieve(f\"https://drake-packages.csail.mit.edu/drake/{build}/drake-{version}/setup_drake_colab.py\",\n",
        "              \"setup_drake_colab.py\")\n",
        "  from setup_drake_colab import setup_drake\n",
        "  setup_drake(version=version, build=build)\n",
        "  !pip install pyngrok==4.2.2\n",
        "\n",
        "# Determine if this notebook is currently running as a notebook or a unit test.\n",
        "from IPython import get_ipython\n",
        "running_as_notebook = get_ipython() and hasattr(get_ipython(), 'kernel')\n",
        "\n",
        "# Install pyngrok.\n",
        "server_args = []\n",
        "if 'google.colab' in sys.modules:\n",
        "  server_args = ['--ngrok_http_tunnel']\n",
        "\n",
        "# Start a single meshcat server instance to use for the remainder of this notebook.\n",
        "from meshcat.servers.zmqserver import start_zmq_server_as_subprocess\n",
        "proc, zmq_url, web_url = start_zmq_server_as_subprocess(server_args=server_args)\n",
        "\n",
        "\n",
        "# Let's do all of our imports here, too.\n",
        "import numpy as np\n",
        "import altair as alt\n",
        "import pydot\n",
        "from IPython.display import display, SVG\n",
        "from ipywidgets import Text, Textarea, Layout\n",
        "import plotly.express as px\n",
        "\n",
        "from pydrake.all import (\n",
        "    AddMultibodyPlantSceneGraph, AngleAxis, BasicVector, ConnectMeshcatVisualizer, \n",
        "    DiagramBuilder, FindResourceOrThrow, Integrator, JacobianWrtVariable, \n",
        "    LeafSystem, MultibodyPlant, MultibodyPositionToGeometryPose, Parser, \n",
        "    PiecewisePolynomial, PiecewiseQuaternionSlerp, Quaternion, RigidTransform, \n",
        "    RollPitchYaw, RotationMatrix, SceneGraph, Simulator, TrajectorySource\n",
        ")\n",
        "from pydrake.examples.manipulation_station import ManipulationStation\n",
        "from pydrake.multibody.jupyter_widgets import MakeJointSlidersThatPublishOnCallback\n",
        "\n",
        "# TODO(russt): Move this to drake (adding the element name support to the base class).\n",
        "import pandas as pd\n",
        "\n",
        "def dataframe(trajectory, times, names):\n",
        "  assert trajectory.rows() == len(names)\n",
        "  values = trajectory.vector_values(times)\n",
        "  data = {'t': times }\n",
        "  for i in range(len(names)):\n",
        "    data[names[i]] = values[i,:]\n",
        "  return pd.DataFrame(data)"
      ],
      "execution_count": 71,
      "outputs": []
    },
    {
      "cell_type": "markdown",
      "metadata": {
        "id": "7q0A14bAilIX"
      },
      "source": [
        "# Inspecting the kinematic tree\n",
        "\n",
        "Here is a simple example that demonstrates how to inspect the kinematic tree stored in a `MultibodyPlant`."
      ]
    },
    {
      "cell_type": "code",
      "metadata": {
        "id": "ILYLouFTjv6e",
        "outputId": "72eb363c-70c9-4c23-ee50-05ad0b3665de",
        "colab": {
          "base_uri": "https://localhost:8080/",
          "height": 874
        }
      },
      "source": [
        "def kinematic_tree_example():\n",
        "    plant = MultibodyPlant(time_step=0.0)\n",
        "    parser = Parser(plant)\n",
        "    parser.AddModelFromFile(FindResourceOrThrow(\n",
        "        \"drake/manipulation/models/allegro_hand_description/sdf/allegro_hand_description_right.sdf\"))\n",
        "    parser.AddModelFromFile(FindResourceOrThrow(\n",
        "        \"drake/examples/manipulation_station/models/061_foam_brick.sdf\"))\n",
        "    plant.Finalize()\n",
        "\n",
        "    # TODO(russt): Add floating base connections\n",
        "    # TODO(russt): Consider a more interactive javascript rendering?\n",
        "    display(SVG(pydot.graph_from_dot_data(plant.GetTopologyGraphvizString())[0].create_svg()))\n",
        "\n",
        "kinematic_tree_example()"
      ],
      "execution_count": 72,
      "outputs": [
        {
          "output_type": "stream",
          "text": [
            "[2020-11-11 20:51:26.020] [console] [warning] Currently MultibodyPlant does not handle joint limits for continuous models. However some joints do specify limits. Consider setting a non-zero time step in the MultibodyPlant constructor; this will put MultibodyPlant in discrete-time mode, which does support joint limits.\n",
            "[2020-11-11 20:51:26.025] [console] [warning] Joints that specify limits are: `joint_0`, `joint_1`, `joint_2`, `joint_3`, `joint_12`, `joint_13`, `joint_14`, `joint_15`, `joint_4`, `joint_5`, `joint_6`, `joint_7`, `joint_8`, `joint_9`, `joint_10`, `joint_11`.\n"
          ],
          "name": "stderr"
        },
        {
          "output_type": "display_data",
          "data": {
            "text/plain": [
              "<IPython.core.display.SVG object>"
            ],
            "image/svg+xml": "<svg height=\"599pt\" viewBox=\"0.00 0.00 989.00 599.00\" width=\"989pt\" xmlns=\"http://www.w3.org/2000/svg\" xmlns:xlink=\"http://www.w3.org/1999/xlink\">\n<g class=\"graph\" id=\"graph0\" transform=\"scale(1 1) rotate(0) translate(4 595)\">\n<title>MultibodyPlant</title>\n<polygon fill=\"#ffffff\" points=\"-4,4 -4,-595 985,-595 985,4 -4,4\" stroke=\"transparent\"/>\n<g class=\"cluster\" id=\"clust1\">\n<title>cluster0</title>\n<polygon fill=\"none\" points=\"8,-8 8,-83 175,-83 175,-8 8,-8\" stroke=\"#000000\"/>\n<text fill=\"#000000\" font-family=\"Times,serif\" font-size=\"14.00\" text-anchor=\"middle\" x=\"91.5\" y=\"-15.8\">WorldModelInstance</text>\n</g>\n<g class=\"cluster\" id=\"clust3\">\n<title>cluster2</title>\n<polygon fill=\"none\" points=\"183,-8 183,-583 839,-583 839,-8 183,-8\" stroke=\"#000000\"/>\n<text fill=\"#000000\" font-family=\"Times,serif\" font-size=\"14.00\" text-anchor=\"middle\" x=\"511\" y=\"-15.8\">allegro_hand_right</text>\n</g>\n<g class=\"cluster\" id=\"clust4\">\n<title>cluster3</title>\n<polygon fill=\"none\" points=\"847,-8 847,-83 973,-83 973,-8 847,-8\" stroke=\"#000000\"/>\n<text fill=\"#000000\" font-family=\"Times,serif\" font-size=\"14.00\" text-anchor=\"middle\" x=\"910\" y=\"-15.8\">foam_brick</text>\n</g>\n<!-- body0 -->\n<g class=\"node\" id=\"node1\">\n<title>body0</title>\n<ellipse cx=\"91\" cy=\"-57\" fill=\"none\" rx=\"62.2891\" ry=\"18\" stroke=\"#000000\"/>\n<text fill=\"#000000\" font-family=\"Times,serif\" font-size=\"14.00\" text-anchor=\"middle\" x=\"91\" y=\"-53.3\">WorldBody</text>\n</g>\n<!-- body1 -->\n<g class=\"node\" id=\"node2\">\n<title>body1</title>\n<ellipse cx=\"458\" cy=\"-557\" fill=\"none\" rx=\"57.6901\" ry=\"18\" stroke=\"#000000\"/>\n<text fill=\"#000000\" font-family=\"Times,serif\" font-size=\"14.00\" text-anchor=\"middle\" x=\"458\" y=\"-553.3\">hand_root</text>\n</g>\n<!-- body2 -->\n<g class=\"node\" id=\"node3\">\n<title>body2</title>\n<ellipse cx=\"707\" cy=\"-432\" fill=\"none\" rx=\"38.9931\" ry=\"18\" stroke=\"#000000\"/>\n<text fill=\"#000000\" font-family=\"Times,serif\" font-size=\"14.00\" text-anchor=\"middle\" x=\"707\" y=\"-428.3\">link_0</text>\n</g>\n<!-- body2&#45;&gt;body1 -->\n<g class=\"edge\" id=\"edge1\">\n<title>body2-&gt;body1</title>\n<path d=\"M697.2954,-449.5448C687.5892,-465.5035 671.2167,-488.5563 651,-502 612.5682,-527.5564 562.2321,-541.391 522.6022,-548.7919\" fill=\"none\" stroke=\"#000000\"/>\n<polygon fill=\"#000000\" points=\"521.7462,-545.389 512.5112,-550.5818 522.9688,-552.2814 521.7462,-545.389\" stroke=\"#000000\"/>\n<text fill=\"#000000\" font-family=\"Times,serif\" font-size=\"14.00\" text-anchor=\"middle\" x=\"730\" y=\"-490.8\">joint_0 [revolute]</text>\n</g>\n<!-- body3 -->\n<g class=\"node\" id=\"node4\">\n<title>body3</title>\n<ellipse cx=\"707\" cy=\"-307\" fill=\"none\" rx=\"38.9931\" ry=\"18\" stroke=\"#000000\"/>\n<text fill=\"#000000\" font-family=\"Times,serif\" font-size=\"14.00\" text-anchor=\"middle\" x=\"707\" y=\"-303.3\">link_1</text>\n</g>\n<!-- body3&#45;&gt;body2 -->\n<g class=\"edge\" id=\"edge2\">\n<title>body3-&gt;body2</title>\n<path d=\"M707,-325.1761C707,-345.7277 707,-379.4528 707,-403.5107\" fill=\"none\" stroke=\"#000000\"/>\n<polygon fill=\"#000000\" points=\"703.5001,-403.802 707,-413.802 710.5001,-403.802 703.5001,-403.802\" stroke=\"#000000\"/>\n<text fill=\"#000000\" font-family=\"Times,serif\" font-size=\"14.00\" text-anchor=\"middle\" x=\"769\" y=\"-365.8\">joint_1 [revolute]</text>\n</g>\n<!-- body4 -->\n<g class=\"node\" id=\"node5\">\n<title>body4</title>\n<ellipse cx=\"707\" cy=\"-182\" fill=\"none\" rx=\"38.9931\" ry=\"18\" stroke=\"#000000\"/>\n<text fill=\"#000000\" font-family=\"Times,serif\" font-size=\"14.00\" text-anchor=\"middle\" x=\"707\" y=\"-178.3\">link_2</text>\n</g>\n<!-- body4&#45;&gt;body3 -->\n<g class=\"edge\" id=\"edge3\">\n<title>body4-&gt;body3</title>\n<path d=\"M707,-200.1761C707,-220.7277 707,-254.4528 707,-278.5107\" fill=\"none\" stroke=\"#000000\"/>\n<polygon fill=\"#000000\" points=\"703.5001,-278.802 707,-288.802 710.5001,-278.802 703.5001,-278.802\" stroke=\"#000000\"/>\n<text fill=\"#000000\" font-family=\"Times,serif\" font-size=\"14.00\" text-anchor=\"middle\" x=\"769\" y=\"-240.8\">joint_2 [revolute]</text>\n</g>\n<!-- body5 -->\n<g class=\"node\" id=\"node6\">\n<title>body5</title>\n<ellipse cx=\"707\" cy=\"-57\" fill=\"none\" rx=\"38.9931\" ry=\"18\" stroke=\"#000000\"/>\n<text fill=\"#000000\" font-family=\"Times,serif\" font-size=\"14.00\" text-anchor=\"middle\" x=\"707\" y=\"-53.3\">link_3</text>\n</g>\n<!-- body5&#45;&gt;body4 -->\n<g class=\"edge\" id=\"edge4\">\n<title>body5-&gt;body4</title>\n<path d=\"M707,-75.1761C707,-95.7277 707,-129.4528 707,-153.5107\" fill=\"none\" stroke=\"#000000\"/>\n<polygon fill=\"#000000\" points=\"703.5001,-153.802 707,-163.802 710.5001,-153.802 703.5001,-153.802\" stroke=\"#000000\"/>\n<text fill=\"#000000\" font-family=\"Times,serif\" font-size=\"14.00\" text-anchor=\"middle\" x=\"769\" y=\"-115.8\">joint_3 [revolute]</text>\n</g>\n<!-- body6 -->\n<g class=\"node\" id=\"node7\">\n<title>body6</title>\n<ellipse cx=\"538\" cy=\"-432\" fill=\"none\" rx=\"44.6926\" ry=\"18\" stroke=\"#000000\"/>\n<text fill=\"#000000\" font-family=\"Times,serif\" font-size=\"14.00\" text-anchor=\"middle\" x=\"538\" y=\"-428.3\">link_12</text>\n</g>\n<!-- body6&#45;&gt;body1 -->\n<g class=\"edge\" id=\"edge5\">\n<title>body6-&gt;body1</title>\n<path d=\"M531.4457,-449.9918C525.7441,-464.5843 516.7245,-485.3841 506,-502 499.196,-512.5418 490.476,-523.1555 482.3394,-532.2089\" fill=\"none\" stroke=\"#000000\"/>\n<polygon fill=\"#000000\" points=\"479.6144,-530.0008 475.4021,-539.7223 484.7575,-534.7495 479.6144,-530.0008\" stroke=\"#000000\"/>\n<text fill=\"#000000\" font-family=\"Times,serif\" font-size=\"14.00\" text-anchor=\"middle\" x=\"580.5\" y=\"-490.8\">joint_12 [revolute]</text>\n</g>\n<!-- body7 -->\n<g class=\"node\" id=\"node8\">\n<title>body7</title>\n<ellipse cx=\"538\" cy=\"-307\" fill=\"none\" rx=\"44.6926\" ry=\"18\" stroke=\"#000000\"/>\n<text fill=\"#000000\" font-family=\"Times,serif\" font-size=\"14.00\" text-anchor=\"middle\" x=\"538\" y=\"-303.3\">link_13</text>\n</g>\n<!-- body7&#45;&gt;body6 -->\n<g class=\"edge\" id=\"edge6\">\n<title>body7-&gt;body6</title>\n<path d=\"M538,-325.1761C538,-345.7277 538,-379.4528 538,-403.5107\" fill=\"none\" stroke=\"#000000\"/>\n<polygon fill=\"#000000\" points=\"534.5001,-403.802 538,-413.802 541.5001,-403.802 534.5001,-403.802\" stroke=\"#000000\"/>\n<text fill=\"#000000\" font-family=\"Times,serif\" font-size=\"14.00\" text-anchor=\"middle\" x=\"604.5\" y=\"-365.8\">joint_13 [revolute]</text>\n</g>\n<!-- body8 -->\n<g class=\"node\" id=\"node9\">\n<title>body8</title>\n<ellipse cx=\"538\" cy=\"-182\" fill=\"none\" rx=\"44.6926\" ry=\"18\" stroke=\"#000000\"/>\n<text fill=\"#000000\" font-family=\"Times,serif\" font-size=\"14.00\" text-anchor=\"middle\" x=\"538\" y=\"-178.3\">link_14</text>\n</g>\n<!-- body8&#45;&gt;body7 -->\n<g class=\"edge\" id=\"edge7\">\n<title>body8-&gt;body7</title>\n<path d=\"M538,-200.1761C538,-220.7277 538,-254.4528 538,-278.5107\" fill=\"none\" stroke=\"#000000\"/>\n<polygon fill=\"#000000\" points=\"534.5001,-278.802 538,-288.802 541.5001,-278.802 534.5001,-278.802\" stroke=\"#000000\"/>\n<text fill=\"#000000\" font-family=\"Times,serif\" font-size=\"14.00\" text-anchor=\"middle\" x=\"604.5\" y=\"-240.8\">joint_14 [revolute]</text>\n</g>\n<!-- body9 -->\n<g class=\"node\" id=\"node10\">\n<title>body9</title>\n<ellipse cx=\"538\" cy=\"-57\" fill=\"none\" rx=\"44.6926\" ry=\"18\" stroke=\"#000000\"/>\n<text fill=\"#000000\" font-family=\"Times,serif\" font-size=\"14.00\" text-anchor=\"middle\" x=\"538\" y=\"-53.3\">link_15</text>\n</g>\n<!-- body9&#45;&gt;body8 -->\n<g class=\"edge\" id=\"edge8\">\n<title>body9-&gt;body8</title>\n<path d=\"M538,-75.1761C538,-95.7277 538,-129.4528 538,-153.5107\" fill=\"none\" stroke=\"#000000\"/>\n<polygon fill=\"#000000\" points=\"534.5001,-153.802 538,-163.802 541.5001,-153.802 534.5001,-153.802\" stroke=\"#000000\"/>\n<text fill=\"#000000\" font-family=\"Times,serif\" font-size=\"14.00\" text-anchor=\"middle\" x=\"604.5\" y=\"-115.8\">joint_15 [revolute]</text>\n</g>\n<!-- body10 -->\n<g class=\"node\" id=\"node11\">\n<title>body10</title>\n<ellipse cx=\"378\" cy=\"-432\" fill=\"none\" rx=\"38.9931\" ry=\"18\" stroke=\"#000000\"/>\n<text fill=\"#000000\" font-family=\"Times,serif\" font-size=\"14.00\" text-anchor=\"middle\" x=\"378\" y=\"-428.3\">link_4</text>\n</g>\n<!-- body10&#45;&gt;body1 -->\n<g class=\"edge\" id=\"edge9\">\n<title>body10-&gt;body1</title>\n<path d=\"M373.5819,-450.0651C370.9531,-464.8903 369.57,-485.9743 378,-502 385.9276,-517.0705 400.0579,-528.8121 414.2605,-537.505\" fill=\"none\" stroke=\"#000000\"/>\n<polygon fill=\"#000000\" points=\"412.6381,-540.609 423.0581,-542.5262 416.108,-534.5295 412.6381,-540.609\" stroke=\"#000000\"/>\n<text fill=\"#000000\" font-family=\"Times,serif\" font-size=\"14.00\" text-anchor=\"middle\" x=\"440\" y=\"-490.8\">joint_4 [revolute]</text>\n</g>\n<!-- body11 -->\n<g class=\"node\" id=\"node12\">\n<title>body11</title>\n<ellipse cx=\"378\" cy=\"-307\" fill=\"none\" rx=\"38.9931\" ry=\"18\" stroke=\"#000000\"/>\n<text fill=\"#000000\" font-family=\"Times,serif\" font-size=\"14.00\" text-anchor=\"middle\" x=\"378\" y=\"-303.3\">link_5</text>\n</g>\n<!-- body11&#45;&gt;body10 -->\n<g class=\"edge\" id=\"edge10\">\n<title>body11-&gt;body10</title>\n<path d=\"M378,-325.1761C378,-345.7277 378,-379.4528 378,-403.5107\" fill=\"none\" stroke=\"#000000\"/>\n<polygon fill=\"#000000\" points=\"374.5001,-403.802 378,-413.802 381.5001,-403.802 374.5001,-403.802\" stroke=\"#000000\"/>\n<text fill=\"#000000\" font-family=\"Times,serif\" font-size=\"14.00\" text-anchor=\"middle\" x=\"440\" y=\"-365.8\">joint_5 [revolute]</text>\n</g>\n<!-- body12 -->\n<g class=\"node\" id=\"node13\">\n<title>body12</title>\n<ellipse cx=\"378\" cy=\"-182\" fill=\"none\" rx=\"38.9931\" ry=\"18\" stroke=\"#000000\"/>\n<text fill=\"#000000\" font-family=\"Times,serif\" font-size=\"14.00\" text-anchor=\"middle\" x=\"378\" y=\"-178.3\">link_6</text>\n</g>\n<!-- body12&#45;&gt;body11 -->\n<g class=\"edge\" id=\"edge11\">\n<title>body12-&gt;body11</title>\n<path d=\"M378,-200.1761C378,-220.7277 378,-254.4528 378,-278.5107\" fill=\"none\" stroke=\"#000000\"/>\n<polygon fill=\"#000000\" points=\"374.5001,-278.802 378,-288.802 381.5001,-278.802 374.5001,-278.802\" stroke=\"#000000\"/>\n<text fill=\"#000000\" font-family=\"Times,serif\" font-size=\"14.00\" text-anchor=\"middle\" x=\"440\" y=\"-240.8\">joint_6 [revolute]</text>\n</g>\n<!-- body13 -->\n<g class=\"node\" id=\"node14\">\n<title>body13</title>\n<ellipse cx=\"378\" cy=\"-57\" fill=\"none\" rx=\"38.9931\" ry=\"18\" stroke=\"#000000\"/>\n<text fill=\"#000000\" font-family=\"Times,serif\" font-size=\"14.00\" text-anchor=\"middle\" x=\"378\" y=\"-53.3\">link_7</text>\n</g>\n<!-- body13&#45;&gt;body12 -->\n<g class=\"edge\" id=\"edge12\">\n<title>body13-&gt;body12</title>\n<path d=\"M378,-75.1761C378,-95.7277 378,-129.4528 378,-153.5107\" fill=\"none\" stroke=\"#000000\"/>\n<polygon fill=\"#000000\" points=\"374.5001,-153.802 378,-163.802 381.5001,-153.802 374.5001,-153.802\" stroke=\"#000000\"/>\n<text fill=\"#000000\" font-family=\"Times,serif\" font-size=\"14.00\" text-anchor=\"middle\" x=\"440\" y=\"-115.8\">joint_7 [revolute]</text>\n</g>\n<!-- body14 -->\n<g class=\"node\" id=\"node15\">\n<title>body14</title>\n<ellipse cx=\"230\" cy=\"-432\" fill=\"none\" rx=\"38.9931\" ry=\"18\" stroke=\"#000000\"/>\n<text fill=\"#000000\" font-family=\"Times,serif\" font-size=\"14.00\" text-anchor=\"middle\" x=\"230\" y=\"-428.3\">link_8</text>\n</g>\n<!-- body14&#45;&gt;body1 -->\n<g class=\"edge\" id=\"edge13\">\n<title>body14-&gt;body1</title>\n<path d=\"M228.6425,-450.191C228.5061,-465.9189 230.9599,-488.2337 244,-502 264.5506,-523.695 339.3523,-539.3547 394.7582,-548.2894\" fill=\"none\" stroke=\"#000000\"/>\n<polygon fill=\"#000000\" points=\"394.438,-551.782 404.8606,-549.8794 395.5263,-544.8671 394.438,-551.782\" stroke=\"#000000\"/>\n<text fill=\"#000000\" font-family=\"Times,serif\" font-size=\"14.00\" text-anchor=\"middle\" x=\"306\" y=\"-490.8\">joint_8 [revolute]</text>\n</g>\n<!-- body15 -->\n<g class=\"node\" id=\"node16\">\n<title>body15</title>\n<ellipse cx=\"230\" cy=\"-307\" fill=\"none\" rx=\"38.9931\" ry=\"18\" stroke=\"#000000\"/>\n<text fill=\"#000000\" font-family=\"Times,serif\" font-size=\"14.00\" text-anchor=\"middle\" x=\"230\" y=\"-303.3\">link_9</text>\n</g>\n<!-- body15&#45;&gt;body14 -->\n<g class=\"edge\" id=\"edge14\">\n<title>body15-&gt;body14</title>\n<path d=\"M230,-325.1761C230,-345.7277 230,-379.4528 230,-403.5107\" fill=\"none\" stroke=\"#000000\"/>\n<polygon fill=\"#000000\" points=\"226.5001,-403.802 230,-413.802 233.5001,-403.802 226.5001,-403.802\" stroke=\"#000000\"/>\n<text fill=\"#000000\" font-family=\"Times,serif\" font-size=\"14.00\" text-anchor=\"middle\" x=\"292\" y=\"-365.8\">joint_9 [revolute]</text>\n</g>\n<!-- body16 -->\n<g class=\"node\" id=\"node17\">\n<title>body16</title>\n<ellipse cx=\"236\" cy=\"-182\" fill=\"none\" rx=\"44.6926\" ry=\"18\" stroke=\"#000000\"/>\n<text fill=\"#000000\" font-family=\"Times,serif\" font-size=\"14.00\" text-anchor=\"middle\" x=\"236\" y=\"-178.3\">link_10</text>\n</g>\n<!-- body16&#45;&gt;body15 -->\n<g class=\"edge\" id=\"edge15\">\n<title>body16-&gt;body15</title>\n<path d=\"M235.1275,-200.1761C234.1411,-220.7277 232.5223,-254.4528 231.3675,-278.5107\" fill=\"none\" stroke=\"#000000\"/>\n<polygon fill=\"#000000\" points=\"227.8571,-278.6457 230.8735,-288.802 234.849,-278.9813 227.8571,-278.6457\" stroke=\"#000000\"/>\n<text fill=\"#000000\" font-family=\"Times,serif\" font-size=\"14.00\" text-anchor=\"middle\" x=\"299.5\" y=\"-240.8\">joint_10 [revolute]</text>\n</g>\n<!-- body17 -->\n<g class=\"node\" id=\"node18\">\n<title>body17</title>\n<ellipse cx=\"236\" cy=\"-57\" fill=\"none\" rx=\"44.6926\" ry=\"18\" stroke=\"#000000\"/>\n<text fill=\"#000000\" font-family=\"Times,serif\" font-size=\"14.00\" text-anchor=\"middle\" x=\"236\" y=\"-53.3\">link_11</text>\n</g>\n<!-- body17&#45;&gt;body16 -->\n<g class=\"edge\" id=\"edge16\">\n<title>body17-&gt;body16</title>\n<path d=\"M236,-75.1761C236,-95.7277 236,-129.4528 236,-153.5107\" fill=\"none\" stroke=\"#000000\"/>\n<polygon fill=\"#000000\" points=\"232.5001,-153.802 236,-163.802 239.5001,-153.802 232.5001,-153.802\" stroke=\"#000000\"/>\n<text fill=\"#000000\" font-family=\"Times,serif\" font-size=\"14.00\" text-anchor=\"middle\" x=\"302.5\" y=\"-115.8\">joint_11 [revolute]</text>\n</g>\n<!-- body18 -->\n<g class=\"node\" id=\"node19\">\n<title>body18</title>\n<ellipse cx=\"910\" cy=\"-57\" fill=\"none\" rx=\"54.6905\" ry=\"18\" stroke=\"#000000\"/>\n<text fill=\"#000000\" font-family=\"Times,serif\" font-size=\"14.00\" text-anchor=\"middle\" x=\"910\" y=\"-53.3\">base_link</text>\n</g>\n</g>\n</svg>"
          },
          "metadata": {
            "tags": []
          }
        }
      ]
    },
    {
      "cell_type": "markdown",
      "metadata": {
        "id": "wSa5QcU0Piak"
      },
      "source": [
        "# Forward kinematics of the gripper frame\n",
        "\n",
        "Here is a simple example that let's you visualize the frames on the iiwa and the gripper.  If you click on the \"Open Controls\" menu in the MeshCat visualizer, and dig into the menu `meshcat->drake->Source` then you will see elements for each of the models in the `SceneGraph`: one for the iiwa, another for the WSG, and others for the clutter bins.  You can enable/disable their visualization.  Give it a spin!"
      ]
    },
    {
      "cell_type": "code",
      "metadata": {
        "id": "5SjOClhTltPk",
        "outputId": "4c9481a6-bfb9-4b8f-d8cf-cb151e3d41b0",
        "colab": {
          "base_uri": "https://localhost:8080/",
          "height": 417,
          "referenced_widgets": [
            "5f3e9195d85040b29c8f79e610bac3fd",
            "e956c1a7657f4f56be99fb50b76fd874",
            "af385731100a4670bafe59b9672424fa",
            "d26be749769a466ea16510d7644abe4e",
            "a7de60959636459da806ab276aa3128d",
            "0ced6b9863a54d199b4ca361c611e95b",
            "2fa1ff761d1344a7811ee197fe5bad7f",
            "d308bb28643147b5a8ecb5e21d141019",
            "da63924786e9446493b6df2f09d0b654",
            "218e791bf4c74887b1d53adab2dfc23d",
            "4bad7d2051f646ae864d3e5403d6d097",
            "f0983b765dd44d57aae0d28fef09abbb",
            "aa7a01fa04064b979b31680def6bb76b",
            "93a1e4a05879439488fd5985545e15a4",
            "6a4e39a6749f440aa8d1f68de1fb2766",
            "31e5b81e3de34447a166bdec276303fb",
            "1fd1e1725ff84d65843666e4674873c5",
            "3a1b86c9ee2e47f18948a5db442d46ef",
            "cfe7822a6b894d8db50f7ec4a478ece7",
            "4d2dc589078442d68cabe78ffaa3300b",
            "6e16ecd7fd3448d5a51f24de7a795053",
            "d0012b425a5c4533a594439cc2fd2d2f",
            "2ff6bb93d95f497db1906792be979346",
            "d4f1216582bb4678a66177c95f19427d",
            "df2caf3ecf0441db808474321373b3d1",
            "e01daf846a824d9892864635c199d127",
            "3e48836556034734b59de15c5230f221",
            "d84f3a84e27f4c1bab91c48deb07ff2d",
            "304a76cab1be4cca9751f60c8a15c1c4",
            "b5f44c2b3252463b873378e63d2f8687",
            "5a2ac6f905eb41ef8d9c1b61922815a7",
            "bc57c24882d54aac87ce3ffad7aa288e",
            "1c707d91583f4522a9b49b5cdfd4e487"
          ]
        }
      },
      "source": [
        "def gripper_forward_kinematics_example():\n",
        "    builder = DiagramBuilder()\n",
        "\n",
        "    # TODO: Replace this with a simple model directive of iiwa+wsg (no clutter bins)\n",
        "    station = builder.AddSystem(ManipulationStation())\n",
        "    station.SetupClutterClearingStation()\n",
        "    station.Finalize()\n",
        "\n",
        "    frames_to_draw = {\"iiwa\": {\"iiwa_link_1\", \"iiwa_link_2\", \"iiwa_link_3\", \"iiwa_link_4\", \"iiwa_link_5\", \"iiwa_link_6\", \"iiwa_link_7\"},\n",
        "                      \"gripper\": {\"body\"}}\n",
        "    meshcat = ConnectMeshcatVisualizer(builder,\n",
        "        station.get_scene_graph(),\n",
        "        output_port=station.GetOutputPort(\"pose_bundle\"),\n",
        "        zmq_url=zmq_url,\n",
        "        frames_to_draw=frames_to_draw,\n",
        "        axis_length=0.3,\n",
        "        axis_radius=0.01)\n",
        "\n",
        "    diagram = builder.Build()\n",
        "    context = diagram.CreateDefaultContext()\n",
        "\n",
        "    xyz = Text(value=\"\", description=\"gripper position (m): \", layout=Layout(width='500px'), style={'description_width':'initial'})\n",
        "    rpy = Text(value=\"\", description=\"gripper roll-pitch-yaw (rad): \", layout=Layout(width='500px'), style={'description_width':'initial'})\n",
        "    plant = station.get_multibody_plant()\n",
        "\n",
        "    gripper = plant.GetBodyByName(\"body\")\n",
        "    def pose_callback(context):\n",
        "        pose = plant.EvalBodyPoseInWorld(context, gripper)   ## This is the important line\n",
        "        xyz.value = np.array2string(pose.translation(), formatter={'float': lambda x: \"{:3.2f}\".format(x)})\n",
        "        rpy.value = np.array2string(RollPitchYaw(pose.rotation()).vector(), formatter={'float': lambda x: \"{:3.2f}\".format(x)})\n",
        "\n",
        "    meshcat.load()\n",
        "    MakeJointSlidersThatPublishOnCallback(station.get_multibody_plant(), meshcat, context, my_callback=pose_callback)\n",
        "    display(xyz)\n",
        "    display(rpy)\n",
        "\n",
        "gripper_forward_kinematics_example()"
      ],
      "execution_count": 73,
      "outputs": [
        {
          "output_type": "stream",
          "text": [
            "Connecting to meshcat-server at zmq_url=tcp://127.0.0.1:6001...\n",
            "You can open the visualizer by visiting the following URL:\n",
            "http://c28ff14c2933.ngrok.io/static/\n",
            "Connected to meshcat-server.\n"
          ],
          "name": "stdout"
        },
        {
          "output_type": "display_data",
          "data": {
            "application/vnd.jupyter.widget-view+json": {
              "model_id": "5f3e9195d85040b29c8f79e610bac3fd",
              "version_minor": 0,
              "version_major": 2
            },
            "text/plain": [
              "FloatSlider(value=-1.57, description='iiwa_joint_1', layout=Layout(width=\"'200'\"), max=2.96706, min=-2.96706, …"
            ]
          },
          "metadata": {
            "tags": []
          }
        },
        {
          "output_type": "display_data",
          "data": {
            "application/vnd.jupyter.widget-view+json": {
              "model_id": "d26be749769a466ea16510d7644abe4e",
              "version_minor": 0,
              "version_major": 2
            },
            "text/plain": [
              "FloatSlider(value=0.1, description='iiwa_joint_2', layout=Layout(width=\"'200'\"), max=2.0944, min=-2.0944, step…"
            ]
          },
          "metadata": {
            "tags": []
          }
        },
        {
          "output_type": "display_data",
          "data": {
            "application/vnd.jupyter.widget-view+json": {
              "model_id": "2fa1ff761d1344a7811ee197fe5bad7f",
              "version_minor": 0,
              "version_major": 2
            },
            "text/plain": [
              "FloatSlider(value=0.0, description='iiwa_joint_3', layout=Layout(width=\"'200'\"), max=2.96706, min=-2.96706, st…"
            ]
          },
          "metadata": {
            "tags": []
          }
        },
        {
          "output_type": "display_data",
          "data": {
            "application/vnd.jupyter.widget-view+json": {
              "model_id": "218e791bf4c74887b1d53adab2dfc23d",
              "version_minor": 0,
              "version_major": 2
            },
            "text/plain": [
              "FloatSlider(value=-1.2, description='iiwa_joint_4', layout=Layout(width=\"'200'\"), max=2.0944, min=-2.0944, ste…"
            ]
          },
          "metadata": {
            "tags": []
          }
        },
        {
          "output_type": "display_data",
          "data": {
            "application/vnd.jupyter.widget-view+json": {
              "model_id": "aa7a01fa04064b979b31680def6bb76b",
              "version_minor": 0,
              "version_major": 2
            },
            "text/plain": [
              "FloatSlider(value=0.0, description='iiwa_joint_5', layout=Layout(width=\"'200'\"), max=2.96706, min=-2.96706, st…"
            ]
          },
          "metadata": {
            "tags": []
          }
        },
        {
          "output_type": "display_data",
          "data": {
            "application/vnd.jupyter.widget-view+json": {
              "model_id": "31e5b81e3de34447a166bdec276303fb",
              "version_minor": 0,
              "version_major": 2
            },
            "text/plain": [
              "FloatSlider(value=1.6, description='iiwa_joint_6', layout=Layout(width=\"'200'\"), max=2.0944, min=-2.0944, step…"
            ]
          },
          "metadata": {
            "tags": []
          }
        },
        {
          "output_type": "display_data",
          "data": {
            "application/vnd.jupyter.widget-view+json": {
              "model_id": "cfe7822a6b894d8db50f7ec4a478ece7",
              "version_minor": 0,
              "version_major": 2
            },
            "text/plain": [
              "FloatSlider(value=0.0, description='iiwa_joint_7', layout=Layout(width=\"'200'\"), max=3.05433, min=-3.05433, st…"
            ]
          },
          "metadata": {
            "tags": []
          }
        },
        {
          "output_type": "display_data",
          "data": {
            "application/vnd.jupyter.widget-view+json": {
              "model_id": "d0012b425a5c4533a594439cc2fd2d2f",
              "version_minor": 0,
              "version_major": 2
            },
            "text/plain": [
              "FloatSlider(value=-0.05, description='left_finger_sliding_joint', layout=Layout(width=\"'200'\"), max=0.0, min=-…"
            ]
          },
          "metadata": {
            "tags": []
          }
        },
        {
          "output_type": "display_data",
          "data": {
            "application/vnd.jupyter.widget-view+json": {
              "model_id": "df2caf3ecf0441db808474321373b3d1",
              "version_minor": 0,
              "version_major": 2
            },
            "text/plain": [
              "FloatSlider(value=0.05, description='right_finger_sliding_joint', layout=Layout(width=\"'200'\"), max=0.055, ste…"
            ]
          },
          "metadata": {
            "tags": []
          }
        },
        {
          "output_type": "display_data",
          "data": {
            "application/vnd.jupyter.widget-view+json": {
              "model_id": "d84f3a84e27f4c1bab91c48deb07ff2d",
              "version_minor": 0,
              "version_major": 2
            },
            "text/plain": [
              "Text(value='[0.00 -0.47 0.66]', description='gripper position (m): ', layout=Layout(width='500px'), style=Desc…"
            ]
          },
          "metadata": {
            "tags": []
          }
        },
        {
          "output_type": "display_data",
          "data": {
            "application/vnd.jupyter.widget-view+json": {
              "model_id": "5a2ac6f905eb41ef8d9c1b61922815a7",
              "version_minor": 0,
              "version_major": 2
            },
            "text/plain": [
              "Text(value='[-1.81 -0.00 0.00]', description='gripper roll-pitch-yaw (rad): ', layout=Layout(width='500px'), s…"
            ]
          },
          "metadata": {
            "tags": []
          }
        }
      ]
    },
    {
      "cell_type": "markdown",
      "metadata": {
        "id": "8ZUhwdTOtOjp"
      },
      "source": [
        "# Don't assume $\\dot{q} \\equiv v$\n",
        "\n",
        "Let's just add a single object into the scene.  We won't weld it to the world frame, so it is a \"free body\" or has a \"floating base\"."
      ]
    },
    {
      "cell_type": "code",
      "metadata": {
        "id": "MKezK0PjtUP4",
        "outputId": "650263d9-5cb9-4684-beea-ea8da3964381",
        "colab": {
          "base_uri": "https://localhost:8080/"
        }
      },
      "source": [
        "def num_positions_velocities_example():\n",
        "    plant = MultibodyPlant(time_step = 0.0)\n",
        "    Parser(plant).AddModelFromFile(FindResourceOrThrow(\n",
        "        \"drake/examples/manipulation_station/models/061_foam_brick.sdf\"))\n",
        "    plant.Finalize()\n",
        "\n",
        "    context = plant.CreateDefaultContext()\n",
        "    print(context)\n",
        "\n",
        "    print(f\"plant.num_positions() = {plant.num_positions()}\")\n",
        "    print(f\"plant.num_velocities() = {plant.num_velocities()}\")\n",
        "\n",
        "num_positions_velocities_example()"
      ],
      "execution_count": 74,
      "outputs": [
        {
          "output_type": "stream",
          "text": [
            "::_ Context\n",
            "------------\n",
            "Time: 0\n",
            "States:\n",
            "  13 continuous states\n",
            "    1 0 0 0 0 0 0 0 0 0 0 0 0\n",
            "\n",
            "Parameters:\n",
            "  2 numeric parameter groups with\n",
            "     10 parameters\n",
            "       nan nan nan nan nan nan nan nan nan nan\n",
            "     10 parameters\n",
            "             0.028           0           0       0.025  0.00104286  0.00130357 0.000678571           0           0           0\n",
            "\n",
            "plant.num_positions() = 7\n",
            "plant.num_velocities() = 6\n"
          ],
          "name": "stdout"
        }
      ]
    },
    {
      "cell_type": "markdown",
      "metadata": {
        "id": "tlE6mkO0ajJu"
      },
      "source": [
        "Looking at the `Context` you can see that this system has 13 total state variables.  7 of them are positions, $q$; this is due to our pose representation using unit quaternions.  But only 6 of them are velocities, $v$; this is because a six-element spatial velocity provides a better (unconstrained) representation of the rate of change of the unit quaternion.  But clearly, if the length of the vectors don't even match, we do *not* have $\\dot{q} = v$."
      ]
    },
    {
      "cell_type": "markdown",
      "metadata": {
        "id": "hSeD3PBotJUU"
      },
      "source": [
        "# Kinematic Jacobians for pick and place\n",
        "\n",
        "Let's set up the same iiwa + wsg example, with sliders (but without the frames), that we used above.  But this time I'll display the value of the Jacobian $J^G(q)$."
      ]
    },
    {
      "cell_type": "code",
      "metadata": {
        "id": "6F_KZoc1QDkY",
        "outputId": "7061b0e0-50b0-4b5d-edad-530e1b0b0233",
        "colab": {
          "base_uri": "https://localhost:8080/",
          "height": 489,
          "referenced_widgets": [
            "558e06c88aa34b21827fbe0525ed052a",
            "3f0c224255194d32bd5a4937f0b5ff02",
            "57aa0377d3c7401885eee65e4908f543",
            "68aeb0e928e74ce58dc5bd50746ab2f7",
            "317a9a42345a4a749c4c7287b1d5a194",
            "fac9afd060ee4e608ab5783f09311c05",
            "70c383b608db472aa32df1360a2ffe31",
            "c79e3f1db6b247e9bfe973964b49be9a",
            "24ddb3108ea44d028affa7310284a9f3",
            "84f45b72e03f40f7b8ed5e282e3e9e60",
            "c7e02045e3464dfd80ebdf6689daa357",
            "77a7c4bd453f40ada83500809bf63c4c",
            "93ae3bb2356148e888e04bcff732203b",
            "50a0a63bc7764790b1e7c74f55303c08",
            "8c697857dd524b82a81e2826e93bbb06",
            "f50dc85586d14218a32c05f52b6fb27f",
            "419b917b76384698a3bd7390de90e798",
            "0934af88075548ebabede2ef3c50718d",
            "f9738972396349b5b174874797558545",
            "03ede6e71a7e43b88d584f2238538ce8",
            "c5a4ed30eb0e442e857707bbee903de0",
            "88e616df2d704f8eaa4aa445973a8a92",
            "fcd0376d291442ba981670aca5acc61c",
            "c1c489ef82c04cffbf56b35d063b67df",
            "59fa725f035d425f88d99411ae36e05d",
            "d125521f65724f2396c9d05fd708daa8",
            "d52f2c07aabb42dea7160cc7a7fe6ebc",
            "68c9d5be0595422cabb49b5a1b007f4d",
            "e1dc95e29ad24621a06a4654e7764bb5",
            "f54b0bc8d945457cbcf211d14e3d6a14",
            "97dbca0e0fd949bf994bf8fd32990f39",
            "df16cef2cc9c4af8a37ed9133c695d44",
            "7276a9383f314d318d9dde7ac45f303e"
          ]
        }
      },
      "source": [
        "def pick_and_place_jacobians_example():\n",
        "    builder = DiagramBuilder()\n",
        "\n",
        "    # TODO: Replace this with a simple model directive of iiwa+wsg (no clutter bins)\n",
        "    station = builder.AddSystem(ManipulationStation())\n",
        "    station.SetupClutterClearingStation()\n",
        "    station.Finalize()\n",
        "\n",
        "    meshcat = ConnectMeshcatVisualizer(builder,\n",
        "        station.get_scene_graph(),\n",
        "        output_port=station.GetOutputPort(\"pose_bundle\"),\n",
        "#        delete_prefix_on_load=False,\n",
        "        zmq_url=zmq_url)\n",
        "\n",
        "    diagram = builder.Build()\n",
        "    context = diagram.CreateDefaultContext()\n",
        "\n",
        "    jacobian = Textarea(value=\"\", description=\"J_G: \", layout={'width':'60%','height':'100px'}, style={'description_width':'initial'})\n",
        "    sigma = Text(value=\"\", description=\"smallest singular value(J_G): \", layout={'width':'60%'}, style={'description_width':'initial'})\n",
        "    plant = station.get_multibody_plant()\n",
        "\n",
        "    G = plant.GetBodyByName(\"body\").body_frame()\n",
        "    W = plant.world_frame()\n",
        "    def pose_callback(context):\n",
        "        J_G = plant.CalcJacobianSpatialVelocity(context, JacobianWrtVariable.kQDot, G, [0,0,0], W, W)   ## This is the important line\n",
        "        jacobian.value = np.array2string(J_G, formatter={'float': lambda x: \"{:5.1f}\".format(x)})\n",
        "        sigma.value = str(np.min(np.linalg.svd(J_G, compute_uv=False)))\n",
        "\n",
        "    meshcat.load()\n",
        "\n",
        "    # If you want to set the initial positions manually, use this:\n",
        "    #plant.SetPositions(plant.GetMyContextFromRoot(context),\n",
        "    #                   plant.GetModelInstanceByName(\"iiwa\"),\n",
        "    #                   [0, 0, 0, 0, 0, 0, 0])\n",
        "\n",
        "    MakeJointSlidersThatPublishOnCallback(station.get_multibody_plant(), meshcat, context, my_callback=pose_callback)\n",
        "    display(jacobian)\n",
        "    display(sigma)\n",
        "\n",
        "pick_and_place_jacobians_example()\n"
      ],
      "execution_count": 75,
      "outputs": [
        {
          "output_type": "stream",
          "text": [
            "Connecting to meshcat-server at zmq_url=tcp://127.0.0.1:6001...\n",
            "You can open the visualizer by visiting the following URL:\n",
            "http://c28ff14c2933.ngrok.io/static/\n",
            "Connected to meshcat-server.\n"
          ],
          "name": "stdout"
        },
        {
          "output_type": "display_data",
          "data": {
            "application/vnd.jupyter.widget-view+json": {
              "model_id": "558e06c88aa34b21827fbe0525ed052a",
              "version_minor": 0,
              "version_major": 2
            },
            "text/plain": [
              "FloatSlider(value=-1.57, description='iiwa_joint_1', layout=Layout(width=\"'200'\"), max=2.96706, min=-2.96706, …"
            ]
          },
          "metadata": {
            "tags": []
          }
        },
        {
          "output_type": "display_data",
          "data": {
            "application/vnd.jupyter.widget-view+json": {
              "model_id": "68aeb0e928e74ce58dc5bd50746ab2f7",
              "version_minor": 0,
              "version_major": 2
            },
            "text/plain": [
              "FloatSlider(value=0.1, description='iiwa_joint_2', layout=Layout(width=\"'200'\"), max=2.0944, min=-2.0944, step…"
            ]
          },
          "metadata": {
            "tags": []
          }
        },
        {
          "output_type": "display_data",
          "data": {
            "application/vnd.jupyter.widget-view+json": {
              "model_id": "70c383b608db472aa32df1360a2ffe31",
              "version_minor": 0,
              "version_major": 2
            },
            "text/plain": [
              "FloatSlider(value=0.0, description='iiwa_joint_3', layout=Layout(width=\"'200'\"), max=2.96706, min=-2.96706, st…"
            ]
          },
          "metadata": {
            "tags": []
          }
        },
        {
          "output_type": "display_data",
          "data": {
            "application/vnd.jupyter.widget-view+json": {
              "model_id": "84f45b72e03f40f7b8ed5e282e3e9e60",
              "version_minor": 0,
              "version_major": 2
            },
            "text/plain": [
              "FloatSlider(value=-1.2, description='iiwa_joint_4', layout=Layout(width=\"'200'\"), max=2.0944, min=-2.0944, ste…"
            ]
          },
          "metadata": {
            "tags": []
          }
        },
        {
          "output_type": "display_data",
          "data": {
            "application/vnd.jupyter.widget-view+json": {
              "model_id": "93ae3bb2356148e888e04bcff732203b",
              "version_minor": 0,
              "version_major": 2
            },
            "text/plain": [
              "FloatSlider(value=0.0, description='iiwa_joint_5', layout=Layout(width=\"'200'\"), max=2.96706, min=-2.96706, st…"
            ]
          },
          "metadata": {
            "tags": []
          }
        },
        {
          "output_type": "display_data",
          "data": {
            "application/vnd.jupyter.widget-view+json": {
              "model_id": "f50dc85586d14218a32c05f52b6fb27f",
              "version_minor": 0,
              "version_major": 2
            },
            "text/plain": [
              "FloatSlider(value=1.6, description='iiwa_joint_6', layout=Layout(width=\"'200'\"), max=2.0944, min=-2.0944, step…"
            ]
          },
          "metadata": {
            "tags": []
          }
        },
        {
          "output_type": "display_data",
          "data": {
            "application/vnd.jupyter.widget-view+json": {
              "model_id": "f9738972396349b5b174874797558545",
              "version_minor": 0,
              "version_major": 2
            },
            "text/plain": [
              "FloatSlider(value=0.0, description='iiwa_joint_7', layout=Layout(width=\"'200'\"), max=3.05433, min=-3.05433, st…"
            ]
          },
          "metadata": {
            "tags": []
          }
        },
        {
          "output_type": "display_data",
          "data": {
            "application/vnd.jupyter.widget-view+json": {
              "model_id": "88e616df2d704f8eaa4aa445973a8a92",
              "version_minor": 0,
              "version_major": 2
            },
            "text/plain": [
              "FloatSlider(value=-0.05, description='left_finger_sliding_joint', layout=Layout(width=\"'200'\"), max=0.0, min=-…"
            ]
          },
          "metadata": {
            "tags": []
          }
        },
        {
          "output_type": "display_data",
          "data": {
            "application/vnd.jupyter.widget-view+json": {
              "model_id": "59fa725f035d425f88d99411ae36e05d",
              "version_minor": 0,
              "version_major": 2
            },
            "text/plain": [
              "FloatSlider(value=0.05, description='right_finger_sliding_joint', layout=Layout(width=\"'200'\"), max=0.055, ste…"
            ]
          },
          "metadata": {
            "tags": []
          }
        },
        {
          "output_type": "display_data",
          "data": {
            "application/vnd.jupyter.widget-view+json": {
              "model_id": "68c9d5be0595422cabb49b5a1b007f4d",
              "version_minor": 0,
              "version_major": 2
            },
            "text/plain": [
              "Textarea(value='[[  0.0   1.0   0.0  -1.0   0.0   1.0   0.0   0.0   0.0]\\n [  0.0   0.0  -0.1  -0.0  -1.0   0.…"
            ]
          },
          "metadata": {
            "tags": []
          }
        },
        {
          "output_type": "display_data",
          "data": {
            "application/vnd.jupyter.widget-view+json": {
              "model_id": "97dbca0e0fd949bf994bf8fd32990f39",
              "version_minor": 0,
              "version_major": 2
            },
            "text/plain": [
              "Text(value='0.17931039621645192', description='smallest singular value(J_G): ', layout=Layout(width='60%'), st…"
            ]
          },
          "metadata": {
            "tags": []
          }
        }
      ]
    },
    {
      "cell_type": "markdown",
      "metadata": {
        "id": "UZym7Xo7slPU"
      },
      "source": [
        "# Our first end-effector \"controller\"\n",
        "\n",
        "Let's use the pseudo-inverse of the Jacobian to drive the robot around.  To do that, we'll write a very simple system that looks at the current value of $q$, computes $[J^G]^+$, and uses it to command a constant spatial velocity, $V^G$.\n",
        "\n",
        "We'll only run this controller for a short duration.  Constant spatial velocities aren't something that makes sense for a longer simulation!\n",
        "\n",
        "Make sure you try changing $V^G$, and understand how the command relates to the motion of the robot."
      ]
    },
    {
      "cell_type": "code",
      "metadata": {
        "id": "WBTFzB5ZuXvP",
        "outputId": "b92c0e5c-9b77-4e99-f392-2ba9eb72712a",
        "colab": {
          "base_uri": "https://localhost:8080/"
        }
      },
      "source": [
        "# We can write a new System by deriving from the LeafSystem class.\n",
        "# There is a little bit of boiler plate, but hopefully this example makes sense.\n",
        "class PseudoInverseController(LeafSystem):\n",
        "    def __init__(self, plant):\n",
        "        LeafSystem.__init__(self)\n",
        "        self._plant = plant\n",
        "        self._plant_context = plant.CreateDefaultContext()\n",
        "        self._iiwa = plant.GetModelInstanceByName(\"iiwa\")\n",
        "        self._G = plant.GetBodyByName(\"body\").body_frame()\n",
        "        self._W = plant.world_frame()\n",
        "\n",
        "        self.DeclareVectorInputPort(\"iiwa_position\", BasicVector(7))\n",
        "        self.DeclareVectorOutputPort(\"iiwa_velocity\", BasicVector(7), \n",
        "                                     self.CalcOutput)\n",
        "\n",
        "    def CalcOutput(self, context, output):\n",
        "        q = self.get_input_port().Eval(context)\n",
        "        self._plant.SetPositions(self._plant_context, self._iiwa, q)\n",
        "        J_G = self._plant.CalcJacobianSpatialVelocity(\n",
        "            self._plant_context, JacobianWrtVariable.kQDot, \n",
        "            self._G, [0,0,0], self._W, self._W)\n",
        "        J_G = J_G[:,0:7] # Ignore gripper terms\n",
        "        \n",
        "        V_G_desired = np.array([0,    # rotation about x\n",
        "                                -.1,  # rotation about y\n",
        "                                0,    # rotation about z\n",
        "                                0,    # x\n",
        "                                -.05, # y\n",
        "                                -.1]) # z\n",
        "        v = np.linalg.pinv(J_G).dot(V_G_desired)\n",
        "        output.SetFromVector(v)\n",
        "\n",
        "        \n",
        "def jacobian_controller_example():\n",
        "    builder = DiagramBuilder()\n",
        "\n",
        "    station = builder.AddSystem(ManipulationStation())\n",
        "    station.SetupClutterClearingStation()\n",
        "    station.Finalize()\n",
        "\n",
        "    controller = builder.AddSystem(PseudoInverseController(\n",
        "        station.get_multibody_plant()))\n",
        "    integrator = builder.AddSystem(Integrator(7))\n",
        "\n",
        "    builder.Connect(controller.get_output_port(), \n",
        "                    integrator.get_input_port())\n",
        "    builder.Connect(integrator.get_output_port(),\n",
        "                    station.GetInputPort(\"iiwa_position\"))\n",
        "    builder.Connect(station.GetOutputPort(\"iiwa_position_measured\"),\n",
        "                    controller.get_input_port())\n",
        "\n",
        "    meshcat = ConnectMeshcatVisualizer(builder,\n",
        "        station.get_scene_graph(),\n",
        "        output_port=station.GetOutputPort(\"pose_bundle\"),\n",
        "        zmq_url=zmq_url)\n",
        "\n",
        "    diagram = builder.Build()\n",
        "    simulator = Simulator(diagram)\n",
        "    station_context = station.GetMyContextFromRoot(simulator.get_mutable_context())\n",
        "    station.GetInputPort(\"iiwa_feedforward_torque\").FixValue(station_context, np.zeros((7,1)))\n",
        "    station.GetInputPort(\"wsg_position\").FixValue(station_context, [0.1])\n",
        "    # TODO(russt): Add this missing python binding\n",
        "    #integrator.set_integral_value(\n",
        "    #    integrator.GetMyContextFromRoot(simulator.get_mutable_context()), \n",
        "    #        station.GetIiwaPosition(station_context))\n",
        "    integrator.GetMyContextFromRoot(simulator.get_mutable_context()).get_mutable_continuous_state_vector().SetFromVector(station.GetIiwaPosition(station_context))\n",
        "\n",
        "    simulator.set_target_realtime_rate(1.0)\n",
        "    simulator.AdvanceTo(0.01);\n",
        "\n",
        "    return simulator\n",
        "\n",
        "simulator = jacobian_controller_example()"
      ],
      "execution_count": 76,
      "outputs": [
        {
          "output_type": "stream",
          "text": [
            "Connecting to meshcat-server at zmq_url=tcp://127.0.0.1:6001...\n",
            "You can open the visualizer by visiting the following URL:\n",
            "http://c28ff14c2933.ngrok.io/static/\n",
            "Connected to meshcat-server.\n"
          ],
          "name": "stdout"
        }
      ]
    },
    {
      "cell_type": "code",
      "metadata": {
        "id": "6v-EGfoI3y6V"
      },
      "source": [
        "# Wait for the model to load in the visualizer, then run this cell to see the interesting part...\n",
        "simulator.AdvanceTo(5.0 if running_as_notebook else 0.1);"
      ],
      "execution_count": 77,
      "outputs": []
    },
    {
      "cell_type": "markdown",
      "metadata": {
        "id": "DfwIMIJCSkx6"
      },
      "source": [
        "# Compute grasp and pregrasp poses\n",
        "\n",
        "Here is a simple example with a floating Schunk gripper and the foam brick.  It defines the grasp pose as described in the notes, and renders it to the 3D visualizer.\n",
        "\n",
        "**Check yourself**: Try changing the grasp pose to our pregrasp pose.  Do you like the numbers that I picked in the text?"
      ]
    },
    {
      "cell_type": "code",
      "metadata": {
        "id": "QuFmomDOxoAR",
        "outputId": "772eaa72-047e-4067-dc8c-ab7bfb2f5ba3",
        "colab": {
          "base_uri": "https://localhost:8080/"
        }
      },
      "source": [
        "def grasp_poses_example():\n",
        "    builder = DiagramBuilder()\n",
        "\n",
        "    plant, scene_graph = AddMultibodyPlantSceneGraph(builder, time_step = 0.0)\n",
        "    parser = Parser(plant, scene_graph)\n",
        "    grasp = parser.AddModelFromFile(FindResourceOrThrow(\n",
        "        \"drake/manipulation/models/wsg_50_description/sdf/schunk_wsg_50_no_tip.sdf\"), \"grasp\")\n",
        "    # TODO(russt): Draw the pregrasp gripper, too, as transparent (drake #13970).\n",
        "    #pregrasp = parser.AddModelFromFile(FindResourceOrThrow(\n",
        "    #    \"drake/manipulation/models/wsg_50_description/sdf/schunk_wsg_50_no_tip.sdf\"), \"pregrasp\")\n",
        "\n",
        "\n",
        "    # NOTE(izzy): changed to load foam brick from local github repository\n",
        "    # at https://github.com/IzzyBrand/robotBottleFlip so I commented this\n",
        "    # out and replaced it with the request below\n",
        "    #\n",
        "    # brick = parser.AddModelFromFile(FindResourceOrThrow(\n",
        "    #     \"drake/examples/manipulation_station/models/061_foam_brick.sdf\"))\n",
        "    # plant.Finalize()\n",
        "    #\n",
        "\n",
        "    import requests\n",
        "    resp = requests.get(\"https://raw.githubusercontent.com/IzzyBrand/robotBottleFlip/main/models/061_foam_brick.sdf\")\n",
        "    if resp.status_code == 200:\n",
        "        brick_sdf = resp.text\n",
        "    brick = parser.AddModelFromString(brick_sdf, \"sdf\")\n",
        "\n",
        "    plant.Finalize()\n",
        "\n",
        "    meshcat = ConnectMeshcatVisualizer(builder, scene_graph, zmq_url=zmq_url)\n",
        "\n",
        "    diagram = builder.Build()\n",
        "    context = diagram.CreateDefaultContext()\n",
        "    plant_context = plant.GetMyContextFromRoot(context)\n",
        "\n",
        "    # TODO(russt): Set a random pose of the object.\n",
        "\n",
        "    # Get the current object, O, pose\n",
        "    B_O = plant.GetBodyByName(\"base_link\", brick)\n",
        "    X_WO = plant.EvalBodyPoseInWorld(plant_context, B_O)\n",
        "\n",
        "    B_Ggrasp = plant.GetBodyByName(\"body\", grasp)\n",
        "    p_GgraspO = [0, 0.12, 0]\n",
        "    R_GgraspO = RotationMatrix.MakeXRotation(np.pi/2.0).multiply(\n",
        "        RotationMatrix.MakeZRotation(np.pi/2.0))\n",
        "    X_GgraspO = RigidTransform(R_GgraspO, p_GgraspO)\n",
        "    X_OGgrasp = X_GgraspO.inverse()\n",
        "    X_WGgrasp = X_WO.multiply(X_OGgrasp)\n",
        "\n",
        "    plant.SetFreeBodyPose(plant_context, B_Ggrasp, X_WGgrasp)\n",
        "    # Open the fingers, too.\n",
        "    plant.GetJointByName(\"left_finger_sliding_joint\", grasp).set_translation(plant_context, -0.054)\n",
        "    plant.GetJointByName(\"right_finger_sliding_joint\", grasp).set_translation(plant_context, 0.054)\n",
        "\n",
        "    meshcat.load()\n",
        "    diagram.Publish(context)\n",
        "\n",
        "grasp_poses_example()"
      ],
      "execution_count": 78,
      "outputs": [
        {
          "output_type": "stream",
          "text": [
            "[2020-11-11 20:51:38.350] [console] [warning] Currently MultibodyPlant does not handle joint limits for continuous models. However some joints do specify limits. Consider setting a non-zero time step in the MultibodyPlant constructor; this will put MultibodyPlant in discrete-time mode, which does support joint limits.\n",
            "[2020-11-11 20:51:38.353] [console] [warning] Joints that specify limits are: `left_finger_sliding_joint`, `right_finger_sliding_joint`.\n",
            "[2020-11-11 20:51:38.359] [console] [warning] Currently MultibodyPlant does not handle joint limits for continuous models. However some joints do specify limits. Consider setting a non-zero time step in the MultibodyPlant constructor; this will put MultibodyPlant in discrete-time mode, which does support joint limits.\n",
            "[2020-11-11 20:51:38.361] [console] [warning] Joints that specify limits are: `left_finger_sliding_joint`, `right_finger_sliding_joint`.\n"
          ],
          "name": "stderr"
        },
        {
          "output_type": "stream",
          "text": [
            "Connecting to meshcat-server at zmq_url=tcp://127.0.0.1:6001...\n",
            "You can open the visualizer by visiting the following URL:\n",
            "http://c28ff14c2933.ngrok.io/static/\n",
            "Connected to meshcat-server.\n"
          ],
          "name": "stdout"
        }
      ]
    },
    {
      "cell_type": "markdown",
      "metadata": {
        "id": "d5p2tbJWrWZ5"
      },
      "source": [
        "# A pick and place \"sketch\" with keyframes\n",
        "\n",
        "Let's first define the canonical frames of our problem.  We've got a handful of them, and will pass them in and out of several functions, so I'll use a dictionary to store them.\n",
        "\n",
        "*Edit*: I've added one more frame into the mix here, to get some clearance when moving between the bins.  Leaving it out gave my a nice [robot outtake](http://manipulation.csail.mit.edu/data/pick_fail.html), but we can do better."
      ]
    },
    {
      "cell_type": "code",
      "metadata": {
        "id": "zYuRDF6mSBx5",
        "outputId": "9b1b0e6b-46cf-45e6-a724-f04ded481d4c",
        "colab": {
          "base_uri": "https://localhost:8080/"
        }
      },
      "source": [
        "def make_gripper_frames(X_G, X_O):\n",
        "  \"\"\"\n",
        "  Takes a partial specification with X_G[\"initial\"] and X_O[\"initial\"] and X_0[\"goal\"], and \n",
        "  returns a X_G and times with all of the pick and place frames populated.\n",
        "  \"\"\"\n",
        "  # Define (again) the gripper pose relative to the object when in grasp.\n",
        "  p_GgraspO = [0, 0.12, 0]\n",
        "  R_GgraspO = RotationMatrix.MakeXRotation(np.pi/2.0).multiply(\n",
        "      RotationMatrix.MakeZRotation(np.pi/2.0))\n",
        "  X_GgraspO = RigidTransform(R_GgraspO, p_GgraspO)\n",
        "  X_OGgrasp = X_GgraspO.inverse()\n",
        "  # pregrasp is negative y in the gripper frame (see the figure!).\n",
        "  X_GgraspGpregrasp = RigidTransform([0, -0.08, 0])\n",
        "\n",
        "  X_G[\"pick\"] = X_O[\"initial\"].multiply(X_OGgrasp)\n",
        "  X_G[\"prepick\"] = X_G[\"pick\"].multiply(X_GgraspGpregrasp)\n",
        "  X_G[\"place\"] = X_O[\"goal\"].multiply(X_OGgrasp)\n",
        "  X_G[\"preplace\"] = X_G[\"place\"].multiply(X_GgraspGpregrasp)\n",
        "\n",
        "  # I'll interpolate a ahlfway orientation by converting to axis angle and halving the angle.\n",
        "  X_GprepickGpreplace = X_G[\"prepick\"].inverse().multiply(X_G[\"preplace\"])\n",
        "  angle_axis = X_GprepickGpreplace.rotation().ToAngleAxis()\n",
        "  X_GprepickGclearance = RigidTransform(AngleAxis(angle=angle_axis.angle()/2.0, axis=angle_axis.axis()), \n",
        "                                        X_GprepickGpreplace.translation()/2.0 + np.array([0, -0.3, 0]))\n",
        "  X_G[\"clearance\"] = X_G[\"prepick\"].multiply(X_GprepickGclearance)\n",
        "\n",
        "  # Now let's set the timing\n",
        "  times = {\"initial\": 0}\n",
        "  X_GinitialGprepick = X_G[\"initial\"].inverse().multiply(X_G[\"prepick\"])\n",
        "  times[\"prepick\"] = times[\"initial\"] + 10.0*np.linalg.norm(X_GinitialGprepick.translation())\n",
        "  # Allow some time for the gripper to close.\n",
        "  times[\"pick_start\"] = times[\"prepick\"] + 2.0\n",
        "  times[\"pick_end\"] = times[\"pick_start\"] + 2.0\n",
        "  times[\"postpick\"] = times[\"pick_end\"] + 2.0\n",
        "  time_to_from_clearance = 10.0*np.linalg.norm(X_GprepickGclearance.translation())\n",
        "  times[\"clearance\"] = times[\"postpick\"] + time_to_from_clearance\n",
        "  times[\"preplace\"] = times[\"clearance\"] + time_to_from_clearance\n",
        "  times[\"place_start\"] = times[\"preplace\"] + 2.0\n",
        "  times[\"place_end\"] = times[\"place_start\"] + 2.0\n",
        "  times[\"postplace\"] = times[\"place_end\"] + 2.0\n",
        "\n",
        "  return X_G, times\n",
        "\n",
        "X_G = {\"initial\": RigidTransform(RotationMatrix.MakeXRotation(-np.pi/2.0), [0, -0.25, 0.25])}\n",
        "X_O = {\"initial\": RigidTransform(RotationMatrix.MakeZRotation(np.pi/2.0), [-.2, -.75, 0.025]),\n",
        "       \"goal\": RigidTransform(RotationMatrix.MakeZRotation(np.pi),[.75, 0, 0.025])}\n",
        "X_G, times = make_gripper_frames(X_G, X_O)\n",
        "print(f\"Sanity check: The entire maneuver will take {times['postplace']} seconds to execute.\")"
      ],
      "execution_count": 79,
      "outputs": [
        {
          "output_type": "stream",
          "text": [
            "Sanity check: The entire maneuver will take 30.900220749318255 seconds to execute.\n"
          ],
          "name": "stdout"
        }
      ]
    },
    {
      "cell_type": "markdown",
      "metadata": {
        "id": "JnmfEw0zgzsn"
      },
      "source": [
        "Here's a simple visualization of those frames.  Use the controls menu in meshcat to view the different objects on the different \"paths\" to understand which objects belong to which frames.  Everything look reasonable?\n",
        "\n",
        "Try changing the initial and final pose of the gripper / object."
      ]
    },
    {
      "cell_type": "code",
      "metadata": {
        "id": "oXh50Cf1hU6N",
        "outputId": "a2ecec85-1f0d-4c75-9c10-b750f6f2af06",
        "colab": {
          "base_uri": "https://localhost:8080/"
        }
      },
      "source": [
        "def visualize_gripper_frames(X_G, X_O):\n",
        "    builder = DiagramBuilder()\n",
        "\n",
        "    plant, scene_graph = AddMultibodyPlantSceneGraph(builder, time_step = 0.0)\n",
        "    parser = Parser(plant, scene_graph)\n",
        "    gripper = FindResourceOrThrow(\n",
        "        \"drake/manipulation/models/wsg_50_description/sdf/schunk_wsg_50_no_tip.sdf\")\n",
        "    brick = FindResourceOrThrow(\n",
        "        \"drake/examples/manipulation_station/models/061_foam_brick.sdf\")\n",
        "\n",
        "    for key, pose in X_G.items():\n",
        "      g = parser.AddModelFromFile(gripper, f\"gripper_{key}\")\n",
        "      plant.WeldFrames(plant.world_frame(), plant.GetFrameByName(\"body\", g), pose)\n",
        "    for key, pose in X_O.items():\n",
        "      o = parser.AddModelFromFile(brick, f\"object_{key}\")\n",
        "      plant.WeldFrames(plant.world_frame(), plant.GetFrameByName(\"base_link\", o), pose)\n",
        "\n",
        "    plant.Finalize()\n",
        "\n",
        "\n",
        "    meshcat = ConnectMeshcatVisualizer(builder, scene_graph, zmq_url=zmq_url)\n",
        "    meshcat.load()\n",
        "\n",
        "    diagram = builder.Build()\n",
        "    context = diagram.CreateDefaultContext()\n",
        "    diagram.Publish(context)\n",
        "\n",
        "visualize_gripper_frames(X_G, X_O)"
      ],
      "execution_count": 80,
      "outputs": [
        {
          "output_type": "stream",
          "text": [
            "[2020-11-11 20:51:38.497] [console] [warning] Package \"wsg_50_description\" was found more than once in the search space.\n",
            "[2020-11-11 20:51:38.563] [console] [warning] Package \"wsg_50_description\" was found more than once in the search space.\n",
            "[2020-11-11 20:51:38.628] [console] [warning] Package \"wsg_50_description\" was found more than once in the search space.\n",
            "[2020-11-11 20:51:38.693] [console] [warning] Package \"wsg_50_description\" was found more than once in the search space.\n",
            "[2020-11-11 20:51:38.757] [console] [warning] Package \"wsg_50_description\" was found more than once in the search space.\n",
            "[2020-11-11 20:51:38.947] [console] [warning] Currently MultibodyPlant does not handle joint limits for continuous models. However some joints do specify limits. Consider setting a non-zero time step in the MultibodyPlant constructor; this will put MultibodyPlant in discrete-time mode, which does support joint limits.\n",
            "[2020-11-11 20:51:38.948] [console] [warning] Joints that specify limits are: `left_finger_sliding_joint`, `right_finger_sliding_joint`, `left_finger_sliding_joint`, `right_finger_sliding_joint`, `left_finger_sliding_joint`, `right_finger_sliding_joint`, `left_finger_sliding_joint`, `right_finger_sliding_joint`, `left_finger_sliding_joint`, `right_finger_sliding_joint`, `left_finger_sliding_joint`, `right_finger_sliding_joint`.\n",
            "[2020-11-11 20:51:38.988] [console] [warning] Currently MultibodyPlant does not handle joint limits for continuous models. However some joints do specify limits. Consider setting a non-zero time step in the MultibodyPlant constructor; this will put MultibodyPlant in discrete-time mode, which does support joint limits.\n",
            "[2020-11-11 20:51:38.988] [console] [warning] Joints that specify limits are: `left_finger_sliding_joint`, `right_finger_sliding_joint`, `left_finger_sliding_joint`, `right_finger_sliding_joint`, `left_finger_sliding_joint`, `right_finger_sliding_joint`, `left_finger_sliding_joint`, `right_finger_sliding_joint`, `left_finger_sliding_joint`, `right_finger_sliding_joint`, `left_finger_sliding_joint`, `right_finger_sliding_joint`.\n"
          ],
          "name": "stderr"
        },
        {
          "output_type": "stream",
          "text": [
            "Connecting to meshcat-server at zmq_url=tcp://127.0.0.1:6001...\n",
            "You can open the visualizer by visiting the following URL:\n",
            "http://c28ff14c2933.ngrok.io/static/\n",
            "Connected to meshcat-server.\n"
          ],
          "name": "stdout"
        }
      ]
    },
    {
      "cell_type": "markdown",
      "metadata": {
        "id": "HmcG3b_xSeQR"
      },
      "source": [
        "# Pick and place trajectories\n",
        "\n",
        "We've defined the keyframes, but now we will fill in timing details (what should be happening at each instant).  Interpolating between the positions is quite simple; we can encode these details as a `PiecewisePolynomial` trajectory in $\\Re^3$ over time.\n",
        "\n",
        "TODO(russt): Maybe implement `PiecewisePose` with an append workflow."
      ]
    },
    {
      "cell_type": "code",
      "metadata": {
        "id": "oiwljuszWh_O"
      },
      "source": [
        "def make_gripper_position_trajectory(X_G, times):\n",
        "    \"\"\"\n",
        "    Constructs a gripper position trajectory from the plan \"sketch\".\n",
        "    \"\"\"\n",
        "    # The syntax here is a little ugly; we need to pass in a matrix with the samples in the columns.\n",
        "    # TODO(russt): Add python bindings for the std::vector constructor.\n",
        "    traj = PiecewisePolynomial.FirstOrderHold(\n",
        "        [times[\"initial\"], times[\"prepick\"]], np.vstack([X_G[\"initial\"].translation(), X_G[\"prepick\"].translation()]).T)\n",
        "\n",
        "    # TODO(russt): I could make this less brittle if I was more careful on the names above, and just look up the pose for every time (in order)\n",
        "    traj.AppendFirstOrderSegment(times[\"pick_start\"], X_G[\"pick\"].translation())\n",
        "    traj.AppendFirstOrderSegment(times[\"pick_end\"], X_G[\"pick\"].translation())\n",
        "    traj.AppendFirstOrderSegment(times[\"postpick\"], X_G[\"prepick\"].translation())\n",
        "    traj.AppendFirstOrderSegment(times[\"clearance\"], X_G[\"clearance\"].translation())\n",
        "    traj.AppendFirstOrderSegment(times[\"preplace\"], X_G[\"preplace\"].translation())\n",
        "    traj.AppendFirstOrderSegment(times[\"place_start\"], X_G[\"place\"].translation())\n",
        "    traj.AppendFirstOrderSegment(times[\"place_end\"], X_G[\"place\"].translation())\n",
        "    traj.AppendFirstOrderSegment(times[\"postplace\"], X_G[\"preplace\"].translation())\n",
        "\n",
        "    return traj\n",
        "\n",
        "traj_p_G = make_gripper_position_trajectory(X_G, times)"
      ],
      "execution_count": 81,
      "outputs": []
    },
    {
      "cell_type": "markdown",
      "metadata": {
        "id": "2PnYrnSmEMYC"
      },
      "source": [
        "Now let's plot our trajectories.  `Altair` is a plotting library built on Pandas and Vega-lite (to support interactive graphics), which works well in Colab.  I aim to start using it more.  \n",
        "\n",
        "<sup><sub>TODO(russt): Add mouseover interaction that publishes to meshcat, so that a cursor on this plot renders the corresponding pose.(Unfortunately, I don't believe I can link a callback to python with altair).</sub></sup>"
      ]
    },
    {
      "cell_type": "code",
      "metadata": {
        "id": "Ppd-5B3V3cNC",
        "outputId": "6bd2276f-88c5-4804-9d90-bce9a38de803",
        "colab": {
          "base_uri": "https://localhost:8080/",
          "height": 418
        }
      },
      "source": [
        "data = dataframe(traj_p_G, traj_p_G.get_segment_times(), ['x','y','z'])\n",
        "alt.vconcat(\n",
        "  alt.Chart(data).mark_line().encode(x='t', y='x').properties(height=80),\n",
        "  alt.Chart(data).mark_line().encode(x='t', y='y').properties(height=80),\n",
        "  alt.Chart(data).mark_line().encode(x='t', y='z').properties(height=80),\n",
        ")"
      ],
      "execution_count": 82,
      "outputs": [
        {
          "output_type": "execute_result",
          "data": {
            "text/plain": [
              "alt.VConcatChart(...)"
            ],
            "text/html": [
              "\n",
              "<div id=\"altair-viz-27aa1bda8e974be492705e18cef6f545\"></div>\n",
              "<script type=\"text/javascript\">\n",
              "  (function(spec, embedOpt){\n",
              "    let outputDiv = document.currentScript.previousElementSibling;\n",
              "    if (outputDiv.id !== \"altair-viz-27aa1bda8e974be492705e18cef6f545\") {\n",
              "      outputDiv = document.getElementById(\"altair-viz-27aa1bda8e974be492705e18cef6f545\");\n",
              "    }\n",
              "    const paths = {\n",
              "      \"vega\": \"https://cdn.jsdelivr.net/npm//vega@5?noext\",\n",
              "      \"vega-lib\": \"https://cdn.jsdelivr.net/npm//vega-lib?noext\",\n",
              "      \"vega-lite\": \"https://cdn.jsdelivr.net/npm//vega-lite@4.8.1?noext\",\n",
              "      \"vega-embed\": \"https://cdn.jsdelivr.net/npm//vega-embed@6?noext\",\n",
              "    };\n",
              "\n",
              "    function loadScript(lib) {\n",
              "      return new Promise(function(resolve, reject) {\n",
              "        var s = document.createElement('script');\n",
              "        s.src = paths[lib];\n",
              "        s.async = true;\n",
              "        s.onload = () => resolve(paths[lib]);\n",
              "        s.onerror = () => reject(`Error loading script: ${paths[lib]}`);\n",
              "        document.getElementsByTagName(\"head\")[0].appendChild(s);\n",
              "      });\n",
              "    }\n",
              "\n",
              "    function showError(err) {\n",
              "      outputDiv.innerHTML = `<div class=\"error\" style=\"color:red;\">${err}</div>`;\n",
              "      throw err;\n",
              "    }\n",
              "\n",
              "    function displayChart(vegaEmbed) {\n",
              "      vegaEmbed(outputDiv, spec, embedOpt)\n",
              "        .catch(err => showError(`Javascript Error: ${err.message}<br>This usually means there's a typo in your chart specification. See the javascript console for the full traceback.`));\n",
              "    }\n",
              "\n",
              "    if(typeof define === \"function\" && define.amd) {\n",
              "      requirejs.config({paths});\n",
              "      require([\"vega-embed\"], displayChart, err => showError(`Error loading script: ${err.message}`));\n",
              "    } else if (typeof vegaEmbed === \"function\") {\n",
              "      displayChart(vegaEmbed);\n",
              "    } else {\n",
              "      loadScript(\"vega\")\n",
              "        .then(() => loadScript(\"vega-lite\"))\n",
              "        .then(() => loadScript(\"vega-embed\"))\n",
              "        .catch(showError)\n",
              "        .then(() => displayChart(vegaEmbed));\n",
              "    }\n",
              "  })({\"config\": {\"view\": {\"continuousWidth\": 400, \"continuousHeight\": 300}}, \"vconcat\": [{\"mark\": \"line\", \"encoding\": {\"x\": {\"type\": \"quantitative\", \"field\": \"t\"}, \"y\": {\"type\": \"quantitative\", \"field\": \"x\"}}, \"height\": 80}, {\"mark\": \"line\", \"encoding\": {\"x\": {\"type\": \"quantitative\", \"field\": \"t\"}, \"y\": {\"type\": \"quantitative\", \"field\": \"y\"}}, \"height\": 80}, {\"mark\": \"line\", \"encoding\": {\"x\": {\"type\": \"quantitative\", \"field\": \"t\"}, \"y\": {\"type\": \"quantitative\", \"field\": \"z\"}}, \"height\": 80}], \"data\": {\"name\": \"data-c91a10f288f4cb0e66c735179d061229\"}, \"$schema\": \"https://vega.github.io/schema/vega-lite/v4.8.1.json\", \"datasets\": {\"data-c91a10f288f4cb0e66c735179d061229\": [{\"t\": 0.0, \"x\": 0.0, \"y\": -0.25, \"z\": 0.25}, {\"t\": 5.390964663211957, \"x\": -0.19999999999999998, \"y\": -0.75, \"z\": 0.22499999999999998}, {\"t\": 7.390964663211957, \"x\": -0.2, \"y\": -0.75, \"z\": 0.145}, {\"t\": 9.390964663211957, \"x\": -0.2, \"y\": -0.75, \"z\": 0.145}, {\"t\": 11.390964663211957, \"x\": -0.2, \"y\": -0.75, \"z\": 0.22499999999999998}, {\"t\": 18.145592706265106, \"x\": 0.27499999999999997, \"y\": -0.375, \"z\": 0.5249999999999999}, {\"t\": 24.900220749318255, \"x\": 0.75, \"y\": 0.0, \"z\": 0.22499999999999998}, {\"t\": 26.900220749318255, \"x\": 0.75, \"y\": -4.499279347985572e-34, \"z\": 0.145}, {\"t\": 28.900220749318255, \"x\": 0.75, \"y\": -4.499279347985572e-34, \"z\": 0.145}, {\"t\": 30.900220749318255, \"x\": 0.75, \"y\": -7.498798913309288e-34, \"z\": 0.22499999999999998}]}}, {\"mode\": \"vega-lite\"});\n",
              "</script>"
            ]
          },
          "metadata": {
            "tags": []
          },
          "execution_count": 82
        }
      ]
    },
    {
      "cell_type": "markdown",
      "metadata": {
        "id": "yIVvA6ZoFLvt"
      },
      "source": [
        "Unfortunately, Altair doesn't do 3D plotting (neither does mpld3), so here is the Plotly Express version."
      ]
    },
    {
      "cell_type": "code",
      "metadata": {
        "id": "2vgn7mxcDvlK",
        "outputId": "2a0a9229-5f99-4613-b69f-9f1b05350e06",
        "colab": {
          "base_uri": "https://localhost:8080/",
          "height": 542
        }
      },
      "source": [
        "data = dataframe(traj_p_G, np.linspace(traj_p_G.start_time(), traj_p_G.end_time(), 50), ['x','y','z'])\n",
        "fig = px.line_3d(data, x='x', y='y', z='z')\n",
        "fig.update_traces(mode='lines+markers',\n",
        "                  marker=dict(size=3, color=\"rgb(153, 51, 51)\"),\n",
        "                  line=dict(color=\"rgb(153, 51, 51)\"))\n",
        "if running_as_notebook:\n",
        "    fig.show()"
      ],
      "execution_count": 83,
      "outputs": [
        {
          "output_type": "display_data",
          "data": {
            "text/html": [
              "<html>\n",
              "<head><meta charset=\"utf-8\" /></head>\n",
              "<body>\n",
              "    <div>\n",
              "            <script src=\"https://cdnjs.cloudflare.com/ajax/libs/mathjax/2.7.5/MathJax.js?config=TeX-AMS-MML_SVG\"></script><script type=\"text/javascript\">if (window.MathJax) {MathJax.Hub.Config({SVG: {font: \"STIX-Web\"}});}</script>\n",
              "                <script type=\"text/javascript\">window.PlotlyConfig = {MathJaxConfig: 'local'};</script>\n",
              "        <script src=\"https://cdn.plot.ly/plotly-latest.min.js\"></script>    \n",
              "            <div id=\"d0607139-cc22-4900-a194-da72908c7a80\" class=\"plotly-graph-div\" style=\"height:525px; width:100%;\"></div>\n",
              "            <script type=\"text/javascript\">\n",
              "                \n",
              "                    window.PLOTLYENV=window.PLOTLYENV || {};\n",
              "                    \n",
              "                if (document.getElementById(\"d0607139-cc22-4900-a194-da72908c7a80\")) {\n",
              "                    Plotly.newPlot(\n",
              "                        'd0607139-cc22-4900-a194-da72908c7a80',\n",
              "                        [{\"hoverlabel\": {\"namelength\": 0}, \"hovertemplate\": \"x=%{x}<br>y=%{y}<br>z=%{z}\", \"legendgroup\": \"\", \"line\": {\"color\": \"rgb(153, 51, 51)\", \"dash\": \"solid\"}, \"marker\": {\"color\": \"rgb(153, 51, 51)\", \"size\": 3}, \"mode\": \"lines+markers\", \"name\": \"\", \"scene\": \"scene\", \"showlegend\": false, \"type\": \"scatter3d\", \"x\": [0.0, -0.02339532122291312, -0.04679064244582624, -0.07018596366873936, -0.09358128489165247, -0.11697660611456559, -0.14037192733747872, -0.16376724856039182, -0.18716256978330495, -0.19999999999999998, -0.19999999999999998, -0.2, -0.2, -0.2, -0.2, -0.2, -0.2, -0.2, -0.2, -0.15845693474012273, -0.11411060592169743, -0.06976427710327215, -0.025417948284846975, 0.018928380533578315, 0.06327470935200358, 0.1076210381704289, 0.15196736698885416, 0.1963136958072793, 0.24066002462570452, 0.2850063534441299, 0.32935268226255504, 0.37369901108098047, 0.4180453398994056, 0.4623916687178308, 0.5067379975362563, 0.5510843263546814, 0.5954306551731068, 0.6397769839915319, 0.6841233128099571, 0.7284696416283825, 0.75, 0.75, 0.75, 0.75, 0.75, 0.75, 0.75, 0.75, 0.75, 0.75], \"y\": [-0.25, -0.3084883030572828, -0.3669766061145656, -0.4254649091718484, -0.4839532122291312, -0.5424415152864139, -0.6009298183436969, -0.6594181214009796, -0.7179064244582624, -0.75, -0.75, -0.75, -0.75, -0.75, -0.75, -0.75, -0.75, -0.75, -0.75, -0.7172028432158863, -0.6821925836223927, -0.6471823240288991, -0.6121720644354055, -0.5771618048419118, -0.5421515452484182, -0.5071412856549246, -0.47213102606143087, -0.43712076646793735, -0.4021105068744438, -0.36710024728095003, -0.3320899876874565, -0.29707972809396277, -0.2620694685004692, -0.22705920890697565, -0.1920489493134819, -0.15703868971998836, -0.12202843012649461, -0.08701817053300104, -0.05200791093950752, -0.016997651346013776, -7.29893905278903e-35, -2.1485543651319908e-34, -3.5672148249850866e-34, -4.499279347985572e-34, -4.499279347985572e-34, -4.499279347985572e-34, -4.661477993603107e-34, -5.60725163350517e-34, -6.553025273407229e-34, -7.498798913309288e-34], \"z\": [0.25, 0.24707558484713585, 0.24415116969427172, 0.24122675454140757, 0.23830233938854342, 0.2353779242356793, 0.23245350908281515, 0.229529093929951, 0.22660467877708687, 0.21361655653348696, 0.1883918865340435, 0.16316721653460006, 0.145, 0.145, 0.145, 0.1477314634631738, 0.1729561334626173, 0.1981808034620608, 0.22340547346150427, 0.2512377254272909, 0.2792459331020858, 0.30725414077688074, 0.3352623484516756, 0.36327055612647047, 0.39127876380126536, 0.4192869714760603, 0.4472951791508552, 0.47530338682565004, 0.5033115945004449, 0.5186801978247599, 0.4906719901499651, 0.46266378247517015, 0.4346555748003753, 0.4066473671255805, 0.37863915945078547, 0.35063095177599063, 0.3226227441011956, 0.2946145364264008, 0.266606328751606, 0.238598121076811, 0.2120220299949912, 0.18679735999554778, 0.16157268999610422, 0.145, 0.145, 0.145, 0.14932599000166957, 0.17455066000111313, 0.19977533000055656, 0.22499999999999998]}],\n",
              "                        {\"legend\": {\"tracegroupgap\": 0}, \"margin\": {\"t\": 60}, \"scene\": {\"domain\": {\"x\": [0.0, 1.0], \"y\": [0.0, 1.0]}, \"xaxis\": {\"title\": {\"text\": \"x\"}}, \"yaxis\": {\"title\": {\"text\": \"y\"}}, \"zaxis\": {\"title\": {\"text\": \"z\"}}}, \"template\": {\"data\": {\"bar\": [{\"error_x\": {\"color\": \"#2a3f5f\"}, \"error_y\": {\"color\": \"#2a3f5f\"}, \"marker\": {\"line\": {\"color\": \"#E5ECF6\", \"width\": 0.5}}, \"type\": \"bar\"}], \"barpolar\": [{\"marker\": {\"line\": {\"color\": \"#E5ECF6\", \"width\": 0.5}}, \"type\": \"barpolar\"}], \"carpet\": [{\"aaxis\": {\"endlinecolor\": \"#2a3f5f\", \"gridcolor\": \"white\", \"linecolor\": \"white\", \"minorgridcolor\": \"white\", \"startlinecolor\": \"#2a3f5f\"}, \"baxis\": {\"endlinecolor\": \"#2a3f5f\", \"gridcolor\": \"white\", \"linecolor\": \"white\", \"minorgridcolor\": \"white\", \"startlinecolor\": \"#2a3f5f\"}, \"type\": \"carpet\"}], \"choropleth\": [{\"colorbar\": {\"outlinewidth\": 0, \"ticks\": \"\"}, \"type\": \"choropleth\"}], \"contour\": [{\"colorbar\": {\"outlinewidth\": 0, \"ticks\": \"\"}, \"colorscale\": [[0.0, \"#0d0887\"], [0.1111111111111111, \"#46039f\"], [0.2222222222222222, \"#7201a8\"], [0.3333333333333333, \"#9c179e\"], [0.4444444444444444, \"#bd3786\"], [0.5555555555555556, \"#d8576b\"], [0.6666666666666666, \"#ed7953\"], [0.7777777777777778, \"#fb9f3a\"], [0.8888888888888888, \"#fdca26\"], [1.0, \"#f0f921\"]], \"type\": \"contour\"}], \"contourcarpet\": [{\"colorbar\": {\"outlinewidth\": 0, \"ticks\": \"\"}, \"type\": \"contourcarpet\"}], \"heatmap\": [{\"colorbar\": {\"outlinewidth\": 0, \"ticks\": \"\"}, \"colorscale\": [[0.0, \"#0d0887\"], [0.1111111111111111, \"#46039f\"], [0.2222222222222222, \"#7201a8\"], [0.3333333333333333, \"#9c179e\"], [0.4444444444444444, \"#bd3786\"], [0.5555555555555556, \"#d8576b\"], [0.6666666666666666, \"#ed7953\"], [0.7777777777777778, \"#fb9f3a\"], [0.8888888888888888, \"#fdca26\"], [1.0, \"#f0f921\"]], \"type\": \"heatmap\"}], \"heatmapgl\": [{\"colorbar\": {\"outlinewidth\": 0, \"ticks\": \"\"}, \"colorscale\": [[0.0, \"#0d0887\"], [0.1111111111111111, \"#46039f\"], [0.2222222222222222, \"#7201a8\"], [0.3333333333333333, \"#9c179e\"], [0.4444444444444444, \"#bd3786\"], [0.5555555555555556, \"#d8576b\"], [0.6666666666666666, \"#ed7953\"], [0.7777777777777778, \"#fb9f3a\"], [0.8888888888888888, \"#fdca26\"], [1.0, \"#f0f921\"]], \"type\": \"heatmapgl\"}], \"histogram\": [{\"marker\": {\"colorbar\": {\"outlinewidth\": 0, \"ticks\": \"\"}}, \"type\": \"histogram\"}], \"histogram2d\": [{\"colorbar\": {\"outlinewidth\": 0, \"ticks\": \"\"}, \"colorscale\": [[0.0, \"#0d0887\"], [0.1111111111111111, \"#46039f\"], [0.2222222222222222, \"#7201a8\"], [0.3333333333333333, \"#9c179e\"], [0.4444444444444444, \"#bd3786\"], [0.5555555555555556, \"#d8576b\"], [0.6666666666666666, \"#ed7953\"], [0.7777777777777778, \"#fb9f3a\"], [0.8888888888888888, \"#fdca26\"], [1.0, \"#f0f921\"]], \"type\": \"histogram2d\"}], \"histogram2dcontour\": [{\"colorbar\": {\"outlinewidth\": 0, \"ticks\": \"\"}, \"colorscale\": [[0.0, \"#0d0887\"], [0.1111111111111111, \"#46039f\"], [0.2222222222222222, \"#7201a8\"], [0.3333333333333333, \"#9c179e\"], [0.4444444444444444, \"#bd3786\"], [0.5555555555555556, \"#d8576b\"], [0.6666666666666666, \"#ed7953\"], [0.7777777777777778, \"#fb9f3a\"], [0.8888888888888888, \"#fdca26\"], [1.0, \"#f0f921\"]], \"type\": \"histogram2dcontour\"}], \"mesh3d\": [{\"colorbar\": {\"outlinewidth\": 0, \"ticks\": \"\"}, \"type\": \"mesh3d\"}], \"parcoords\": [{\"line\": {\"colorbar\": {\"outlinewidth\": 0, \"ticks\": \"\"}}, \"type\": \"parcoords\"}], \"pie\": [{\"automargin\": true, \"type\": \"pie\"}], \"scatter\": [{\"marker\": {\"colorbar\": {\"outlinewidth\": 0, \"ticks\": \"\"}}, \"type\": \"scatter\"}], \"scatter3d\": [{\"line\": {\"colorbar\": {\"outlinewidth\": 0, \"ticks\": \"\"}}, \"marker\": {\"colorbar\": {\"outlinewidth\": 0, \"ticks\": \"\"}}, \"type\": \"scatter3d\"}], \"scattercarpet\": [{\"marker\": {\"colorbar\": {\"outlinewidth\": 0, \"ticks\": \"\"}}, \"type\": \"scattercarpet\"}], \"scattergeo\": [{\"marker\": {\"colorbar\": {\"outlinewidth\": 0, \"ticks\": \"\"}}, \"type\": \"scattergeo\"}], \"scattergl\": [{\"marker\": {\"colorbar\": {\"outlinewidth\": 0, \"ticks\": \"\"}}, \"type\": \"scattergl\"}], \"scattermapbox\": [{\"marker\": {\"colorbar\": {\"outlinewidth\": 0, \"ticks\": \"\"}}, \"type\": \"scattermapbox\"}], \"scatterpolar\": [{\"marker\": {\"colorbar\": {\"outlinewidth\": 0, \"ticks\": \"\"}}, \"type\": \"scatterpolar\"}], \"scatterpolargl\": [{\"marker\": {\"colorbar\": {\"outlinewidth\": 0, \"ticks\": \"\"}}, \"type\": \"scatterpolargl\"}], \"scatterternary\": [{\"marker\": {\"colorbar\": {\"outlinewidth\": 0, \"ticks\": \"\"}}, \"type\": \"scatterternary\"}], \"surface\": [{\"colorbar\": {\"outlinewidth\": 0, \"ticks\": \"\"}, \"colorscale\": [[0.0, \"#0d0887\"], [0.1111111111111111, \"#46039f\"], [0.2222222222222222, \"#7201a8\"], [0.3333333333333333, \"#9c179e\"], [0.4444444444444444, \"#bd3786\"], [0.5555555555555556, \"#d8576b\"], [0.6666666666666666, \"#ed7953\"], [0.7777777777777778, \"#fb9f3a\"], [0.8888888888888888, \"#fdca26\"], [1.0, \"#f0f921\"]], \"type\": \"surface\"}], \"table\": [{\"cells\": {\"fill\": {\"color\": \"#EBF0F8\"}, \"line\": {\"color\": \"white\"}}, \"header\": {\"fill\": {\"color\": \"#C8D4E3\"}, \"line\": {\"color\": \"white\"}}, \"type\": \"table\"}]}, \"layout\": {\"annotationdefaults\": {\"arrowcolor\": \"#2a3f5f\", \"arrowhead\": 0, \"arrowwidth\": 1}, \"coloraxis\": {\"colorbar\": {\"outlinewidth\": 0, \"ticks\": \"\"}}, \"colorscale\": {\"diverging\": [[0, \"#8e0152\"], [0.1, \"#c51b7d\"], [0.2, \"#de77ae\"], [0.3, \"#f1b6da\"], [0.4, \"#fde0ef\"], [0.5, \"#f7f7f7\"], [0.6, \"#e6f5d0\"], [0.7, \"#b8e186\"], [0.8, \"#7fbc41\"], [0.9, \"#4d9221\"], [1, \"#276419\"]], \"sequential\": [[0.0, \"#0d0887\"], [0.1111111111111111, \"#46039f\"], [0.2222222222222222, \"#7201a8\"], [0.3333333333333333, \"#9c179e\"], [0.4444444444444444, \"#bd3786\"], [0.5555555555555556, \"#d8576b\"], [0.6666666666666666, \"#ed7953\"], [0.7777777777777778, \"#fb9f3a\"], [0.8888888888888888, \"#fdca26\"], [1.0, \"#f0f921\"]], \"sequentialminus\": [[0.0, \"#0d0887\"], [0.1111111111111111, \"#46039f\"], [0.2222222222222222, \"#7201a8\"], [0.3333333333333333, \"#9c179e\"], [0.4444444444444444, \"#bd3786\"], [0.5555555555555556, \"#d8576b\"], [0.6666666666666666, \"#ed7953\"], [0.7777777777777778, \"#fb9f3a\"], [0.8888888888888888, \"#fdca26\"], [1.0, \"#f0f921\"]]}, \"colorway\": [\"#636efa\", \"#EF553B\", \"#00cc96\", \"#ab63fa\", \"#FFA15A\", \"#19d3f3\", \"#FF6692\", \"#B6E880\", \"#FF97FF\", \"#FECB52\"], \"font\": {\"color\": \"#2a3f5f\"}, \"geo\": {\"bgcolor\": \"white\", \"lakecolor\": \"white\", \"landcolor\": \"#E5ECF6\", \"showlakes\": true, \"showland\": true, \"subunitcolor\": \"white\"}, \"hoverlabel\": {\"align\": \"left\"}, \"hovermode\": \"closest\", \"mapbox\": {\"style\": \"light\"}, \"paper_bgcolor\": \"white\", \"plot_bgcolor\": \"#E5ECF6\", \"polar\": {\"angularaxis\": {\"gridcolor\": \"white\", \"linecolor\": \"white\", \"ticks\": \"\"}, \"bgcolor\": \"#E5ECF6\", \"radialaxis\": {\"gridcolor\": \"white\", \"linecolor\": \"white\", \"ticks\": \"\"}}, \"scene\": {\"xaxis\": {\"backgroundcolor\": \"#E5ECF6\", \"gridcolor\": \"white\", \"gridwidth\": 2, \"linecolor\": \"white\", \"showbackground\": true, \"ticks\": \"\", \"zerolinecolor\": \"white\"}, \"yaxis\": {\"backgroundcolor\": \"#E5ECF6\", \"gridcolor\": \"white\", \"gridwidth\": 2, \"linecolor\": \"white\", \"showbackground\": true, \"ticks\": \"\", \"zerolinecolor\": \"white\"}, \"zaxis\": {\"backgroundcolor\": \"#E5ECF6\", \"gridcolor\": \"white\", \"gridwidth\": 2, \"linecolor\": \"white\", \"showbackground\": true, \"ticks\": \"\", \"zerolinecolor\": \"white\"}}, \"shapedefaults\": {\"line\": {\"color\": \"#2a3f5f\"}}, \"ternary\": {\"aaxis\": {\"gridcolor\": \"white\", \"linecolor\": \"white\", \"ticks\": \"\"}, \"baxis\": {\"gridcolor\": \"white\", \"linecolor\": \"white\", \"ticks\": \"\"}, \"bgcolor\": \"#E5ECF6\", \"caxis\": {\"gridcolor\": \"white\", \"linecolor\": \"white\", \"ticks\": \"\"}}, \"title\": {\"x\": 0.05}, \"xaxis\": {\"automargin\": true, \"gridcolor\": \"white\", \"linecolor\": \"white\", \"ticks\": \"\", \"title\": {\"standoff\": 15}, \"zerolinecolor\": \"white\", \"zerolinewidth\": 2}, \"yaxis\": {\"automargin\": true, \"gridcolor\": \"white\", \"linecolor\": \"white\", \"ticks\": \"\", \"title\": {\"standoff\": 15}, \"zerolinecolor\": \"white\", \"zerolinewidth\": 2}}}},\n",
              "                        {\"responsive\": true}\n",
              "                    ).then(function(){\n",
              "                            \n",
              "var gd = document.getElementById('d0607139-cc22-4900-a194-da72908c7a80');\n",
              "var x = new MutationObserver(function (mutations, observer) {{\n",
              "        var display = window.getComputedStyle(gd).display;\n",
              "        if (!display || display === 'none') {{\n",
              "            console.log([gd, 'removed!']);\n",
              "            Plotly.purge(gd);\n",
              "            observer.disconnect();\n",
              "        }}\n",
              "}});\n",
              "\n",
              "// Listen for the removal of the full notebook cells\n",
              "var notebookContainer = gd.closest('#notebook-container');\n",
              "if (notebookContainer) {{\n",
              "    x.observe(notebookContainer, {childList: true});\n",
              "}}\n",
              "\n",
              "// Listen for the clearing of the current output cell\n",
              "var outputEl = gd.closest('.output');\n",
              "if (outputEl) {{\n",
              "    x.observe(outputEl, {childList: true});\n",
              "}}\n",
              "\n",
              "                        })\n",
              "                };\n",
              "                \n",
              "            </script>\n",
              "        </div>\n",
              "</body>\n",
              "</html>"
            ]
          },
          "metadata": {
            "tags": []
          }
        }
      ]
    },
    {
      "cell_type": "markdown",
      "metadata": {
        "id": "NhXx70MP4C2N"
      },
      "source": [
        "We also need to come up with a time trajectory for the orientations of our gripper.  Simple straight-line interpolation between rotations doesn't work particularly well, no matter how you are representing your rotations.  We'll use the quaternion \"slerp\" here (short for \"spherical linear interpolation\"), using the `PiecewiseQuaternionSlerp` trajectory class."
      ]
    },
    {
      "cell_type": "code",
      "metadata": {
        "id": "4yvktzauCntQ"
      },
      "source": [
        "def make_gripper_orientation_trajectory(X_G, times):\n",
        "    \"\"\"\n",
        "    Constructs a gripper position trajectory from the plan \"sketch\".\n",
        "    \"\"\"\n",
        "    traj = PiecewiseQuaternionSlerp();\n",
        "    traj.Append(times[\"initial\"], X_G[\"initial\"].rotation())\n",
        "    traj.Append(times[\"prepick\"], X_G[\"prepick\"].rotation())\n",
        "    traj.Append(times[\"pick_start\"], X_G[\"pick\"].rotation())\n",
        "    traj.Append(times[\"pick_end\"], X_G[\"pick\"].rotation())\n",
        "    traj.Append(times[\"postpick\"], X_G[\"prepick\"].rotation())\n",
        "    traj.Append(times[\"clearance\"], X_G[\"clearance\"].rotation())\n",
        "    traj.Append(times[\"preplace\"], X_G[\"preplace\"].rotation())\n",
        "    traj.Append(times[\"place_start\"], X_G[\"place\"].rotation())\n",
        "    traj.Append(times[\"place_end\"], X_G[\"place\"].rotation())\n",
        "    traj.Append(times[\"postplace\"], X_G[\"preplace\"].rotation())\n",
        "\n",
        "    return traj\n",
        "\n",
        "traj_R_G = make_gripper_orientation_trajectory(X_G, times)"
      ],
      "execution_count": 84,
      "outputs": []
    },
    {
      "cell_type": "markdown",
      "metadata": {
        "id": "zNNRr4Fq7frG"
      },
      "source": [
        "We can plot the orientation trajectory, too.  Here are the components of the quaternion over time."
      ]
    },
    {
      "cell_type": "code",
      "metadata": {
        "id": "4aKEnaLJ50pF",
        "outputId": "681c6e99-6d09-4be1-ae98-f4f18fc98e60",
        "colab": {
          "base_uri": "https://localhost:8080/",
          "height": 562
        }
      },
      "source": [
        "data = dataframe(traj_R_G, traj_R_G.get_segment_times(), ['x','y','z','w'])\n",
        "alt.vconcat(\n",
        "  alt.Chart(data).mark_line().encode(x='t', y='x').properties(height=80),\n",
        "  alt.Chart(data).mark_line().encode(x='t', y='y').properties(height=80),\n",
        "  alt.Chart(data).mark_line().encode(x='t', y='z').properties(height=80),\n",
        "  alt.Chart(data).mark_line().encode(x='t', y='w').properties(height=80)\n",
        ")"
      ],
      "execution_count": 85,
      "outputs": [
        {
          "output_type": "execute_result",
          "data": {
            "text/plain": [
              "alt.VConcatChart(...)"
            ],
            "text/html": [
              "\n",
              "<div id=\"altair-viz-2172eb0b3332403d8965f6a3fbf6f75f\"></div>\n",
              "<script type=\"text/javascript\">\n",
              "  (function(spec, embedOpt){\n",
              "    let outputDiv = document.currentScript.previousElementSibling;\n",
              "    if (outputDiv.id !== \"altair-viz-2172eb0b3332403d8965f6a3fbf6f75f\") {\n",
              "      outputDiv = document.getElementById(\"altair-viz-2172eb0b3332403d8965f6a3fbf6f75f\");\n",
              "    }\n",
              "    const paths = {\n",
              "      \"vega\": \"https://cdn.jsdelivr.net/npm//vega@5?noext\",\n",
              "      \"vega-lib\": \"https://cdn.jsdelivr.net/npm//vega-lib?noext\",\n",
              "      \"vega-lite\": \"https://cdn.jsdelivr.net/npm//vega-lite@4.8.1?noext\",\n",
              "      \"vega-embed\": \"https://cdn.jsdelivr.net/npm//vega-embed@6?noext\",\n",
              "    };\n",
              "\n",
              "    function loadScript(lib) {\n",
              "      return new Promise(function(resolve, reject) {\n",
              "        var s = document.createElement('script');\n",
              "        s.src = paths[lib];\n",
              "        s.async = true;\n",
              "        s.onload = () => resolve(paths[lib]);\n",
              "        s.onerror = () => reject(`Error loading script: ${paths[lib]}`);\n",
              "        document.getElementsByTagName(\"head\")[0].appendChild(s);\n",
              "      });\n",
              "    }\n",
              "\n",
              "    function showError(err) {\n",
              "      outputDiv.innerHTML = `<div class=\"error\" style=\"color:red;\">${err}</div>`;\n",
              "      throw err;\n",
              "    }\n",
              "\n",
              "    function displayChart(vegaEmbed) {\n",
              "      vegaEmbed(outputDiv, spec, embedOpt)\n",
              "        .catch(err => showError(`Javascript Error: ${err.message}<br>This usually means there's a typo in your chart specification. See the javascript console for the full traceback.`));\n",
              "    }\n",
              "\n",
              "    if(typeof define === \"function\" && define.amd) {\n",
              "      requirejs.config({paths});\n",
              "      require([\"vega-embed\"], displayChart, err => showError(`Error loading script: ${err.message}`));\n",
              "    } else if (typeof vegaEmbed === \"function\") {\n",
              "      displayChart(vegaEmbed);\n",
              "    } else {\n",
              "      loadScript(\"vega\")\n",
              "        .then(() => loadScript(\"vega-lite\"))\n",
              "        .then(() => loadScript(\"vega-embed\"))\n",
              "        .catch(showError)\n",
              "        .then(() => displayChart(vegaEmbed));\n",
              "    }\n",
              "  })({\"config\": {\"view\": {\"continuousWidth\": 400, \"continuousHeight\": 300}}, \"vconcat\": [{\"mark\": \"line\", \"encoding\": {\"x\": {\"type\": \"quantitative\", \"field\": \"t\"}, \"y\": {\"type\": \"quantitative\", \"field\": \"x\"}}, \"height\": 80}, {\"mark\": \"line\", \"encoding\": {\"x\": {\"type\": \"quantitative\", \"field\": \"t\"}, \"y\": {\"type\": \"quantitative\", \"field\": \"y\"}}, \"height\": 80}, {\"mark\": \"line\", \"encoding\": {\"x\": {\"type\": \"quantitative\", \"field\": \"t\"}, \"y\": {\"type\": \"quantitative\", \"field\": \"z\"}}, \"height\": 80}, {\"mark\": \"line\", \"encoding\": {\"x\": {\"type\": \"quantitative\", \"field\": \"t\"}, \"y\": {\"type\": \"quantitative\", \"field\": \"w\"}}, \"height\": 80}], \"data\": {\"name\": \"data-286f86109ca22f5bc6e37b1dea04f323\"}, \"$schema\": \"https://vega.github.io/schema/vega-lite/v4.8.1.json\", \"datasets\": {\"data-286f86109ca22f5bc6e37b1dea04f323\": [{\"t\": 0.0, \"x\": 1.0, \"y\": 0.0, \"z\": -0.0, \"w\": -0.0}, {\"t\": 5.390964663211957, \"x\": 1.0, \"y\": 0.0, \"z\": -0.0, \"w\": -0.0}, {\"t\": 7.390964663211957, \"x\": 1.0, \"y\": 0.0, \"z\": -0.0, \"w\": -0.0}, {\"t\": 9.390964663211957, \"x\": 1.0, \"y\": 0.0, \"z\": -0.0, \"w\": -0.0}, {\"t\": 11.390964663211957, \"x\": 1.0, \"y\": 0.0, \"z\": -0.0, \"w\": -0.0}, {\"t\": 18.145592706265106, \"x\": 0.7071067811865477, \"y\": 0.7071067811865475, \"z\": 0.0, \"w\": 0.0}, {\"t\": 24.900220749318255, \"x\": 0.0, \"y\": 1.0, \"z\": 1.1102230246251565e-16, \"w\": -1.1102230246251565e-16}, {\"t\": 26.900220749318255, \"x\": 0.0, \"y\": 1.0, \"z\": 1.1102230246251565e-16, \"w\": -1.1102230246251565e-16}, {\"t\": 28.900220749318255, \"x\": 0.0, \"y\": 1.0, \"z\": 1.1102230246251565e-16, \"w\": -1.1102230246251565e-16}, {\"t\": 30.900220749318255, \"x\": 0.0, \"y\": 1.0, \"z\": 1.1102230246251565e-16, \"w\": -1.1102230246251565e-16}]}}, {\"mode\": \"vega-lite\"});\n",
              "</script>"
            ]
          },
          "metadata": {
            "tags": []
          },
          "execution_count": 85
        }
      ]
    },
    {
      "cell_type": "markdown",
      "metadata": {
        "id": "dWCyowMC8LUN"
      },
      "source": [
        "Better, I think, to just plot the entire result.  Before we do, let's quickly define the finger trajectory."
      ]
    },
    {
      "cell_type": "code",
      "metadata": {
        "id": "65OocrXD8TSA"
      },
      "source": [
        "opened = np.array([0.107]);\n",
        "closed = np.array([0.0]);\n",
        "\n",
        "def make_wsg_command_trajectory(times):\n",
        "    traj_wsg_command = PiecewisePolynomial.FirstOrderHold(\n",
        "        [times[\"initial\"], times[\"pick_start\"]], np.hstack([[opened], [opened]]))\n",
        "    traj_wsg_command.AppendFirstOrderSegment(times[\"pick_end\"], closed)\n",
        "    traj_wsg_command.AppendFirstOrderSegment(times[\"place_start\"], closed)\n",
        "    traj_wsg_command.AppendFirstOrderSegment(times[\"place_end\"], opened)\n",
        "    traj_wsg_command.AppendFirstOrderSegment(times[\"postplace\"], opened)\n",
        "    return traj_wsg_command\n",
        "\n",
        "traj_wsg_command = make_wsg_command_trajectory(times)"
      ],
      "execution_count": 86,
      "outputs": []
    },
    {
      "cell_type": "code",
      "metadata": {
        "id": "aEc95stq9tyx",
        "outputId": "2924eea6-02d5-451e-cb11-da288aa6401b",
        "colab": {
          "base_uri": "https://localhost:8080/",
          "height": 143
        }
      },
      "source": [
        "data = dataframe(traj_wsg_command, traj_wsg_command.get_segment_times(), ['wsg'])\n",
        "alt.Chart(data).mark_line().encode(x='t', y='wsg').properties(height=80)"
      ],
      "execution_count": 87,
      "outputs": [
        {
          "output_type": "execute_result",
          "data": {
            "text/plain": [
              "alt.Chart(...)"
            ],
            "text/html": [
              "\n",
              "<div id=\"altair-viz-ef470a36da1a42ee8fbaa53b5a979352\"></div>\n",
              "<script type=\"text/javascript\">\n",
              "  (function(spec, embedOpt){\n",
              "    let outputDiv = document.currentScript.previousElementSibling;\n",
              "    if (outputDiv.id !== \"altair-viz-ef470a36da1a42ee8fbaa53b5a979352\") {\n",
              "      outputDiv = document.getElementById(\"altair-viz-ef470a36da1a42ee8fbaa53b5a979352\");\n",
              "    }\n",
              "    const paths = {\n",
              "      \"vega\": \"https://cdn.jsdelivr.net/npm//vega@5?noext\",\n",
              "      \"vega-lib\": \"https://cdn.jsdelivr.net/npm//vega-lib?noext\",\n",
              "      \"vega-lite\": \"https://cdn.jsdelivr.net/npm//vega-lite@4.8.1?noext\",\n",
              "      \"vega-embed\": \"https://cdn.jsdelivr.net/npm//vega-embed@6?noext\",\n",
              "    };\n",
              "\n",
              "    function loadScript(lib) {\n",
              "      return new Promise(function(resolve, reject) {\n",
              "        var s = document.createElement('script');\n",
              "        s.src = paths[lib];\n",
              "        s.async = true;\n",
              "        s.onload = () => resolve(paths[lib]);\n",
              "        s.onerror = () => reject(`Error loading script: ${paths[lib]}`);\n",
              "        document.getElementsByTagName(\"head\")[0].appendChild(s);\n",
              "      });\n",
              "    }\n",
              "\n",
              "    function showError(err) {\n",
              "      outputDiv.innerHTML = `<div class=\"error\" style=\"color:red;\">${err}</div>`;\n",
              "      throw err;\n",
              "    }\n",
              "\n",
              "    function displayChart(vegaEmbed) {\n",
              "      vegaEmbed(outputDiv, spec, embedOpt)\n",
              "        .catch(err => showError(`Javascript Error: ${err.message}<br>This usually means there's a typo in your chart specification. See the javascript console for the full traceback.`));\n",
              "    }\n",
              "\n",
              "    if(typeof define === \"function\" && define.amd) {\n",
              "      requirejs.config({paths});\n",
              "      require([\"vega-embed\"], displayChart, err => showError(`Error loading script: ${err.message}`));\n",
              "    } else if (typeof vegaEmbed === \"function\") {\n",
              "      displayChart(vegaEmbed);\n",
              "    } else {\n",
              "      loadScript(\"vega\")\n",
              "        .then(() => loadScript(\"vega-lite\"))\n",
              "        .then(() => loadScript(\"vega-embed\"))\n",
              "        .catch(showError)\n",
              "        .then(() => displayChart(vegaEmbed));\n",
              "    }\n",
              "  })({\"config\": {\"view\": {\"continuousWidth\": 400, \"continuousHeight\": 300}}, \"data\": {\"name\": \"data-2b2fc3c9a48b895fd598fa23ade968a6\"}, \"mark\": \"line\", \"encoding\": {\"x\": {\"type\": \"quantitative\", \"field\": \"t\"}, \"y\": {\"type\": \"quantitative\", \"field\": \"wsg\"}}, \"height\": 80, \"$schema\": \"https://vega.github.io/schema/vega-lite/v4.8.1.json\", \"datasets\": {\"data-2b2fc3c9a48b895fd598fa23ade968a6\": [{\"t\": 0.0, \"wsg\": 0.107}, {\"t\": 7.390964663211957, \"wsg\": 0.107}, {\"t\": 9.390964663211957, \"wsg\": 0.0}, {\"t\": 26.900220749318255, \"wsg\": 0.0}, {\"t\": 28.900220749318255, \"wsg\": 0.107}, {\"t\": 30.900220749318255, \"wsg\": 0.107}]}}, {\"mode\": \"vega-lite\"});\n",
              "</script>"
            ]
          },
          "metadata": {
            "tags": []
          },
          "execution_count": 87
        }
      ]
    },
    {
      "cell_type": "markdown",
      "metadata": {
        "id": "wrhTvm5eIJFi"
      },
      "source": [
        "Now let's really visualize the trajectory.  The best way is to animate it in 3D!  Please forgive the messiness of this particular bit of code; I'm trying to provide some intermediate steps that aren't typically used by the main drake developers.\n",
        "\n",
        "TODO(russt): make this less \"bespoke\"."
      ]
    },
    {
      "cell_type": "code",
      "metadata": {
        "id": "PZ7S7oai_ORF",
        "outputId": "bea57f4f-8614-43e1-9b51-5773ca9b8154",
        "colab": {
          "base_uri": "https://localhost:8080/"
        }
      },
      "source": [
        "class GripperTrajectoriesToPosition(LeafSystem):\n",
        "    def __init__(self, plant, traj_p_G, traj_R_G, traj_wsg_command):\n",
        "        LeafSystem.__init__(self)\n",
        "        self.plant = plant\n",
        "        self.gripper_body = plant.GetBodyByName(\"body\")\n",
        "        self.left_finger_joint = plant.GetJointByName(\"left_finger_sliding_joint\")\n",
        "        self.right_finger_joint = plant.GetJointByName(\"right_finger_sliding_joint\")\n",
        "        self.traj_p_G = traj_p_G\n",
        "        self.traj_R_G = traj_R_G\n",
        "        self.traj_wsg_command = traj_wsg_command\n",
        "        self.plant_context = plant.CreateDefaultContext()\n",
        "\n",
        "        self.DeclareVectorOutputPort(\"position\", \n",
        "                                     BasicVector(plant.num_positions()),\n",
        "                                     self.CalcPositionOutput)\n",
        "\n",
        "    def CalcPositionOutput(self, context, output):\n",
        "        t = context.get_time()\n",
        "        X_G = RigidTransform(Quaternion(self.traj_R_G.value(t)), self.traj_p_G.value(t))\n",
        "        self.plant.SetFreeBodyPose(self.plant_context, self.gripper_body, X_G)\n",
        "        wsg = self.traj_wsg_command.value(t)\n",
        "        self.left_finger_joint.set_translation(self.plant_context, -wsg/2.0)\n",
        "        self.right_finger_joint.set_translation(self.plant_context, wsg/2.0)\n",
        "        output.SetFromVector(self.plant.GetPositions(self.plant_context))\n",
        "\n",
        "def visualize_pick_and_place_trajectory(traj_p_G, traj_R_G, traj_wsg_command, X_O):\n",
        "    builder = DiagramBuilder()\n",
        "\n",
        "    # Note: Don't use AddMultibodyPlantSceneGraph because we are only using\n",
        "    # MultibodyPlant for parsing, then wiring directly to SceneGraph.\n",
        "    scene_graph = builder.AddSystem(SceneGraph())\n",
        "    plant = MultibodyPlant(time_step=0.0)\n",
        "    plant.RegisterAsSourceForSceneGraph(scene_graph)\n",
        "    parser = Parser(plant, scene_graph)\n",
        "    gripper = parser.AddModelFromFile(FindResourceOrThrow(\n",
        "        \"drake/manipulation/models/wsg_50_description/sdf/schunk_wsg_50_no_tip.sdf\"), \"gripper\")\n",
        "    brick = FindResourceOrThrow(\n",
        "        \"drake/examples/manipulation_station/models/061_foam_brick.sdf\")\n",
        "    for key, pose in X_O.items():\n",
        "      o = parser.AddModelFromFile(brick, f\"object_{key}\")\n",
        "      plant.WeldFrames(plant.world_frame(), plant.GetFrameByName(\"base_link\", o), pose)\n",
        "    plant.Finalize()\n",
        "\n",
        "    to_pose = builder.AddSystem(MultibodyPositionToGeometryPose(plant))\n",
        "    builder.Connect(to_pose.get_output_port(), scene_graph.get_source_pose_port(plant.get_source_id()))\n",
        "\n",
        "    traj_to_position = builder.AddSystem(GripperTrajectoriesToPosition(plant, traj_p_G, traj_R_G, traj_wsg_command))\n",
        "    builder.Connect(traj_to_position.get_output_port(), to_pose.get_input_port())\n",
        "\n",
        "    meshcat = ConnectMeshcatVisualizer(builder, scene_graph, zmq_url=zmq_url)\n",
        "\n",
        "    diagram = builder.Build()\n",
        "\n",
        "    simulator = Simulator(diagram)\n",
        "    meshcat.start_recording()\n",
        "    simulator.AdvanceTo(traj_p_G.end_time() if running_as_notebook else 0.1)\n",
        "    meshcat.publish_recording()\n",
        "\n",
        "visualize_pick_and_place_trajectory(traj_p_G, traj_R_G, traj_wsg_command, X_O)"
      ],
      "execution_count": 88,
      "outputs": [
        {
          "output_type": "stream",
          "text": [
            "[2020-11-11 20:51:39.830] [console] [warning] Currently MultibodyPlant does not handle joint limits for continuous models. However some joints do specify limits. Consider setting a non-zero time step in the MultibodyPlant constructor; this will put MultibodyPlant in discrete-time mode, which does support joint limits.\n",
            "[2020-11-11 20:51:39.832] [console] [warning] Joints that specify limits are: `left_finger_sliding_joint`, `right_finger_sliding_joint`.\n"
          ],
          "name": "stderr"
        },
        {
          "output_type": "stream",
          "text": [
            "Connecting to meshcat-server at zmq_url=tcp://127.0.0.1:6001...\n",
            "You can open the visualizer by visiting the following URL:\n",
            "http://c28ff14c2933.ngrok.io/static/\n",
            "Connected to meshcat-server.\n"
          ],
          "name": "stdout"
        }
      ]
    },
    {
      "cell_type": "markdown",
      "metadata": {
        "id": "ue9ofS7GHpXr"
      },
      "source": [
        "# Putting it all together\n",
        "\n",
        "In the visualization above, we animated the plan, but did not actually command the robot!  Let's put our grasping trajectories back together with our Jacobian-based controller.\n",
        "\n",
        "The first thing you might have noticed is that the Jacobian controller takes spatial velocities as input.  But so far we have trajectories for positions and orientations.  Let's differentiate them to get the velocities."
      ]
    },
    {
      "cell_type": "code",
      "metadata": {
        "id": "MfaCoTnNXfjj",
        "outputId": "d620b9b1-38ee-4c18-c61b-3093688e5239",
        "colab": {
          "base_uri": "https://localhost:8080/",
          "height": 418
        }
      },
      "source": [
        "traj_v_G = traj_p_G.MakeDerivative()\n",
        "traj_w_G = traj_R_G.MakeDerivative()\n",
        "\n",
        "data = dataframe(traj_v_G, np.linspace(traj_v_G.start_time(), traj_v_G.end_time()), ['x','y','z'])\n",
        "alt.vconcat(\n",
        "  alt.Chart(data).mark_line().encode(x='t', y='x').properties(height=80),\n",
        "  alt.Chart(data).mark_line().encode(x='t', y='y').properties(height=80),\n",
        "  alt.Chart(data).mark_line().encode(x='t', y='z').properties(height=80),\n",
        ")"
      ],
      "execution_count": 89,
      "outputs": [
        {
          "output_type": "execute_result",
          "data": {
            "text/plain": [
              "alt.VConcatChart(...)"
            ],
            "text/html": [
              "\n",
              "<div id=\"altair-viz-fd71f1be970f4193b61c554938c473a7\"></div>\n",
              "<script type=\"text/javascript\">\n",
              "  (function(spec, embedOpt){\n",
              "    let outputDiv = document.currentScript.previousElementSibling;\n",
              "    if (outputDiv.id !== \"altair-viz-fd71f1be970f4193b61c554938c473a7\") {\n",
              "      outputDiv = document.getElementById(\"altair-viz-fd71f1be970f4193b61c554938c473a7\");\n",
              "    }\n",
              "    const paths = {\n",
              "      \"vega\": \"https://cdn.jsdelivr.net/npm//vega@5?noext\",\n",
              "      \"vega-lib\": \"https://cdn.jsdelivr.net/npm//vega-lib?noext\",\n",
              "      \"vega-lite\": \"https://cdn.jsdelivr.net/npm//vega-lite@4.8.1?noext\",\n",
              "      \"vega-embed\": \"https://cdn.jsdelivr.net/npm//vega-embed@6?noext\",\n",
              "    };\n",
              "\n",
              "    function loadScript(lib) {\n",
              "      return new Promise(function(resolve, reject) {\n",
              "        var s = document.createElement('script');\n",
              "        s.src = paths[lib];\n",
              "        s.async = true;\n",
              "        s.onload = () => resolve(paths[lib]);\n",
              "        s.onerror = () => reject(`Error loading script: ${paths[lib]}`);\n",
              "        document.getElementsByTagName(\"head\")[0].appendChild(s);\n",
              "      });\n",
              "    }\n",
              "\n",
              "    function showError(err) {\n",
              "      outputDiv.innerHTML = `<div class=\"error\" style=\"color:red;\">${err}</div>`;\n",
              "      throw err;\n",
              "    }\n",
              "\n",
              "    function displayChart(vegaEmbed) {\n",
              "      vegaEmbed(outputDiv, spec, embedOpt)\n",
              "        .catch(err => showError(`Javascript Error: ${err.message}<br>This usually means there's a typo in your chart specification. See the javascript console for the full traceback.`));\n",
              "    }\n",
              "\n",
              "    if(typeof define === \"function\" && define.amd) {\n",
              "      requirejs.config({paths});\n",
              "      require([\"vega-embed\"], displayChart, err => showError(`Error loading script: ${err.message}`));\n",
              "    } else if (typeof vegaEmbed === \"function\") {\n",
              "      displayChart(vegaEmbed);\n",
              "    } else {\n",
              "      loadScript(\"vega\")\n",
              "        .then(() => loadScript(\"vega-lite\"))\n",
              "        .then(() => loadScript(\"vega-embed\"))\n",
              "        .catch(showError)\n",
              "        .then(() => displayChart(vegaEmbed));\n",
              "    }\n",
              "  })({\"config\": {\"view\": {\"continuousWidth\": 400, \"continuousHeight\": 300}}, \"vconcat\": [{\"mark\": \"line\", \"encoding\": {\"x\": {\"type\": \"quantitative\", \"field\": \"t\"}, \"y\": {\"type\": \"quantitative\", \"field\": \"x\"}}, \"height\": 80}, {\"mark\": \"line\", \"encoding\": {\"x\": {\"type\": \"quantitative\", \"field\": \"t\"}, \"y\": {\"type\": \"quantitative\", \"field\": \"y\"}}, \"height\": 80}, {\"mark\": \"line\", \"encoding\": {\"x\": {\"type\": \"quantitative\", \"field\": \"t\"}, \"y\": {\"type\": \"quantitative\", \"field\": \"z\"}}, \"height\": 80}], \"data\": {\"name\": \"data-959e3a1e5fa665846b2fe9575940edc0\"}, \"$schema\": \"https://vega.github.io/schema/vega-lite/v4.8.1.json\", \"datasets\": {\"data-959e3a1e5fa665846b2fe9575940edc0\": [{\"t\": 0.0, \"x\": -0.03709911166081346, \"y\": -0.09274777915203364, \"z\": -0.004637388957601686}, {\"t\": 0.6306167499860869, \"x\": -0.03709911166081346, \"y\": -0.09274777915203364, \"z\": -0.004637388957601686}, {\"t\": 1.2612334999721737, \"x\": -0.03709911166081346, \"y\": -0.09274777915203364, \"z\": -0.004637388957601686}, {\"t\": 1.8918502499582606, \"x\": -0.03709911166081346, \"y\": -0.09274777915203364, \"z\": -0.004637388957601686}, {\"t\": 2.5224669999443474, \"x\": -0.03709911166081346, \"y\": -0.09274777915203364, \"z\": -0.004637388957601686}, {\"t\": 3.1530837499304343, \"x\": -0.03709911166081346, \"y\": -0.09274777915203364, \"z\": -0.004637388957601686}, {\"t\": 3.783700499916521, \"x\": -0.03709911166081346, \"y\": -0.09274777915203364, \"z\": -0.004637388957601686}, {\"t\": 4.4143172499026075, \"x\": -0.03709911166081346, \"y\": -0.09274777915203364, \"z\": -0.004637388957601686}, {\"t\": 5.044933999888695, \"x\": -0.03709911166081346, \"y\": -0.09274777915203364, \"z\": -0.004637388957601686}, {\"t\": 5.675550749874782, \"x\": -1.3877787807814457e-17, \"y\": 0.0, \"z\": -0.039999999999999994}, {\"t\": 6.3061674998608686, \"x\": -1.3877787807814457e-17, \"y\": 0.0, \"z\": -0.039999999999999994}, {\"t\": 6.936784249846955, \"x\": -1.3877787807814457e-17, \"y\": 0.0, \"z\": -0.039999999999999994}, {\"t\": 7.567400999833042, \"x\": 0.0, \"y\": 0.0, \"z\": 0.0}, {\"t\": 8.19801774981913, \"x\": 0.0, \"y\": 0.0, \"z\": 0.0}, {\"t\": 8.828634499805215, \"x\": 0.0, \"y\": 0.0, \"z\": 0.0}, {\"t\": 9.459251249791302, \"x\": 0.0, \"y\": 0.0, \"z\": 0.039999999999999994}, {\"t\": 10.08986799977739, \"x\": 0.0, \"y\": 0.0, \"z\": 0.039999999999999994}, {\"t\": 10.720484749763477, \"x\": 0.0, \"y\": 0.0, \"z\": 0.039999999999999994}, {\"t\": 11.351101499749564, \"x\": 0.0, \"y\": 0.0, \"z\": 0.039999999999999994}, {\"t\": 11.98171824973565, \"x\": 0.07032215496877249, \"y\": 0.05551749076482039, \"z\": 0.0444139926118563}, {\"t\": 12.612334999721737, \"x\": 0.07032215496877249, \"y\": 0.05551749076482039, \"z\": 0.0444139926118563}, {\"t\": 13.242951749707824, \"x\": 0.07032215496877249, \"y\": 0.05551749076482039, \"z\": 0.0444139926118563}, {\"t\": 13.87356849969391, \"x\": 0.07032215496877249, \"y\": 0.05551749076482039, \"z\": 0.0444139926118563}, {\"t\": 14.504185249679997, \"x\": 0.07032215496877249, \"y\": 0.05551749076482039, \"z\": 0.0444139926118563}, {\"t\": 15.134801999666085, \"x\": 0.07032215496877249, \"y\": 0.05551749076482039, \"z\": 0.0444139926118563}, {\"t\": 15.765418749652172, \"x\": 0.07032215496877249, \"y\": 0.05551749076482039, \"z\": 0.0444139926118563}, {\"t\": 16.39603549963826, \"x\": 0.07032215496877249, \"y\": 0.05551749076482039, \"z\": 0.0444139926118563}, {\"t\": 17.026652249624345, \"x\": 0.07032215496877249, \"y\": 0.05551749076482039, \"z\": 0.0444139926118563}, {\"t\": 17.65726899961043, \"x\": 0.07032215496877249, \"y\": 0.05551749076482039, \"z\": 0.0444139926118563}, {\"t\": 18.28788574959652, \"x\": 0.07032215496877249, \"y\": 0.05551749076482039, \"z\": -0.0444139926118563}, {\"t\": 18.918502499582605, \"x\": 0.07032215496877249, \"y\": 0.05551749076482039, \"z\": -0.0444139926118563}, {\"t\": 19.549119249568694, \"x\": 0.07032215496877249, \"y\": 0.05551749076482039, \"z\": -0.0444139926118563}, {\"t\": 20.17973599955478, \"x\": 0.07032215496877249, \"y\": 0.05551749076482039, \"z\": -0.0444139926118563}, {\"t\": 20.810352749540865, \"x\": 0.07032215496877249, \"y\": 0.05551749076482039, \"z\": -0.0444139926118563}, {\"t\": 21.440969499526954, \"x\": 0.07032215496877249, \"y\": 0.05551749076482039, \"z\": -0.0444139926118563}, {\"t\": 22.07158624951304, \"x\": 0.07032215496877249, \"y\": 0.05551749076482039, \"z\": -0.0444139926118563}, {\"t\": 22.70220299949913, \"x\": 0.07032215496877249, \"y\": 0.05551749076482039, \"z\": -0.0444139926118563}, {\"t\": 23.332819749485214, \"x\": 0.07032215496877249, \"y\": 0.05551749076482039, \"z\": -0.0444139926118563}, {\"t\": 23.9634364994713, \"x\": 0.07032215496877249, \"y\": 0.05551749076482039, \"z\": -0.0444139926118563}, {\"t\": 24.59405324945739, \"x\": 0.07032215496877249, \"y\": 0.05551749076482039, \"z\": -0.0444139926118563}, {\"t\": 25.224669999443474, \"x\": 0.0, \"y\": -2.249639673992786e-34, \"z\": -0.039999999999999994}, {\"t\": 25.85528674942956, \"x\": 0.0, \"y\": -2.249639673992786e-34, \"z\": -0.039999999999999994}, {\"t\": 26.48590349941565, \"x\": 0.0, \"y\": -2.249639673992786e-34, \"z\": -0.039999999999999994}, {\"t\": 27.116520249401734, \"x\": 0.0, \"y\": 0.0, \"z\": 0.0}, {\"t\": 27.74713699938782, \"x\": 0.0, \"y\": 0.0, \"z\": 0.0}, {\"t\": 28.37775374937391, \"x\": 0.0, \"y\": 0.0, \"z\": 0.0}, {\"t\": 29.008370499359994, \"x\": 0.0, \"y\": -1.4997597826618579e-34, \"z\": 0.039999999999999994}, {\"t\": 29.638987249346084, \"x\": 0.0, \"y\": -1.4997597826618579e-34, \"z\": 0.039999999999999994}, {\"t\": 30.26960399933217, \"x\": 0.0, \"y\": -1.4997597826618579e-34, \"z\": 0.039999999999999994}, {\"t\": 30.900220749318255, \"x\": 0.0, \"y\": -1.4997597826618579e-34, \"z\": 0.039999999999999994}]}}, {\"mode\": \"vega-lite\"});\n",
              "</script>"
            ]
          },
          "metadata": {
            "tags": []
          },
          "execution_count": 89
        }
      ]
    },
    {
      "cell_type": "markdown",
      "metadata": {
        "id": "BrDNL8cvMo_o"
      },
      "source": [
        "Now we need a slightly modified version of our Jacobian controller, which can take the spatial velocity commands from an input port."
      ]
    },
    {
      "cell_type": "code",
      "metadata": {
        "id": "nVKlTQKGKUU0"
      },
      "source": [
        "# We can write a new System by deriving from the LeafSystem class.\n",
        "# There is a little bit of boiler plate, but hopefully this example makes sense.\n",
        "class PseudoInverseController(LeafSystem):\n",
        "    def __init__(self, plant):\n",
        "        LeafSystem.__init__(self)\n",
        "        self._plant = plant\n",
        "        self._plant_context = plant.CreateDefaultContext()\n",
        "        self._iiwa = plant.GetModelInstanceByName(\"iiwa\")\n",
        "        self._G = plant.GetBodyByName(\"body\").body_frame()\n",
        "        self._W = plant.world_frame()\n",
        "\n",
        "        self.w_G_port = self.DeclareVectorInputPort(\"omega_WG\", BasicVector(3))\n",
        "        self.v_G_port = self.DeclareVectorInputPort(\"v_WG\", BasicVector(3))\n",
        "        self.q_port = self.DeclareVectorInputPort(\"iiwa_position\", BasicVector(7))\n",
        "        self.DeclareVectorOutputPort(\"iiwa_velocity\", BasicVector(7), \n",
        "                                     self.CalcOutput)\n",
        "        # TODO(russt): Add missing binding\n",
        "        #joint_indices = plant.GetJointIndices(self._iiwa)\n",
        "        #self.position_start = plant.get_joint(joint_indices[0]).position_start()\n",
        "        #self.position_end = plant.get_joint(joint_indices[-1]).position_start()\n",
        "        self.iiwa_start = plant.GetJointByName(\"iiwa_joint_1\").velocity_start()\n",
        "        self.iiwa_end = plant.GetJointByName(\"iiwa_joint_7\").velocity_start()\n",
        "\n",
        "    def CalcOutput(self, context, output):\n",
        "        w_G = self.w_G_port.Eval(context)\n",
        "        v_G = self.v_G_port.Eval(context)\n",
        "        V_G = np.hstack([w_G, v_G])\n",
        "        q = self.q_port.Eval(context)\n",
        "        self._plant.SetPositions(self._plant_context, self._iiwa, q)\n",
        "        J_G = self._plant.CalcJacobianSpatialVelocity(\n",
        "            self._plant_context, JacobianWrtVariable.kV, \n",
        "            self._G, [0,0,0], self._W, self._W)\n",
        "        J_G = J_G[:,self.iiwa_start:self.iiwa_end+1] # Only iiwa terms.\n",
        "        v = np.linalg.pinv(J_G).dot(V_G)\n",
        "        output.SetFromVector(v)"
      ],
      "execution_count": 90,
      "outputs": []
    },
    {
      "cell_type": "markdown",
      "metadata": {
        "id": "uM1pk1zzN9D3"
      },
      "source": [
        "Oh, boy.  Big moment.  I'm excited... are you?  Let's do this thing!"
      ]
    },
    {
      "cell_type": "code",
      "metadata": {
        "id": "hDrXl1oSNt6u",
        "outputId": "9f2e0f52-0990-4810-90b1-baa3ac10fc12",
        "colab": {
          "base_uri": "https://localhost:8080/"
        }
      },
      "source": [
        "X_O = {\"initial\": RigidTransform(RotationMatrix.MakeZRotation(np.pi/2.0), [-.2, -.65, 0.09]),\n",
        "       \"goal\": RigidTransform(RotationMatrix.MakeZRotation(np.pi),[.5, 0, 0.09])}\n",
        "\n",
        "builder = DiagramBuilder()\n",
        "\n",
        "station = builder.AddSystem(ManipulationStation())\n",
        "station.SetupClutterClearingStation()\n",
        "station.AddManipulandFromFile(\n",
        "    \"drake/examples/manipulation_station/models/061_foam_brick.sdf\",\n",
        "    X_O[\"initial\"])\n",
        "station.Finalize()\n",
        "\n",
        "# Find the initial pose of the gripper (as set in the default Context)\n",
        "temp_context = station.CreateDefaultContext()\n",
        "plant = station.get_multibody_plant()\n",
        "temp_plant_context = plant.GetMyContextFromRoot(temp_context)\n",
        "X_G = {\"initial\": plant.EvalBodyPoseInWorld(temp_plant_context, plant.GetBodyByName(\"body\"))}\n",
        "X_G, times = make_gripper_frames(X_G, X_O)\n",
        "print(f\"Sanity check: The entire maneuver will take {times['postplace']} seconds to execute.\")\n",
        "\n",
        "# Make the trajectories\n",
        "traj_p_G = make_gripper_position_trajectory(X_G, times)\n",
        "traj_v_G = traj_p_G.MakeDerivative()\n",
        "traj_R_G = make_gripper_orientation_trajectory(X_G, times)\n",
        "traj_w_G = traj_R_G.MakeDerivative()\n",
        "\n",
        "v_G_source = builder.AddSystem(TrajectorySource(traj_v_G))\n",
        "v_G_source.set_name(\"v_WG\")\n",
        "w_G_source = builder.AddSystem(TrajectorySource(traj_w_G))\n",
        "w_G_source.set_name(\"omega_WG\")\n",
        "controller = builder.AddSystem(PseudoInverseController(plant))\n",
        "controller.set_name(\"PseudoInverseController\")\n",
        "builder.Connect(v_G_source.get_output_port(), controller.GetInputPort(\"v_WG\"))\n",
        "builder.Connect(w_G_source.get_output_port(), controller.GetInputPort(\"omega_WG\"))\n",
        "\n",
        "integrator = builder.AddSystem(Integrator(7))\n",
        "integrator.set_name(\"integrator\")\n",
        "builder.Connect(controller.get_output_port(), \n",
        "                integrator.get_input_port())\n",
        "builder.Connect(integrator.get_output_port(),\n",
        "                station.GetInputPort(\"iiwa_position\"))\n",
        "builder.Connect(station.GetOutputPort(\"iiwa_position_measured\"),\n",
        "                controller.GetInputPort(\"iiwa_position\"))\n",
        "\n",
        "traj_wsg_command = make_wsg_command_trajectory(times)\n",
        "wsg_source = builder.AddSystem(TrajectorySource(traj_wsg_command))\n",
        "wsg_source.set_name(\"wsg_command\")\n",
        "builder.Connect(wsg_source.get_output_port(), station.GetInputPort(\"wsg_position\"))\n",
        "\n",
        "meshcat = ConnectMeshcatVisualizer(builder,\n",
        "    station.get_scene_graph(),\n",
        "    output_port=station.GetOutputPort(\"pose_bundle\"),\n",
        "#    delete_prefix_on_load=False,  # Use this if downloading is a pain.\n",
        "    zmq_url=zmq_url,\n",
        ")\n",
        "\n",
        "diagram = builder.Build()\n",
        "diagram.set_name(\"pick_and_place\")\n",
        "\n",
        "simulator = Simulator(diagram)\n",
        "station_context = station.GetMyContextFromRoot(simulator.get_mutable_context())\n",
        "# TODO(russt): Add this missing python binding\n",
        "#integrator.set_integral_value(\n",
        "#    integrator.GetMyContextFromRoot(simulator.get_mutable_context()), \n",
        "#        station.GetIiwaPosition(station_context))\n",
        "integrator.GetMyContextFromRoot(simulator.get_mutable_context()).get_mutable_continuous_state_vector().SetFromVector(station.GetIiwaPosition(station_context))\n",
        "\n",
        "simulator.set_target_realtime_rate(1.0)\n",
        "meshcat.start_recording()\n",
        "simulator.AdvanceTo(traj_p_G.end_time() if running_as_notebook else 0.1)\n",
        "meshcat.stop_recording()\n",
        "meshcat.publish_recording()\n"
      ],
      "execution_count": null,
      "outputs": [
        {
          "output_type": "stream",
          "text": [
            "Sanity check: The entire maneuver will take 27.819595226260763 seconds to execute.\n",
            "Connecting to meshcat-server at zmq_url=tcp://127.0.0.1:6001...\n",
            "You can open the visualizer by visiting the following URL:\n",
            "http://c28ff14c2933.ngrok.io/static/\n",
            "Connected to meshcat-server.\n"
          ],
          "name": "stdout"
        }
      ]
    },
    {
      "cell_type": "markdown",
      "metadata": {
        "id": "AeKMhIacWZ00"
      },
      "source": [
        "That's quite some diagram we've assembled.  Do you understand all of the parts?"
      ]
    },
    {
      "cell_type": "code",
      "metadata": {
        "id": "ZWXemy-bUAab"
      },
      "source": [
        "SVG(pydot.graph_from_dot_data(diagram.GetGraphvizString(max_depth=1))[0].create_svg())"
      ],
      "execution_count": null,
      "outputs": []
    },
    {
      "cell_type": "code",
      "metadata": {
        "id": "-jbKGnWG9Hf6"
      },
      "source": [
        "os.getcwd()\n",
        "\n"
      ],
      "execution_count": null,
      "outputs": []
    },
    {
      "cell_type": "code",
      "metadata": {
        "id": "rYN3GNP7_GAh"
      },
      "source": [
        ""
      ],
      "execution_count": null,
      "outputs": []
    }
  ]
}