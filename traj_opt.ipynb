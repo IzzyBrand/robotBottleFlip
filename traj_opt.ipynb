{
  "nbformat": 4,
  "nbformat_minor": 0,
  "metadata": {
    "colab": {
      "name": "traj_opt",
      "provenance": [],
      "authorship_tag": "ABX9TyPc3ueTsz/HhKY2UdLfjMGr",
      "include_colab_link": true
    },
    "kernelspec": {
      "name": "python3",
      "display_name": "Python 3"
    }
  },
  "cells": [
    {
      "cell_type": "markdown",
      "metadata": {
        "id": "view-in-github",
        "colab_type": "text"
      },
      "source": [
        "<a href=\"https://colab.research.google.com/github/IzzyBrand/robotBottleFlip/blob/main/traj_opt.ipynb\" target=\"_parent\"><img src=\"https://colab.research.google.com/assets/colab-badge.svg\" alt=\"Open In Colab\"/></a>"
      ]
    },
    {
      "cell_type": "code",
      "metadata": {
        "id": "N6EyXt3PG5wO"
      },
      "source": [
        "import numpy as np\n",
        "import ipywidgets\n",
        "import pydot\n",
        "import os\n",
        "from IPython.display import display, SVG\n",
        "\n",
        "import importlib\n",
        "import sys\n",
        "from urllib.request import urlretrieve\n",
        "\n",
        "if 'google.colab' in sys.modules and importlib.util.find_spec('manipulation') is None:\n",
        "    urlretrieve(f\"http://manipulation.csail.mit.edu/scripts/setup/setup_manipulation_colab.py\",\n",
        "                \"setup_manipulation_colab.py\")\n",
        "    from setup_manipulation_colab import setup_manipulation\n",
        "    setup_manipulation(manipulation_sha='master', drake_version='20201120', drake_build='nightly')\n",
        "\n",
        "if 'google.colab' in sys.modules and os.getenv(\"DISPLAY\") is None:\n",
        "    from pyvirtualdisplay import Display\n",
        "    display = Display(visible=0, size=(1400, 900))\n",
        "    display.start()\n",
        "\n",
        "# Use pyngrok on colab.\n",
        "server_args = []\n",
        "if 'google.colab' in sys.modules:\n",
        "  server_args = ['--ngrok_http_tunnel']\n",
        "\n",
        "# Start a single meshcat server instance to use for the remainder of this notebook.\n",
        "from meshcat.servers.zmqserver import start_zmq_server_as_subprocess\n",
        "proc, zmq_url, web_url = start_zmq_server_as_subprocess(server_args=server_args)\n",
        "\n",
        "import pydrake.all\n",
        "from manipulation.scenarios import AddIiwa, AddWsg, AddRgbdSensors, AddShape\n",
        "from manipulation.utils import FindResource\n",
        "\n",
        "from pydrake.all import (\n",
        "    AddMultibodyPlantSceneGraph, ConnectMeshcatVisualizer, DiagramBuilder, \n",
        "    FindResourceOrThrow, GenerateHtml, InverseDynamicsController, \n",
        "    MultibodyPlant, Parser, Simulator, TrajectorySource, JacobianWrtVariable)\n",
        "\n",
        "from pydrake.all import (\n",
        "    DiagramBuilder,\n",
        "    RenderEngineVtkParams, MakeRenderEngineVtk, DepthCameraProperties, RgbdSensor, RigidTransform, RollPitchYaw,\n",
        "    ColorRenderCamera, DepthRenderCamera, CameraInfo, ClippingRange, RenderCameraCore, DepthRange\n",
        ")\n",
        "from pydrake.symbolic import Expression\n",
        "    \n",
        "from pydrake.all import RigidTransform, RotationMatrix, SpatialVelocity, PiecewisePolynomial\n",
        "\n",
        "from pydrake.all import eq, MathematicalProgram, Solve\n",
        "\n",
        "from pydrake.all import RenderEngineVtkParams, DepthCameraProperties, ModelInstanceIndex, DepthImageToPointCloud, BaseField, LeafSystem, AbstractValue\n",
        "\n",
        "from google.colab.patches import cv2_imshow"
      ],
      "execution_count": null,
      "outputs": []
    },
    {
      "cell_type": "code",
      "metadata": {
        "id": "_OwRv2s_HAjT"
      },
      "source": [
        "import requests\n",
        "resp = requests.get(\"https://raw.githubusercontent.com/IzzyBrand/robotBottleFlip/main/models/bottle.sdf\")\n",
        "if resp.status_code == 200:\n",
        "    bottle_sdf = resp.text"
      ],
      "execution_count": null,
      "outputs": []
    },
    {
      "cell_type": "markdown",
      "metadata": {
        "id": "Sbwu21MhHH0m"
      },
      "source": [
        "# Optimize using forward kinematics"
      ]
    },
    {
      "cell_type": "code",
      "metadata": {
        "id": "Hg1YvKYfHBxZ"
      },
      "source": [
        "def optimize_arm_trajectory(X_final, # bottle release pose (RigidTransform)\n",
        "                            V_final, # bottle release velocity (np.ndarray [6])\n",
        "                            q_init,  # iiwa initial pose (np.ndarray [7])\n",
        "                            X_GB,    # pose of the bottle in the gripper frame (RigidTransform)\n",
        "                            T=50):   # number of timestep\n",
        "\n",
        "    # set up a plant for use in inverse kinematics\n",
        "    plant = pydrake.multibody.plant.MultibodyPlant(0.0)\n",
        "    iiwa = AddIiwa(plant)\n",
        "    plant.Finalize()\n",
        "    plant = plant.ToSymbolic() # suggested in piazza post @391\n",
        "    context = plant.CreateDefaultContext()\n",
        "    L7 = plant.GetBodyByName('iiwa_link_7') # get the last link for later use\n",
        "\n",
        "    # transform from link 7 to the WSG\n",
        "    X_L7G = RigidTransform(RollPitchYaw(np.pi / 2.0, 0, np.pi / 2.0), [0, 0, 0.114])\n",
        "    # and from link 7 to the bottle. Note that this needs to be an Expression\n",
        "    # to use in the symbolic computations\n",
        "    X_L7B = X_L7G.multiply(X_GB)\n",
        "\n",
        "    # set up the optimization problem\n",
        "    prog = MathematicalProgram()\n",
        "\n",
        "    # with optimization variables\n",
        "    q = prog.NewContinuousVariables(T, 7, 'q')     # joint position\n",
        "    qd = prog.NewContinuousVariables(T, 7, 'qd')   # joint velocity\n",
        "    # qdd = prog.NewContinuousVariables(T, 7, 'qdd') # joint acceleration\n",
        "    h = prog.NewContinuousVariables(1, 'h')        # timestep\n",
        "\n",
        "    # put the plant at the final state\n",
        "    plant.SetPositions(context, q[-1])\n",
        "    plant.SetVelocities(context, qd[-1])\n",
        "    # compute the resulting bottle pose and velocity\n",
        "    X_WL7 = plant.EvalBodyPoseInWorld(context , L7) # pose of link 7 (symbolic)\n",
        "    X_WB = X_WL7.multiply(X_L7B.cast[Expression]()) # pose of the bottle at the final timestep\n",
        "\n",
        "    print('hello')\n",
        "    # compute the spatial velocity jacobian of the bottle\n",
        "    J_B = plant.CalcJacobianSpatialVelocity(context,\n",
        "                                            JacobianWrtVariable.kQDot, # this often is .kv\n",
        "                                            L7.body_frame(),\n",
        "                                            X_L7B.translation(),\n",
        "                                            plant.world_frame(),\n",
        "                                            plant.world_frame())\n",
        "    print('here')\n",
        "    # and finally, the spatial velocity of the bottle at the last timestep\n",
        "    V_WB = J_B.dot(qd[-1]) # [roll, pitch, yaw, x, y, z]\n",
        "    \n",
        "    # add trajectory constraints\n",
        "    # NOTE(izzy): for some reason I can't make these AddLinearConstraint...\n",
        "    print('before timestep constraints')\n",
        "    for t in range(T-1):\n",
        "        prog.AddConstraint(eq(q[t+1], q[t] + h*qd[t+1]))    # position\n",
        "        # prog.AddConstraint(eq(qd[t+1], qd[t] + h*qdd[t])) # velocity\n",
        "        # prog.AddBoundingBoxConstraint([-0.1]*7, [0.1]*7, (qd[t+1] - qd[t])/h) # bound the joint accelerations\n",
        "        print(t)\n",
        "    # prog.AddConstraint(eq(q[1:], q[:-1] + h*qd[:-1]))    # position\n",
        "    # prog.AddConstraint(eq(qd[1:], qd[:-1] + h*qdd[:-1])) # velocity\n",
        "    prog.AddConstraint(eq(q[0], q_init)) # initial joint position\n",
        "\n",
        "    # add timestep constraint\n",
        "    prog.AddBoundingBoxConstraint(0.001, 0.02, h)\n",
        "\n",
        "    # add final position constraint\n",
        "    print('adding pose constraints')\n",
        "    for i in range(3):\n",
        "        prog.AddConstraint(eq(X_WB.rotation().matrix()[i], X_final.rotation().matrix()[i]))\n",
        "        print(i)\n",
        "\n",
        "    \n",
        "    print('adding velocity constraint')\n",
        "    # add final velocity constraint\n",
        "    prog.AddConstraint(eq(V_WB, V_final))\n",
        "    print('done')\n",
        "\n",
        "    # add bottle acceleration constraints\n",
        "    # TODO\n",
        "\n",
        "    # add joint acceleration costs\n",
        "    # TODO\n",
        "\n",
        "    # result = Solve(prog)\n",
        "    # if result.is_success():\n",
        "    #     return (result.GetSolution(var) for var in (q,qd,qdd))\n",
        "    # else:\n",
        "    #     print('Optimization Failed')\n",
        "    return prog\n",
        "\n",
        "prog = optimize_arm_trajectory(X_final = RigidTransform(),\n",
        "                        V_final = np.zeros(6, dtype=np.float64),\n",
        "                        q_init = np.zeros(7),\n",
        "                        X_GB = RigidTransform())"
      ],
      "execution_count": null,
      "outputs": []
    },
    {
      "cell_type": "markdown",
      "metadata": {
        "id": "vZ7hC2ShHNbg"
      },
      "source": [
        "#Optimize using inverse kinematics"
      ]
    },
    {
      "cell_type": "code",
      "metadata": {
        "id": "TO-v3tD-HMXl"
      },
      "source": [
        ""
      ],
      "execution_count": null,
      "outputs": []
    }
  ]
}