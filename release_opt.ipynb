{
  "nbformat": 4,
  "nbformat_minor": 0,
  "metadata": {
    "colab": {
      "name": "release_opt",
      "provenance": [],
      "authorship_tag": "ABX9TyOYACWmO0Uf7n8eYk/e+bk4",
      "include_colab_link": true
    },
    "kernelspec": {
      "name": "python3",
      "display_name": "Python 3"
    }
  },
  "cells": [
    {
      "cell_type": "markdown",
      "metadata": {
        "id": "view-in-github",
        "colab_type": "text"
      },
      "source": [
        "<a href=\"https://colab.research.google.com/github/IzzyBrand/robotBottleFlip/blob/main/release_opt.ipynb\" target=\"_parent\"><img src=\"https://colab.research.google.com/assets/colab-badge.svg\" alt=\"Open In Colab\"/></a>"
      ]
    },
    {
      "cell_type": "code",
      "metadata": {
        "id": "DgxWZv4UvCju"
      },
      "source": [
        "import numpy as np\n",
        "import ipywidgets\n",
        "import pydot\n",
        "import os\n",
        "from IPython.display import display, SVG\n",
        "\n",
        "import importlib\n",
        "import sys\n",
        "from urllib.request import urlretrieve\n",
        "\n",
        "if 'google.colab' in sys.modules and importlib.util.find_spec('manipulation') is None:\n",
        "    urlretrieve(f\"http://manipulation.csail.mit.edu/scripts/setup/setup_manipulation_colab.py\",\n",
        "                \"setup_manipulation_colab.py\")\n",
        "    from setup_manipulation_colab import setup_manipulation\n",
        "    setup_manipulation(manipulation_sha='master', drake_version='20201120', drake_build='nightly')\n",
        "\n",
        "if 'google.colab' in sys.modules and os.getenv(\"DISPLAY\") is None:\n",
        "    from pyvirtualdisplay import Display\n",
        "    display = Display(visible=0, size=(1400, 900))\n",
        "    display.start()\n",
        "\n",
        "# Use pyngrok on colab.\n",
        "server_args = []\n",
        "if 'google.colab' in sys.modules:\n",
        "  server_args = ['--ngrok_http_tunnel']\n",
        "\n",
        "# Start a single meshcat server instance to use for the remainder of this notebook.\n",
        "from meshcat.servers.zmqserver import start_zmq_server_as_subprocess\n",
        "proc, zmq_url, web_url = start_zmq_server_as_subprocess(server_args=server_args)\n",
        "\n",
        "import pydrake.all\n",
        "from manipulation.scenarios import AddIiwa, AddWsg, AddRgbdSensors, AddShape\n",
        "from manipulation.utils import FindResource\n",
        "\n",
        "from pydrake.all import (\n",
        "    AddMultibodyPlantSceneGraph, ConnectMeshcatVisualizer, DiagramBuilder, \n",
        "    FindResourceOrThrow, GenerateHtml, InverseDynamicsController, \n",
        "    MultibodyPlant, Parser, Simulator, TrajectorySource)\n",
        "\n",
        "from pydrake.all import (\n",
        "    DiagramBuilder,\n",
        "    RenderEngineVtkParams, MakeRenderEngineVtk, DepthCameraProperties, RgbdSensor, RigidTransform, RollPitchYaw,\n",
        "    ColorRenderCamera, DepthRenderCamera, CameraInfo, ClippingRange, RenderCameraCore, DepthRange\n",
        ")\n",
        "    \n",
        "from pydrake.all import RigidTransform, RotationMatrix, SpatialVelocity, PiecewisePolynomial\n",
        "\n",
        "from pydrake.all import eq, MathematicalProgram, Solve\n",
        "\n",
        "from pydrake.all import RenderEngineVtkParams, DepthCameraProperties, ModelInstanceIndex, DepthImageToPointCloud, BaseField, LeafSystem, AbstractValue\n",
        "\n",
        "from google.colab.patches import cv2_imshow"
      ],
      "execution_count": null,
      "outputs": []
    },
    {
      "cell_type": "code",
      "metadata": {
        "id": "Db6GDqq0vK4C"
      },
      "source": [
        "import requests\n",
        "resp = requests.get(\"https://raw.githubusercontent.com/IzzyBrand/robotBottleFlip/main/models/bottle.sdf\")\n",
        "if resp.status_code == 200:\n",
        "    bottle_sdf = resp.text"
      ],
      "execution_count": null,
      "outputs": []
    },
    {
      "cell_type": "code",
      "metadata": {
        "id": "FSr0xP3rvM8K"
      },
      "source": [
        "T = 250 # number of timesteps\n",
        "d = 12 # state dimension\n",
        "g = 9.81\n",
        "\n",
        "def dynamics(x):\n",
        "    dx = np.zeros_like(x)\n",
        "    dx[0:6] = x[6:12] # velocity\n",
        "    dx[11] = -g    # acceleration\n",
        "    return dx\n",
        "\n",
        "prog = MathematicalProgram()\n",
        "# create decision variables for the state and the timestep\n",
        "state = prog.NewContinuousVariables(T + 1, d, 'state')\n",
        "dt = prog.NewContinuousVariables(1, 'dt')\n",
        "\n",
        "# bound the starting and ending positions\n",
        "prog.AddLinearConstraint(eq(state[0, 3:6], np.array([0.5,0,0.5]))) # constrain initial position\n",
        "prog.AddLinearConstraint(eq(state[-1, 3:6], np.array([3,0,0]))) # constrain final position\n",
        "prog.AddLinearConstraint(eq(state[0, 0:3], np.zeros(3))) # constrain initial orientation\n",
        "prog.AddLinearConstraint(eq(state[-1, [0,2]], np.zeros(2))) # constrain final orientation\n",
        "prog.AddBoundingBoxConstraint(np.radians(-385), np.radians(-360.5), state[-1,1])\n",
        "# force it to be rotating backwards\n",
        "# prog.AddBoundingBoxConstraint(np.array([0,-10,0]), np.array([0,-1,0]), state[0,9:]) # constrain intial rotational velocity\n",
        "\n",
        "# Bound the timestep\n",
        "prog.AddBoundingBoxConstraint(0.002, 0.05, dt[0])\n",
        "# Do timestepping. Easy to do fixed timesteps with symplectic Euler\n",
        "for t in range(T):\n",
        "\tprog.AddConstraint(eq(state[t+1], state[t] + dt[0]*dynamics(state[t])))\n",
        "\n",
        "\n",
        "# this part is inspired by the rimless wheel\n",
        "# http://underactuated.mit.edu/simple_legs.html#section2\n",
        "# we assume that the bottle is a point mass with no rotational inertia\n",
        "\n",
        "bottle_radius = 0.03\n",
        "bottle_height_of_cg = 0.075\n",
        "bottle_I_yy = 0.00105\n",
        "bottle_mass = 0.5\n",
        "sim_timestep = 0.002\n",
        "\n",
        "# angle from pivot to CG\n",
        "alpha = np.arctan2(bottle_radius, bottle_height_of_cg)\n",
        "# length from pivot to CG\n",
        "l = np.sqrt(bottle_radius**2 + bottle_height_of_cg**2)\n",
        "# the threshhold angular momentum beyond which the bottle will fall back down\n",
        "# to level\n",
        "w_thresh = np.sqrt(2*g/l * (1-np.cos(-alpha)))\n",
        "\n",
        "# angle from vertical of the bottle upon landing (positive is clockwise)\n",
        "theta_bottle_on_landing = state[-1,1] + 2*np.pi\n",
        "# angle from vertical to the center of gravity on landing (positive is clockwise)\n",
        "theta_cg_on_landing = alpha + theta_bottle_on_landing\n",
        "\n",
        "# the rotational velocity of the bottle right after it lands\n",
        "# NOTE(izzy): not sure if this is right... maybe it should be atan2\n",
        "theta_dot_trailing_edge = (state[-1,9]*np.cos(theta_cg_on_landing)\n",
        "                           - state[-1,11]*np.sin(theta_cg_on_landing))/l\n",
        "# the amount of angular velocity lost as the bottle transitions from the first\n",
        "# to the second edge\n",
        "theta_dot_leading_edge = theta_dot_trailing_edge * np.cos(2*alpha)\n",
        "# the momentum of the bottle as it rotates around its leading edge\n",
        "w_leading_edge = theta_dot_leading_edge * bottle_mass\n",
        "# we want this to be less than the threshold\n",
        "prog.AddConstraint(w_leading_edge <= 0.1*w_thresh)\n",
        "\n",
        "prog.AddQuadraticCost(Q = np.eye(1), b=np.zeros(1), vars=state[0,8:9])\n",
        "# angular_momentum = bottle_I_yy * state[0,10]\n",
        "# impact_torque = bottle_radius * bottle_mass * state[-1,5]\n",
        "# friction_torque = -bottle_height_of_cg * bottle_mass * state[-1, 3]\n",
        "# torque = impact_torque + friction_torque\n",
        "\n",
        "# prog.AddConstraint(angular_momentum == torque*sim_timestep)\n",
        "\n",
        "result = Solve(prog)\n",
        "assert(result.is_success()), \"Optimization failed\"\n",
        "x0 = result.GetSolution(state)[0]\n",
        "xT = result.GetSolution(state)[-1]\n",
        "print(f'Release RPY {x0[0:3]}')\n",
        "print(f'Release Position {x0[3:6]}')\n",
        "print(f'Release Angular Velocity {x0[6:9]}')\n",
        "print(f'Release Velocity {x0[9:12]}')\n",
        "print(f'Timestep {result.GetSolution(dt)}')\n",
        "\n",
        "X_WB = RigidTransform(RollPitchYaw(*x0[0:3]), x0[3:6])\n",
        "V_WB = SpatialVelocity(x0[6:9], x0[9:12])"
      ],
      "execution_count": null,
      "outputs": []
    },
    {
      "cell_type": "code",
      "metadata": {
        "id": "3lZ_OZefNzOy"
      },
      "source": [
        "theta_cg_on_landing = xT[1] + 2*np.pi + alpha\n",
        "theta_dot_trailing_edge = (xT[9]*np.cos(theta_cg_on_landing)\n",
        "                           - xT[11]*np.sin(theta_cg_on_landing))/l\n",
        "theta_dot_leading_edge = theta_dot_trailing_edge * np.cos(2*alpha)\n",
        "w_leading_edge = theta_dot_leading_edge * bottle_mass\n",
        "print(theta_cg_on_landing, w_thresh, w_leading_edge)"
      ],
      "execution_count": null,
      "outputs": []
    },
    {
      "cell_type": "code",
      "metadata": {
        "id": "oZHJvjvMvRbj"
      },
      "source": [
        "def create_world(target_platform_translation=[2.5,0,-.005], time_step=0.001):\n",
        "    builder = pydrake.systems.framework.DiagramBuilder()\n",
        "    plant, scene_graph = pydrake.multibody.plant.AddMultibodyPlantSceneGraph(\n",
        "        builder, time_step=time_step)\n",
        "\n",
        "    # add the bottle\n",
        "    pydrake.multibody.parsing.Parser(plant).AddModelFromString(bottle_sdf, 'sdf')\n",
        "\n",
        "    # add platforms for the bottle to sit\n",
        "    AddShape(plant, pydrake.geometry.Box(0.2, 0.2, 0.01), 'target_platform')\n",
        "    AddShape(plant, pydrake.geometry.Box(0.2, 0.2, 0.01), 'initial_platform')\n",
        "    plant.WeldFrames(plant.world_frame(), plant.GetFrameByName(\"target_platform\"),\n",
        "                        RigidTransform(RotationMatrix(), target_platform_translation))\n",
        "    plant.WeldFrames(plant.world_frame(), plant.GetFrameByName(\"initial_platform\"),\n",
        "                        RigidTransform(RotationMatrix(), [0.5,0,-.005]))\n",
        "\n",
        "    # put the bottle on the platform\n",
        "    plant.SetDefaultFreeBodyPose(plant.GetBodyByName('bottle_base_link'),\n",
        "                            RigidTransform(RotationMatrix(), [0.5,0,0]))\n",
        "\n",
        "    plant.Finalize()\n",
        "\n",
        "    builder.ExportOutput(scene_graph.get_query_output_port(), \"geometry_query\")\n",
        "    builder.ExportOutput(plant.get_contact_results_output_port(), \"contact_results\")\n",
        "    builder.ExportOutput(plant.get_state_output_port(), \"plant_continuous_state\")\n",
        "\n",
        "    return builder.Build()"
      ],
      "execution_count": null,
      "outputs": []
    },
    {
      "cell_type": "code",
      "metadata": {
        "id": "FMl1CP97v_T2"
      },
      "source": [
        "builder = pydrake.systems.framework.DiagramBuilder()\n",
        "station_diagram = builder.AddSystem(create_world())\n",
        "meshcat = ConnectMeshcatVisualizer(builder,\n",
        "                                   output_port=station_diagram.GetOutputPort(\"geometry_query\"),\n",
        "                                   zmq_url=zmq_url)\n",
        "diagram = builder.Build()\n",
        "context = diagram.CreateDefaultContext()\n",
        "\n",
        "simulator = Simulator(diagram)\n",
        "plant = station_diagram.GetSubsystemByName('plant')\n",
        "mutable_context = simulator.get_mutable_context()\n",
        "mutable_plant_context = plant.GetMyMutableContextFromRoot(mutable_context)\n",
        "\n",
        "plant.SetFreeBodyPose(mutable_context,\n",
        "                      plant.GetBodyByName('bottle_base_link'),\n",
        "                      X_WB)\n",
        "plant.SetFreeBodySpatialVelocity(plant.GetBodyByName('bottle_base_link'),\n",
        "                                 V_WB,\n",
        "                                 mutable_context)\n",
        "\n",
        "# meshcat.load(meshcat.load(meshcat.GetMyContextFromRoot(context)))"
      ],
      "execution_count": null,
      "outputs": []
    },
    {
      "cell_type": "code",
      "metadata": {
        "id": "b5vcyWolwvwT"
      },
      "source": [
        "meshcat.start_recording()\n",
        "simulator.AdvanceTo(5)\n",
        "meshcat.publish_recording()"
      ],
      "execution_count": null,
      "outputs": []
    },
    {
      "cell_type": "code",
      "metadata": {
        "id": "u4zuCQWky-HI"
      },
      "source": [
        ""
      ],
      "execution_count": null,
      "outputs": []
    }
  ]
}