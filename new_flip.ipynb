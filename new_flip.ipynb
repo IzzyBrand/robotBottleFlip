{
  "nbformat": 4,
  "nbformat_minor": 0,
  "metadata": {
    "colab": {
      "name": "new_flip",
      "provenance": [],
      "include_colab_link": true
    },
    "kernelspec": {
      "name": "python3",
      "display_name": "Python 3"
    }
  },
  "cells": [
    {
      "cell_type": "markdown",
      "metadata": {
        "id": "view-in-github",
        "colab_type": "text"
      },
      "source": [
        "<a href=\"https://colab.research.google.com/github/IzzyBrand/robotBottleFlip/blob/main/new_flip.ipynb\" target=\"_parent\"><img src=\"https://colab.research.google.com/assets/colab-badge.svg\" alt=\"Open In Colab\"/></a>"
      ]
    },
    {
      "cell_type": "markdown",
      "metadata": {
        "id": "HKkh77a02Fnt"
      },
      "source": [
        "## Lots of imports"
      ]
    },
    {
      "cell_type": "code",
      "metadata": {
        "id": "l8KnujzAqrMe"
      },
      "source": [
        "import numpy as np\n",
        "import ipywidgets\n",
        "import pydot\n",
        "import os\n",
        "from IPython.display import display, SVG\n",
        "\n",
        "import importlib\n",
        "import sys\n",
        "from urllib.request import urlretrieve\n",
        "\n",
        "if 'google.colab' in sys.modules and importlib.util.find_spec('manipulation') is None:\n",
        "    urlretrieve(f\"http://manipulation.csail.mit.edu/scripts/setup/setup_manipulation_colab.py\",\n",
        "                \"setup_manipulation_colab.py\")\n",
        "    from setup_manipulation_colab import setup_manipulation\n",
        "    setup_manipulation(manipulation_sha='master', drake_version='20201120', drake_build='nightly')\n",
        "\n",
        "if 'google.colab' in sys.modules and os.getenv(\"DISPLAY\") is None:\n",
        "    from pyvirtualdisplay import Display\n",
        "    display = Display(visible=0, size=(1400, 900))\n",
        "    display.start()\n",
        "\n",
        "# Use pyngrok on colab.\n",
        "server_args = []\n",
        "if 'google.colab' in sys.modules:\n",
        "  server_args = ['--ngrok_http_tunnel']\n",
        "\n",
        "# Start a single meshcat server instance to use for the remainder of this notebook.\n",
        "from meshcat.servers.zmqserver import start_zmq_server_as_subprocess\n",
        "proc, zmq_url, web_url = start_zmq_server_as_subprocess(server_args=server_args)\n",
        "\n",
        "import pydrake.all\n",
        "from manipulation.scenarios import AddIiwa, AddWsg, AddRgbdSensors, AddShape\n",
        "from manipulation.utils import FindResource\n",
        "\n",
        "from pydrake.all import (\n",
        "    AddMultibodyPlantSceneGraph, ConnectMeshcatVisualizer, DiagramBuilder, \n",
        "    FindResourceOrThrow, GenerateHtml, InverseDynamicsController, \n",
        "    MultibodyPlant, Parser, Simulator, TrajectorySource)\n",
        "\n",
        "from pydrake.all import (\n",
        "    DiagramBuilder,\n",
        "    RenderEngineVtkParams, MakeRenderEngineVtk, DepthCameraProperties, RgbdSensor, RigidTransform, RollPitchYaw,\n",
        "    ColorRenderCamera, DepthRenderCamera, CameraInfo, ClippingRange, RenderCameraCore, DepthRange\n",
        ")\n",
        "    \n",
        "from pydrake.all import RigidTransform, RotationMatrix, SpatialVelocity, PiecewisePolynomial\n",
        "\n",
        "from pydrake.all import eq, MathematicalProgram, Solve\n",
        "\n",
        "from pydrake.all import RenderEngineVtkParams, DepthCameraProperties, ModelInstanceIndex, DepthImageToPointCloud, BaseField, LeafSystem, AbstractValue\n",
        "\n",
        "from google.colab.patches import cv2_imshow\n",
        "\n",
        "def AddRgbdSensors(builder,\n",
        "                   plant,\n",
        "                   scene_graph,\n",
        "                   also_add_point_clouds=True,\n",
        "                   model_instance_prefix=\"camera\",\n",
        "                   properties=None,\n",
        "                   renderer=None,\n",
        "                   XC=RigidTransform()):\n",
        "    \"\"\"\n",
        "    Adds a RgbdSensor to every body in the plant with a name starting with\n",
        "    body_prefix.  If camera_info is None, then a default camera info will be\n",
        "    used.  If renderer is None, then we will assume the name 'my_renderer', and\n",
        "    create a VTK renderer if a renderer of that name doesn't exist.\n",
        "    \"\"\"\n",
        "    if not renderer:\n",
        "        renderer = \"my_renderer\"\n",
        "\n",
        "    if not scene_graph.HasRenderer(renderer):\n",
        "        scene_graph.AddRenderer(renderer,\n",
        "                                MakeRenderEngineVtk(RenderEngineVtkParams()))\n",
        "\n",
        "    if not properties:\n",
        "        properties = DepthCameraProperties(width=640,\n",
        "                                           height=480,\n",
        "                                           fov_y=np.pi / 4.0,\n",
        "                                           renderer_name=renderer,\n",
        "                                           z_near=0.1,\n",
        "                                           z_far=10.0)\n",
        "\n",
        "    for index in range(plant.num_model_instances()):\n",
        "        model_instance_index = ModelInstanceIndex(index)\n",
        "        model_name = plant.GetModelInstanceName(model_instance_index)\n",
        "\n",
        "        if model_name.startswith(\"iiwa\"):\n",
        "            iiwa_instance_index = ModelInstanceIndex(index)\n",
        "\n",
        "    for index in range(plant.num_model_instances()):\n",
        "        model_instance_index = ModelInstanceIndex(index)\n",
        "        model_name = plant.GetModelInstanceName(model_instance_index)\n",
        "\n",
        "        if model_name.startswith(model_instance_prefix):\n",
        "            #body_index = plant.GetBodyIndices(model_instance_index)[0]\n",
        "            body_index = plant.GetBodyIndices(iiwa_instance_index)[-1]\n",
        "            #print(plant.GetFrameByName(\"iiwa_link_7\").index())\n",
        "            rgbd = builder.AddSystem(\n",
        "                #RgbdSensor(parent_id=plant.GetBodyFrameIdOrThrow(plant.GetFrameByName(\"iiwa_link_7\").index),\n",
        "                RgbdSensor(parent_id=plant.GetBodyFrameIdOrThrow(body_index),\n",
        "                #RgbdSensor(parent_id=plant.GetFrameByName(\"iiwa_link_7\").FrameIndex,\n",
        "                           X_PB=XC,\n",
        "                           properties=properties,\n",
        "                           show_window=False))\n",
        "            rgbd.set_name(model_name)\n",
        "\n",
        "            builder.Connect(scene_graph.get_query_output_port(),\n",
        "                            rgbd.query_object_input_port())\n",
        "\n",
        "            # Export the camera outputs\n",
        "            builder.ExportOutput(rgbd.color_image_output_port(),\n",
        "                                 f\"{model_name}_rgb_image\")\n",
        "            builder.ExportOutput(rgbd.depth_image_32F_output_port(),\n",
        "                                 f\"{model_name}_depth_image\")\n",
        "            builder.ExportOutput(rgbd.label_image_output_port(),\n",
        "                                 f\"{model_name}_label_image\")\n",
        "\n",
        "            if also_add_point_clouds:\n",
        "                # Add a system to convert the camera output into a point cloud\n",
        "                to_point_cloud = builder.AddSystem(\n",
        "                    DepthImageToPointCloud(camera_info=rgbd.depth_camera_info(),\n",
        "                                           fields=BaseField.kXYZs\n",
        "                                           | BaseField.kRGBs))\n",
        "                builder.Connect(rgbd.depth_image_32F_output_port(),\n",
        "                                to_point_cloud.depth_image_input_port())\n",
        "                builder.Connect(rgbd.color_image_output_port(),\n",
        "                                to_point_cloud.color_image_input_port())\n",
        "\n",
        "                class ExtractBodyPose(LeafSystem):\n",
        "\n",
        "                    def __init__(self, body_index):\n",
        "                        LeafSystem.__init__(self)\n",
        "                        self.body_index = body_index\n",
        "                        self.DeclareAbstractInputPort(\n",
        "                            \"poses\",\n",
        "                            plant.get_body_poses_output_port().Allocate())\n",
        "                        self.DeclareAbstractOutputPort(\n",
        "                            \"pose\",\n",
        "                            lambda: AbstractValue.Make(XC),\n",
        "                            self.CalcOutput)\n",
        "\n",
        "                    def CalcOutput(self, context, output):\n",
        "                        poses = self.EvalAbstractInput(context, 0).get_value()\n",
        "                        pose = poses[int(self.body_index)]\n",
        "                        output.get_mutable_value().set(pose.rotation(),\n",
        "                                                       pose.translation())\n",
        "\n",
        "                camera_pose = builder.AddSystem(ExtractBodyPose(body_index))\n",
        "                builder.Connect(plant.get_body_poses_output_port(),\n",
        "                                camera_pose.get_input_port())\n",
        "                builder.Connect(camera_pose.get_output_port(),\n",
        "                                to_point_cloud.GetInputPort(\"camera_pose\"))\n",
        "\n",
        "                # Export the point cloud output.\n",
        "                builder.ExportOutput(to_point_cloud.point_cloud_output_port(),\n",
        "                                     f\"{model_name}_point_cloud\")"
      ],
      "execution_count": 66,
      "outputs": []
    },
    {
      "cell_type": "markdown",
      "metadata": {
        "id": "ry_8mwwsqfA1"
      },
      "source": [
        "Upload a model of the bottle from github. Uses requests to pull the raw SDF from github. Optionally we can upload the bottle manually."
      ]
    },
    {
      "cell_type": "code",
      "metadata": {
        "id": "NX9SggayqDGY"
      },
      "source": [
        "# from google.colab import files\n",
        "# print('Please upload bottle.sdf')\n",
        "# uploaded = files.upload()\n",
        "\n",
        "# for fn in uploaded.keys():\n",
        "#   print('User uploaded file \"{name}\" with length {length} bytes'.format(\n",
        "#       name=fn, length=len(uploaded[fn])))\n",
        "\n",
        "# bottle_sdf = uploaded['bottle.sdf'].decode(\"utf-8\")\n",
        "\n",
        "import requests\n",
        "resp = requests.get(\"https://raw.githubusercontent.com/IzzyBrand/robotBottleFlip/main/models/bottle.sdf\")\n",
        "if resp.status_code == 200:\n",
        "    bottle_sdf = resp.text"
      ],
      "execution_count": 67,
      "outputs": []
    },
    {
      "cell_type": "markdown",
      "metadata": {
        "id": "qagvWc9Vqk4H"
      },
      "source": [
        "### Set up the Manipulation Station"
      ]
    },
    {
      "cell_type": "code",
      "metadata": {
        "id": "3J_m-ZvW2AWW"
      },
      "source": [
        "def MakeManipulationStation(time_step=0.001):\n",
        "    builder = pydrake.systems.framework.DiagramBuilder()\n",
        "\n",
        "    # Add the iiwa, WSG, and cameras to the scene.\n",
        "    plant, scene_graph = pydrake.multibody.plant.AddMultibodyPlantSceneGraph(\n",
        "        builder, time_step=time_step)\n",
        "    iiwa = AddIiwa(plant)\n",
        "    wsg = AddWsg(plant, iiwa)\n",
        "    pydrake.multibody.parsing.Parser(plant).AddModelFromFile(\n",
        "        FindResource(\"models/camera_box.sdf\"), \"camera0\")\n",
        "    pydrake.multibody.parsing.Parser(plant).AddModelFromString(bottle_sdf, 'sdf')\n",
        "\n",
        "    # add platforms for the bottle to sit\n",
        "    AddShape(plant, pydrake.geometry.Box(0.2, 0.2, 0.01), 'target_platform')\n",
        "    AddShape(plant, pydrake.geometry.Box(0.2, 0.2, 0.01), 'initial_platform')\n",
        "    plant.WeldFrames(plant.world_frame(), plant.GetFrameByName(\"target_platform\"),\n",
        "                     RigidTransform(RotationMatrix(), [2.5,0,-.005]))\n",
        "    plant.WeldFrames(plant.world_frame(), plant.GetFrameByName(\"initial_platform\"),\n",
        "                     RigidTransform(RotationMatrix(), [0.5,0,-.005]))\n",
        "\n",
        "    plant.SetDefaultFreeBodyPose(plant.GetBodyByName('bottle_base_link'),\n",
        "                          RigidTransform(RotationMatrix(), [0.5,0,0]))\n",
        "\n",
        "    plant.Finalize()\n",
        "\n",
        "    num_iiwa_positions = plant.num_positions(iiwa)\n",
        "\n",
        "    # I need a PassThrough system so that I can export the input port.\n",
        "    iiwa_position = builder.AddSystem(pydrake.systems.primitives.PassThrough(num_iiwa_positions))\n",
        "    builder.ExportInput(iiwa_position.get_input_port(), \"iiwa_position\")\n",
        "    builder.ExportOutput(iiwa_position.get_output_port(), \"iiwa_position_command\")\n",
        "\n",
        "    # Export the iiwa \"state\" outputs.\n",
        "    demux = builder.AddSystem(pydrake.systems.primitives.Demultiplexer(\n",
        "        2 * num_iiwa_positions, num_iiwa_positions))\n",
        "    builder.Connect(plant.get_state_output_port(iiwa), demux.get_input_port())\n",
        "    builder.ExportOutput(demux.get_output_port(0), \"iiwa_position_measured\")\n",
        "    builder.ExportOutput(demux.get_output_port(1), \"iiwa_velocity_estimated\")\n",
        "    builder.ExportOutput(plant.get_state_output_port(iiwa), \"iiwa_state_estimated\")\n",
        "\n",
        "    # Make the plant for the iiwa controller to use.\n",
        "    controller_plant = pydrake.multibody.plant.MultibodyPlant(time_step=time_step)\n",
        "    controller_iiwa = AddIiwa(controller_plant)\n",
        "    AddWsg(controller_plant, controller_iiwa, welded=True)\n",
        "    controller_plant.Finalize()\n",
        "\n",
        "    # Add the iiwa controller\n",
        "    iiwa_controller = builder.AddSystem(\n",
        "        pydrake.systems.controllers.InverseDynamicsController(\n",
        "            controller_plant,\n",
        "            kp=[100]*num_iiwa_positions,\n",
        "            ki=[1]*num_iiwa_positions,\n",
        "            kd=[20]*num_iiwa_positions,\n",
        "            has_reference_acceleration=False))\n",
        "    iiwa_controller.set_name(\"iiwa_controller\")\n",
        "    builder.Connect(\n",
        "        plant.get_state_output_port(iiwa), iiwa_controller.get_input_port_estimated_state())\n",
        "\n",
        "    # Add in the feed-forward torque\n",
        "    adder = builder.AddSystem(pydrake.systems.primitives.Adder(2, num_iiwa_positions))\n",
        "    builder.Connect(iiwa_controller.get_output_port_control(),\n",
        "                    adder.get_input_port(0))\n",
        "    # Use a PassThrough to make the port optional (it will provide zero values if not connected).\n",
        "    torque_passthrough = builder.AddSystem(\n",
        "        pydrake.systems.primitives.PassThrough([0]*num_iiwa_positions))\n",
        "    builder.Connect(torque_passthrough.get_output_port(), adder.get_input_port(1))\n",
        "    builder.ExportInput(torque_passthrough.get_input_port(), \"iiwa_feedforward_torque\")\n",
        "    builder.Connect(adder.get_output_port(), plant.get_actuation_input_port(iiwa))\n",
        "\n",
        "    # Add discrete derivative to command velocities.\n",
        "    desired_state_from_position = builder.AddSystem(\n",
        "        pydrake.systems.primitives.StateInterpolatorWithDiscreteDerivative(\n",
        "            num_iiwa_positions, time_step, suppress_initial_transient=True))\n",
        "    desired_state_from_position.set_name(\"desired_state_from_position\")\n",
        "    builder.Connect(desired_state_from_position.get_output_port(),      \n",
        "                    iiwa_controller.get_input_port_desired_state())\n",
        "    builder.Connect(iiwa_position.get_output_port(), desired_state_from_position.get_input_port())\n",
        "\n",
        "    # Export commanded torques.\n",
        "    #builder.ExportOutput(adder.get_output_port(), \"iiwa_torque_commanded\")\n",
        "    #builder.ExportOutput(adder.get_output_port(), \"iiwa_torque_measured\")\n",
        "\n",
        "    # Wsg controller.\n",
        "    wsg_controller = builder.AddSystem(pydrake.manipulation.schunk_wsg.SchunkWsgPositionController())\n",
        "    wsg_controller.set_name(\"wsg_controller\")\n",
        "    builder.Connect(wsg_controller.get_generalized_force_output_port(),             \n",
        "                    plant.get_actuation_input_port(wsg))\n",
        "    builder.Connect(plant.get_state_output_port(wsg), wsg_controller.get_state_input_port())\n",
        "    builder.ExportInput(wsg_controller.get_desired_position_input_port(), \"wsg_position\")\n",
        "    builder.ExportInput(wsg_controller.get_force_limit_input_port(), \"wsg_force_limit\")\n",
        "    wsg_mbp_state_to_wsg_state = builder.AddSystem(\n",
        "        pydrake.manipulation.schunk_wsg.MakeMultibodyStateToWsgStateSystem())\n",
        "    builder.Connect(plant.get_state_output_port(wsg), wsg_mbp_state_to_wsg_state.get_input_port())\n",
        "    builder.ExportOutput(wsg_mbp_state_to_wsg_state.get_output_port(), \"wsg_state_measured\")\n",
        "    builder.ExportOutput(wsg_controller.get_grip_force_output_port(), \"wsg_force_measured\")\n",
        "\n",
        "    # Cameras.\n",
        "    #color_camera = ColorRenderCamera(\n",
        "    #RenderCameraCore(\"manip_station_renderer\", CameraInfo(1080, 720, np.pi/4),\n",
        "    #             ClippingRange(0.1, 10.0), RigidTransform()), False)\n",
        "    \n",
        "    #depth_camera = DepthRenderCamera(color_camera.core(), DepthRange(0.1, 9.5))\n",
        "    XC = RigidTransform()\n",
        "    p = np.array([0.0, 0.0, 0.25])\n",
        "    R = RotationMatrix.MakeZRotation(-np.pi/2)\n",
        "    XC = RigidTransform(R, p)\n",
        "    #XC = RigidTransform(\n",
        "    #                   RollPitchYaw(0, np.pi, -np.pi/2.0),\n",
        "    #                   [0, 0, .8])\n",
        "\n",
        "    AddRgbdSensors(builder, plant, scene_graph, XC = XC)\n",
        "\n",
        "    # Export \"cheat\" ports.\n",
        "    builder.ExportOutput(scene_graph.get_query_output_port(), \"geometry_query\")\n",
        "    builder.ExportOutput(plant.get_contact_results_output_port(), \"contact_results\")\n",
        "    builder.ExportOutput(plant.get_state_output_port(), \"plant_continuous_state\")\n",
        "\n",
        "    return builder.Build()\n"
      ],
      "execution_count": 68,
      "outputs": []
    },
    {
      "cell_type": "markdown",
      "metadata": {
        "id": "eV4u62Exg6uo"
      },
      "source": [
        "## Set up an IK solver to easily position the end effector\n",
        "\n",
        "inspired by [this notebook](https://colab.research.google.com/drive/1lDnpQ_zIaHGXKPUVk0bY5P9pOLMan5zd#scrollTo=WfPONFgTfuh9)"
      ]
    },
    {
      "cell_type": "code",
      "metadata": {
        "id": "y4xWs6ARg5p0"
      },
      "source": [
        "class IKSolver(object):\n",
        "    def __init__(self):\n",
        "        ## setup controller plant\n",
        "        self.plant = pydrake.multibody.plant.MultibodyPlant(0.0)\n",
        "        iiwa = AddIiwa(self.plant)\n",
        "\n",
        "        # Define frames\n",
        "        self.world_frame = self.plant.world_frame()\n",
        "        self.l7_frame = self.plant.GetFrameByName(\"iiwa_link_7\")\n",
        "        # gripper in link 7 frame (see source of AddWsg)\n",
        "        self.X_L7G = RigidTransform(RollPitchYaw(np.pi / 2.0, 0, np.pi / 2.0), [0, 0, 0.114])\n",
        "\n",
        "        # finalize the plant\n",
        "        self.plant.Finalize()\n",
        "        self.plant_context = self.plant.CreateDefaultContext()\n",
        "\n",
        "    def solve(self, X_WT, q_guess = None, theta_bound=0.01, position_bound=0.01):\n",
        "        \"\"\"\n",
        "        plant: a mini plant only consists of iiwa arm with no gripper attached\n",
        "        X_WT: transform of target frame in world frame\n",
        "        q_guess: a guess on the joint state sol\n",
        "        \"\"\"\n",
        "        if q_guess is None:\n",
        "            q_guess = np.zeros(7)\n",
        "        \n",
        "        ik_instance = pydrake.multibody.inverse_kinematics.InverseKinematics(self.plant)\n",
        "        # align frame A to frame B\n",
        "        ik_instance.AddOrientationConstraint(frameAbar=self.l7_frame, \n",
        "                                        R_AbarA=self.X_L7G.rotation(),\n",
        "                                        #   R_AbarA=RotationMatrix(), # for link 7\n",
        "                                        frameBbar=self.world_frame, \n",
        "                                        R_BbarB=X_WT.rotation(), \n",
        "                                        theta_bound=position_bound)\n",
        "        # align point Q in frame B to the bounding box in frame A\n",
        "        ik_instance.AddPositionConstraint(frameB=self.l7_frame, \n",
        "                                        p_BQ=self.X_L7G.translation(),\n",
        "                                        # p_BQ=[0,0,0], # for link 7\n",
        "                                    frameA=self.world_frame, \n",
        "                                    p_AQ_lower=X_WT.translation()-position_bound, \n",
        "                                    p_AQ_upper=X_WT.translation()+position_bound)\n",
        "        prog = ik_instance.prog()\n",
        "        prog.SetInitialGuess(ik_instance.q(), q_guess)\n",
        "        result = Solve(prog)\n",
        "        if not result.is_success():\n",
        "            return result.GetSolution(ik_instance.q()), False\n",
        "        return result.GetSolution(ik_instance.q()), True"
      ],
      "execution_count": 69,
      "outputs": []
    },
    {
      "cell_type": "markdown",
      "metadata": {
        "id": "0mPBCIROMMBv"
      },
      "source": [
        "## Create a top-level builder and add Meshcat + Station\n"
      ]
    },
    {
      "cell_type": "code",
      "metadata": {
        "id": "SJjnTZbHE_95",
        "colab": {
          "base_uri": "https://localhost:8080/"
        },
        "outputId": "c9d42805-15a4-43af-8f5a-97a8bf70b828"
      },
      "source": [
        "# create a new builder and attach the station as a child\n",
        "builder = pydrake.systems.framework.DiagramBuilder()\n",
        "station_diagram = builder.AddSystem(MakeManipulationStation())\n",
        "station_diagram.set_name('station')\n",
        "station_context = station_diagram.CreateDefaultContext()\n",
        "\n",
        "# pull out the plant and the bottle for easy access\n",
        "plant = station_diagram.GetSubsystemByName('plant')\n",
        "plant_context = plant.CreateDefaultContext()\n",
        "bottle = plant.GetBodyByName('bottle_base_link')"
      ],
      "execution_count": 70,
      "outputs": [
        {
          "output_type": "stream",
          "text": [
            "/usr/local/lib/python3.6/dist-packages/ipykernel_launcher.py:104: DrakeDeprecationWarning: Constructs an RgbdSensor in the same way as the above overload, but\n",
            "using the ``CameraProperties`` portion of ``properties`` for color\n",
            "(and label) properties, and all of ``properties`` for depth\n",
            "properties.  /\n",
            "(Deprecated.)\n",
            "\n",
            "Deprecated:\n",
            "    CameraProperties are being deprecated. Please use the RenderCamera\n",
            "    variant. This will be removed from Drake on or after 2021-03-01.\n"
          ],
          "name": "stderr"
        }
      ]
    },
    {
      "cell_type": "code",
      "metadata": {
        "id": "J4D8qMXpUCcK",
        "colab": {
          "base_uri": "https://localhost:8080/"
        },
        "outputId": "ef1ddb76-6269-48a2-b5a4-bc3a111889b8"
      },
      "source": [
        "# the origin of the bottle is at the base of the bottle. The spout begins at\n",
        "# 15.5cm and ends at 19cm in Z\n",
        "X_GO_pregrasp = RigidTransform(RotationMatrix.MakeXRotation(np.pi/2.0).multiply(\n",
        "        RotationMatrix.MakeZRotation(np.pi/2.0)), [0, 0.50, 0])\n",
        "X_GO_grasp = RigidTransform(RotationMatrix.MakeXRotation(np.pi/2.0).multiply(\n",
        "        RotationMatrix.MakeZRotation(np.pi/2.0)), [0, 0.30, 0])\n",
        "\n",
        "# get the pose of the bottle and combine to compute a grasp pose\n",
        "X_WO = bottle.EvalPoseInWorld(plant_context)\n",
        "X_WG_grasp = X_WO.multiply(X_GO_grasp.inverse())\n",
        "X_WG_pregrasp = X_WO.multiply(X_GO_pregrasp.inverse())\n",
        "\n",
        "# Do ik to find the correct pose for the gripper\n",
        "ik_solver = IKSolver()\n",
        "q_init = station_diagram.GetOutputPort(\"iiwa_position_measured\").Eval(station_context)\n",
        "q_grasp, optimal = ik_solver.solve(X_WG_grasp, q_init)\n",
        "q_pregrasp, optimal = ik_solver.solve(X_WG_pregrasp, q_init)\n",
        "\n",
        "# create trajectories for the joints and the grippers\n",
        "states = ['start', 'pregrasp', 'grasp', 'grasp_close', 'post_grasp']\n",
        "times = np.array([0, 1, 1.5, 4, 4.5])[:,None]\n",
        "grippers = np.array([[0, 0.1, 0.1, 0, 0]])\n",
        "joints = np.array([q_init, q_pregrasp, q_grasp, q_grasp, q_pregrasp])\n",
        "\n",
        "# attach a gripper controller. we need to wire the gripper controller output\n",
        "# ports to the station input ports, so we can't just abstract this entirely into\n",
        "# its own function like we could with creating the station diagram\n",
        "traj_wsg_command = PiecewisePolynomial.FirstOrderHold(times, grippers)\n",
        "wsg_source = builder.AddSystem(TrajectorySource(traj_wsg_command))\n",
        "wsg_source.set_name(\"wsg_command\")\n",
        "builder.Connect(wsg_source.get_output_port(), station_diagram.GetInputPort(\"wsg_position\"))\n",
        "\n",
        "\n",
        "# and attach the iiwa joint position controller similarly`\n",
        "traj_iiwa_command = PiecewisePolynomial.FirstOrderHold(times, joints.T)\n",
        "iiwa_source = builder.AddSystem(TrajectorySource(traj_iiwa_command))\n",
        "iiwa_source.set_name(\"iiwa_command\")\n",
        "builder.Connect(iiwa_source.get_output_port(), station_diagram.GetInputPort(\"iiwa_position\"))"
      ],
      "execution_count": 71,
      "outputs": [
        {
          "output_type": "stream",
          "text": [
            "[2020-12-09 18:11:41.050] [console] [warning] Currently MultibodyPlant does not handle joint limits for continuous models. However some joints do specify limits. Consider setting a non-zero time step in the MultibodyPlant constructor; this will put MultibodyPlant in discrete-time mode, which does support joint limits.\n",
            "[2020-12-09 18:11:41.052] [console] [warning] Joints that specify limits are: `iiwa_joint_1`, `iiwa_joint_2`, `iiwa_joint_3`, `iiwa_joint_4`, `iiwa_joint_5`, `iiwa_joint_6`, `iiwa_joint_7`.\n"
          ],
          "name": "stderr"
        }
      ]
    },
    {
      "cell_type": "markdown",
      "metadata": {
        "id": "dHi1GewGMEAX"
      },
      "source": [
        "## Build the top-level builder and attach a simulator"
      ]
    },
    {
      "cell_type": "code",
      "metadata": {
        "id": "pG6GuSKyquET",
        "colab": {
          "base_uri": "https://localhost:8080/",
          "height": 605
        },
        "outputId": "ba084ff4-73e3-41d5-d714-b4d184ecbaa2"
      },
      "source": [
        "# connect a meshcat visualizer\n",
        "meshcat = ConnectMeshcatVisualizer(builder,\n",
        "                                   output_port=station_diagram.GetOutputPort(\"geometry_query\"),\n",
        "                                   zmq_url=zmq_url)\n",
        "\n",
        "# not sure what this does\n",
        "diagram = builder.Build()\n",
        "context = diagram.CreateDefaultContext()\n",
        "\n",
        "#color_camera = ColorRenderCamera(\n",
        "#    RenderCameraCore(\"station_renderer\", CameraInfo(1080, 720, np.pi/4),\n",
        "#                 ClippingRange(0.1, 10.0), RigidTransform()), False)\n",
        "#X_PC = RigidTransform(RollPitchYaw([0.0, -np.pi/2.5, 0.0]), [0.7, 0.0, 0.7])\n",
        "#station.RegisterRgbdSensor(\"single_sensor\", plant.world_frame(), X_PC, depth_camera)\n",
        "#station.RegisterRgbdSensor(\"dual_sensor\", plant.world_frame(), X_PC, color_camera, depth_camera)\n",
        "\n",
        "# depth_camera = DepthRenderCamera(color_camera.core(), DepthRange(0.1, 9.5))\n",
        "# get the context\n",
        "# context = diagram.CreateDefaultContext()\n",
        "# create a simulator\n",
        "simulator = Simulator(diagram)\n",
        "\n",
        "\n",
        "# NOTE(izzy): i couldn't create the plant_context in the same way as the diagram\n",
        "# context if I wanted to be able to set the pose of the bottle... Not at all\n",
        "# sure why.\n",
        "# NOTE(izzy): these initial conditions were found using the optimization\n",
        "# procedure a few cells below. not sure why they aren't really working...\n",
        "mutable_context = diagram.GetMyContextFromRoot(simulator.get_mutable_context())\n",
        "mutable_station_context = station_diagram.GetMyMutableContextFromRoot(mutable_context)\n",
        "\n",
        "#mutable_context = diagram.GetMyContextFromRoot(simulator.get_mutable_context())\n",
        "\n",
        "# set the position of the arm to the result of the IK above\n",
        "# diagram.GetSubsystemByName('station').GetInputPort('iiwa_position').FixValue(mutable_station_context, q_goal)\n",
        "\n",
        "# Note(chris I believe this is how we access the rbg / depth images)\n",
        "#display(SVG(pydot.graph_from_dot_data(diagram.GetGraphvizString())[0].create_svg()))\n",
        "meshcat.load(meshcat.GetMyContextFromRoot(context))\n",
        "color_image = station_diagram.GetOutputPort(\"camera0_rgb_image\").Eval(mutable_station_context)\n",
        "point_cloud = station_diagram.GetOutputPort(\"camera0_point_cloud\").Eval(mutable_station_context)\n",
        "diagram.Publish(context)\n",
        "color_image_np = color_image.data\n",
        "cv2_imshow(color_image_np)\n",
        "\n",
        "import meshcat as mesh\n",
        "vis = mesh.Visualizer(zmq_url=zmq_url)\n",
        "#draw_frame_meshcat(vis, \"frame\", X_WP, 0.1)\n",
        "vis[\"camera0\"].set_object(mesh.geometry.triad(scale=0.1))\n",
        "vis[\"camera0\"].set_transform(RigidTransform().GetAsMatrix4())\n",
        "\n",
        "#vis = meshcat.Visualizer(zmq_url=zmq_url\n",
        "#plant.get_state_output_port(camera)\n",
        "\n",
        "# position the bottle on the platform in front of the robotcolor_image = station_diagram.GetOutputPort(\"camera0_rgb_image\").Eval(mutable_station_context)\n",
        "# plant = station_diagram.GetSubsystemByName('plant')\n",
        "# plant.SetFreeBodyPose(mutable_context,\n",
        "#                       plant.GetBodyByName('bottle_base_link'),\n",
        "#                       RigidTransform(RotationMatrix(), [0.5,0,0]))\n",
        "\n",
        "# NOTE(izzy): if we hard assign the position and velocity of the bottle to the \n",
        "# solution of the optimization below, then we can check that the flip actually \n",
        "# works\n",
        "# plant.SetFreeBodyPose(mutable_context,\n",
        "#                       plant.GetBodyByName('bottle_base_link'),\n",
        "#                       RigidTransform(RotationMatrix(), [1,0,0.5]))\n",
        "# plant.SetFreeBodySpatialVelocity(plant.GetBodyByName('bottle_base_link'),\n",
        "#                                  SpatialVelocity(w=[ 0.,         -0.95135561,  0.        ],\n",
        "#                                                  v=[ 0.30277771,  0.,         32.25951315]),\n",
        "#                                  mutable_context)\n",
        "\n",
        "\n",
        "# record an animation of the simulation advancing\n"
      ],
      "execution_count": 72,
      "outputs": [
        {
          "output_type": "stream",
          "text": [
            "Connecting to meshcat-server at zmq_url=tcp://127.0.0.1:6008...\n",
            "You can open the visualizer by visiting the following URL:\n",
            "http://94b4e6829c19.ngrok.io/static/\n",
            "Connected to meshcat-server.\n"
          ],
          "name": "stdout"
        },
        {
          "output_type": "display_data",
          "data": {
            "image/png": "[encoded data removed]",
            "text/plain": [
              "<PIL.Image.Image image mode=RGBA size=640x480 at 0x7FF963E4F2E8>"
            ]
          },
          "metadata": {
            "tags": []
          }
        },
        {
          "output_type": "stream",
          "text": [
            "You can open the visualizer by visiting the following URL:\n",
            "http://94b4e6829c19.ngrok.io/static/\n"
          ],
          "name": "stdout"
        }
      ]
    },
    {
      "cell_type": "code",
      "metadata": {
        "id": "lfYCsEwtqtsy",
        "colab": {
          "base_uri": "https://localhost:8080/",
          "height": 497
        },
        "outputId": "905cb3a9-861a-4be2-e907-852011092290"
      },
      "source": [
        "meshcat.start_recording()\n",
        "simulator.AdvanceTo(5)\n",
        "meshcat.publish_recording()\n",
        "color_image = station_diagram.GetOutputPort(\"camera0_rgb_image\").Eval(mutable_station_context)\n",
        "color_image_np = color_image.data\n",
        "cv2_imshow(color_image_np)"
      ],
      "execution_count": 73,
      "outputs": [
        {
          "output_type": "display_data",
          "data": {
            "image/png": "[encoded data removed]",
            "text/plain": [
              "<PIL.Image.Image image mode=RGBA size=640x480 at 0x7FF95D820EF0>"
            ]
          },
          "metadata": {
            "tags": []
          }
        }
      ]
    },
    {
      "cell_type": "code",
      "metadata": {
        "id": "OhQ-RpP9ViGl",
        "colab": {
          "base_uri": "https://localhost:8080/"
        },
        "outputId": "c9fce3e2-33d9-403c-fe9f-a3ccb15e1d2f"
      },
      "source": [
        "for sys in builder.GetSystems():\n",
        "  print(sys, sys.GetSystemName())\n",
        "\n",
        "iiwa_controller = station_diagram.GetSubsystemByName('iiwa_controller')\n",
        "port = station_diagram.GetOutputPort(\"iiwa_position_measured\")\n",
        "port.Eval(station_diagram.CreateDefaultContext())"
      ],
      "execution_count": 9,
      "outputs": [
        {
          "output_type": "execute_result",
          "data": {
            "text/plain": [
              "array([ 0. ,  0.1,  0. , -1.2,  0. ,  1.6,  0. ])"
            ]
          },
          "metadata": {
            "tags": []
          },
          "execution_count": 9
        }
      ]
    },
    {
      "cell_type": "code",
      "metadata": {
        "id": "EwK4lDdwwb21",
        "colab": {
          "base_uri": "https://localhost:8080/",
          "height": 244
        },
        "outputId": "dda7f40a-ba15-4dc5-b8f2-ccedf38074e4"
      },
      "source": [
        "port = diagram.GetSubsystemByName('station').GetInputPort('iiwa_position')\n",
        "port.HasValue()"
      ],
      "execution_count": 10,
      "outputs": [
        {
          "output_type": "error",
          "ename": "TypeError",
          "evalue": "ignored",
          "traceback": [
            "\u001b[0;31m---------------------------------------------------------------------------\u001b[0m",
            "\u001b[0;31mTypeError\u001b[0m                                 Traceback (most recent call last)",
            "\u001b[0;32m<ipython-input-10-f26bc6c5bf97>\u001b[0m in \u001b[0;36m<module>\u001b[0;34m()\u001b[0m\n\u001b[1;32m      1\u001b[0m \u001b[0mport\u001b[0m \u001b[0;34m=\u001b[0m \u001b[0mdiagram\u001b[0m\u001b[0;34m.\u001b[0m\u001b[0mGetSubsystemByName\u001b[0m\u001b[0;34m(\u001b[0m\u001b[0;34m'station'\u001b[0m\u001b[0;34m)\u001b[0m\u001b[0;34m.\u001b[0m\u001b[0mGetInputPort\u001b[0m\u001b[0;34m(\u001b[0m\u001b[0;34m'iiwa_position'\u001b[0m\u001b[0;34m)\u001b[0m\u001b[0;34m\u001b[0m\u001b[0;34m\u001b[0m\u001b[0m\n\u001b[0;32m----> 2\u001b[0;31m \u001b[0mport\u001b[0m\u001b[0;34m.\u001b[0m\u001b[0mHasValue\u001b[0m\u001b[0;34m(\u001b[0m\u001b[0;34m)\u001b[0m\u001b[0;34m\u001b[0m\u001b[0;34m\u001b[0m\u001b[0m\n\u001b[0m",
            "\u001b[0;31mTypeError\u001b[0m: HasValue(): incompatible function arguments. The following argument types are supported:\n    1. (self: pydrake.systems.framework.InputPort_[float], context: pydrake.systems.framework.Context_[float]) -> bool\n\nInvoked with: <pydrake.systems.framework.InputPort_[float] object at 0x7f924df9c3f0>"
          ]
        }
      ]
    },
    {
      "cell_type": "code",
      "metadata": {
        "id": "XXxslmulrYPE",
        "colab": {
          "base_uri": "https://localhost:8080/",
          "height": 1000
        },
        "outputId": "1a5a95e1-a2f3-41e1-eb29-6e853d41bb83"
      },
      "source": [
        "import pydot\n",
        "from IPython.display import display, SVG\n",
        "display(SVG(pydot.graph_from_dot_data(plant.GetTopologyGraphvizString())[0].create_svg()))"
      ],
      "execution_count": 11,
      "outputs": [
        {
          "output_type": "display_data",
          "data": {
            "text/plain": [
              "<IPython.core.display.SVG object>"
            ],
            "image/svg+xml": "<svg height=\"1359pt\" viewBox=\"0.00 0.00 1068.00 1359.00\" width=\"1068pt\" xmlns=\"http://www.w3.org/2000/svg\" xmlns:xlink=\"http://www.w3.org/1999/xlink\">\n<g class=\"graph\" id=\"graph0\" transform=\"scale(1 1) rotate(0) translate(4 1355)\">\n<title>MultibodyPlant</title>\n<polygon fill=\"#ffffff\" points=\"-4,4 -4,-1355 1064,-1355 1064,4 -4,4\" stroke=\"transparent\"/>\n<text fill=\"#000000\" font-family=\"Times,serif\" font-size=\"14.00\" text-anchor=\"middle\" x=\"530\" y=\"-1335.8\">plant</text>\n<g class=\"cluster\" id=\"clust1\">\n<title>cluster0</title>\n<polygon fill=\"none\" points=\"328,-1245 328,-1320 495,-1320 495,-1245 328,-1245\" stroke=\"#000000\"/>\n<text fill=\"#000000\" font-family=\"Times,serif\" font-size=\"14.00\" text-anchor=\"middle\" x=\"411.5\" y=\"-1252.8\">WorldModelInstance</text>\n</g>\n<g class=\"cluster\" id=\"clust3\">\n<title>cluster2</title>\n<polygon fill=\"none\" points=\"30,-241 30,-1212 224,-1212 224,-241 30,-241\" stroke=\"#000000\"/>\n<text fill=\"#000000\" font-family=\"Times,serif\" font-size=\"14.00\" text-anchor=\"middle\" x=\"127\" y=\"-248.8\">iiwa7</text>\n</g>\n<g class=\"cluster\" id=\"clust4\">\n<title>cluster3</title>\n<polygon fill=\"none\" points=\"8,-8 8,-208 596,-208 596,-8 8,-8\" stroke=\"#000000\"/>\n<text fill=\"#000000\" font-family=\"Times,serif\" font-size=\"14.00\" text-anchor=\"middle\" x=\"302\" y=\"-15.8\">Schunk_Gripper</text>\n</g>\n<g class=\"cluster\" id=\"clust5\">\n<title>cluster4</title>\n<polygon fill=\"none\" points=\"604,-8 604,-83 684,-83 684,-8 604,-8\" stroke=\"#000000\"/>\n<text fill=\"#000000\" font-family=\"Times,serif\" font-size=\"14.00\" text-anchor=\"middle\" x=\"644\" y=\"-15.8\">camera0</text>\n</g>\n<g class=\"cluster\" id=\"clust6\">\n<title>cluster5</title>\n<polygon fill=\"none\" points=\"692,-8 692,-83 882,-83 882,-8 692,-8\" stroke=\"#000000\"/>\n<text fill=\"#000000\" font-family=\"Times,serif\" font-size=\"14.00\" text-anchor=\"middle\" x=\"787\" y=\"-15.8\">bottle</text>\n</g>\n<g class=\"cluster\" id=\"clust7\">\n<title>cluster6</title>\n<polygon fill=\"none\" points=\"319,-1137 319,-1212 503,-1212 503,-1137 319,-1137\" stroke=\"#000000\"/>\n<text fill=\"#000000\" font-family=\"Times,serif\" font-size=\"14.00\" text-anchor=\"middle\" x=\"411\" y=\"-1144.8\">target_platform</text>\n</g>\n<g class=\"cluster\" id=\"clust8\">\n<title>cluster7</title>\n<polygon fill=\"none\" points=\"663,-1137 663,-1212 845,-1212 845,-1137 663,-1137\" stroke=\"#000000\"/>\n<text fill=\"#000000\" font-family=\"Times,serif\" font-size=\"14.00\" text-anchor=\"middle\" x=\"754\" y=\"-1144.8\">initial_platform</text>\n</g>\n<!-- body0 -->\n<g class=\"node\" id=\"node1\">\n<title>body0</title>\n<ellipse cx=\"411\" cy=\"-1294\" fill=\"none\" rx=\"62.2891\" ry=\"18\" stroke=\"#000000\"/>\n<text fill=\"#000000\" font-family=\"Times,serif\" font-size=\"14.00\" text-anchor=\"middle\" x=\"411\" y=\"-1290.3\">WorldBody</text>\n</g>\n<!-- body1 -->\n<g class=\"node\" id=\"node2\">\n<title>body1</title>\n<ellipse cx=\"101\" cy=\"-1186\" fill=\"none\" rx=\"63.0888\" ry=\"18\" stroke=\"#000000\"/>\n<text fill=\"#000000\" font-family=\"Times,serif\" font-size=\"14.00\" text-anchor=\"middle\" x=\"101\" y=\"-1182.3\">iiwa_link_0</text>\n</g>\n<!-- body1&#45;&gt;body0 -->\n<g class=\"edge\" id=\"edge8\">\n<title>body1-&gt;body0</title>\n<path d=\"M103.2558,-1204.1259C105.594,-1215.2174 110.3473,-1228.8067 120,-1237 152.5653,-1264.6417 265.1873,-1280.3984 340.3933,-1288.0636\" fill=\"none\" stroke=\"#000000\"/>\n<polygon fill=\"#000000\" points=\"340.4476,-1291.5861 350.7447,-1289.0918 341.1397,-1284.6204 340.4476,-1291.5861\" stroke=\"#000000\"/>\n<text fill=\"#000000\" font-family=\"Times,serif\" font-size=\"14.00\" text-anchor=\"middle\" x=\"263.5\" y=\"-1225.8\">WorldBody_welds_to_iiwa_link_0 [weld]</text>\n</g>\n<!-- body2 -->\n<g class=\"node\" id=\"node3\">\n<title>body2</title>\n<ellipse cx=\"101\" cy=\"-1040\" fill=\"none\" rx=\"63.0888\" ry=\"18\" stroke=\"#000000\"/>\n<text fill=\"#000000\" font-family=\"Times,serif\" font-size=\"14.00\" text-anchor=\"middle\" x=\"101\" y=\"-1036.3\">iiwa_link_1</text>\n</g>\n<!-- body2&#45;&gt;body1 -->\n<g class=\"edge\" id=\"edge1\">\n<title>body2-&gt;body1</title>\n<path d=\"M101,-1058.1958C101,-1083.1132 101,-1128.1062 101,-1157.5123\" fill=\"none\" stroke=\"#000000\"/>\n<polygon fill=\"#000000\" points=\"97.5001,-1157.5749 101,-1167.5749 104.5001,-1157.5749 97.5001,-1157.5749\" stroke=\"#000000\"/>\n<text fill=\"#000000\" font-family=\"Times,serif\" font-size=\"14.00\" text-anchor=\"middle\" x=\"181\" y=\"-1098.8\">iiwa_joint_1 [revolute]</text>\n</g>\n<!-- body3 -->\n<g class=\"node\" id=\"node4\">\n<title>body3</title>\n<ellipse cx=\"101\" cy=\"-915\" fill=\"none\" rx=\"63.0888\" ry=\"18\" stroke=\"#000000\"/>\n<text fill=\"#000000\" font-family=\"Times,serif\" font-size=\"14.00\" text-anchor=\"middle\" x=\"101\" y=\"-911.3\">iiwa_link_2</text>\n</g>\n<!-- body3&#45;&gt;body2 -->\n<g class=\"edge\" id=\"edge2\">\n<title>body3-&gt;body2</title>\n<path d=\"M101,-933.1761C101,-953.7277 101,-987.4528 101,-1011.5107\" fill=\"none\" stroke=\"#000000\"/>\n<polygon fill=\"#000000\" points=\"97.5001,-1011.802 101,-1021.802 104.5001,-1011.802 97.5001,-1011.802\" stroke=\"#000000\"/>\n<text fill=\"#000000\" font-family=\"Times,serif\" font-size=\"14.00\" text-anchor=\"middle\" x=\"181\" y=\"-973.8\">iiwa_joint_2 [revolute]</text>\n</g>\n<!-- body4 -->\n<g class=\"node\" id=\"node5\">\n<title>body4</title>\n<ellipse cx=\"101\" cy=\"-790\" fill=\"none\" rx=\"63.0888\" ry=\"18\" stroke=\"#000000\"/>\n<text fill=\"#000000\" font-family=\"Times,serif\" font-size=\"14.00\" text-anchor=\"middle\" x=\"101\" y=\"-786.3\">iiwa_link_3</text>\n</g>\n<!-- body4&#45;&gt;body3 -->\n<g class=\"edge\" id=\"edge3\">\n<title>body4-&gt;body3</title>\n<path d=\"M101,-808.1761C101,-828.7277 101,-862.4528 101,-886.5107\" fill=\"none\" stroke=\"#000000\"/>\n<polygon fill=\"#000000\" points=\"97.5001,-886.802 101,-896.802 104.5001,-886.802 97.5001,-886.802\" stroke=\"#000000\"/>\n<text fill=\"#000000\" font-family=\"Times,serif\" font-size=\"14.00\" text-anchor=\"middle\" x=\"181\" y=\"-848.8\">iiwa_joint_3 [revolute]</text>\n</g>\n<!-- body5 -->\n<g class=\"node\" id=\"node6\">\n<title>body5</title>\n<ellipse cx=\"101\" cy=\"-665\" fill=\"none\" rx=\"63.0888\" ry=\"18\" stroke=\"#000000\"/>\n<text fill=\"#000000\" font-family=\"Times,serif\" font-size=\"14.00\" text-anchor=\"middle\" x=\"101\" y=\"-661.3\">iiwa_link_4</text>\n</g>\n<!-- body5&#45;&gt;body4 -->\n<g class=\"edge\" id=\"edge4\">\n<title>body5-&gt;body4</title>\n<path d=\"M101,-683.1761C101,-703.7277 101,-737.4528 101,-761.5107\" fill=\"none\" stroke=\"#000000\"/>\n<polygon fill=\"#000000\" points=\"97.5001,-761.802 101,-771.802 104.5001,-761.802 97.5001,-761.802\" stroke=\"#000000\"/>\n<text fill=\"#000000\" font-family=\"Times,serif\" font-size=\"14.00\" text-anchor=\"middle\" x=\"181\" y=\"-723.8\">iiwa_joint_4 [revolute]</text>\n</g>\n<!-- body6 -->\n<g class=\"node\" id=\"node7\">\n<title>body6</title>\n<ellipse cx=\"101\" cy=\"-540\" fill=\"none\" rx=\"63.0888\" ry=\"18\" stroke=\"#000000\"/>\n<text fill=\"#000000\" font-family=\"Times,serif\" font-size=\"14.00\" text-anchor=\"middle\" x=\"101\" y=\"-536.3\">iiwa_link_5</text>\n</g>\n<!-- body6&#45;&gt;body5 -->\n<g class=\"edge\" id=\"edge5\">\n<title>body6-&gt;body5</title>\n<path d=\"M101,-558.1761C101,-578.7277 101,-612.4528 101,-636.5107\" fill=\"none\" stroke=\"#000000\"/>\n<polygon fill=\"#000000\" points=\"97.5001,-636.802 101,-646.802 104.5001,-636.802 97.5001,-636.802\" stroke=\"#000000\"/>\n<text fill=\"#000000\" font-family=\"Times,serif\" font-size=\"14.00\" text-anchor=\"middle\" x=\"181\" y=\"-598.8\">iiwa_joint_5 [revolute]</text>\n</g>\n<!-- body7 -->\n<g class=\"node\" id=\"node8\">\n<title>body7</title>\n<ellipse cx=\"101\" cy=\"-415\" fill=\"none\" rx=\"63.0888\" ry=\"18\" stroke=\"#000000\"/>\n<text fill=\"#000000\" font-family=\"Times,serif\" font-size=\"14.00\" text-anchor=\"middle\" x=\"101\" y=\"-411.3\">iiwa_link_6</text>\n</g>\n<!-- body7&#45;&gt;body6 -->\n<g class=\"edge\" id=\"edge6\">\n<title>body7-&gt;body6</title>\n<path d=\"M101,-433.1761C101,-453.7277 101,-487.4528 101,-511.5107\" fill=\"none\" stroke=\"#000000\"/>\n<polygon fill=\"#000000\" points=\"97.5001,-511.802 101,-521.802 104.5001,-511.802 97.5001,-511.802\" stroke=\"#000000\"/>\n<text fill=\"#000000\" font-family=\"Times,serif\" font-size=\"14.00\" text-anchor=\"middle\" x=\"181\" y=\"-473.8\">iiwa_joint_6 [revolute]</text>\n</g>\n<!-- body8 -->\n<g class=\"node\" id=\"node9\">\n<title>body8</title>\n<ellipse cx=\"101\" cy=\"-290\" fill=\"none\" rx=\"63.0888\" ry=\"18\" stroke=\"#000000\"/>\n<text fill=\"#000000\" font-family=\"Times,serif\" font-size=\"14.00\" text-anchor=\"middle\" x=\"101\" y=\"-286.3\">iiwa_link_7</text>\n</g>\n<!-- body8&#45;&gt;body7 -->\n<g class=\"edge\" id=\"edge7\">\n<title>body8-&gt;body7</title>\n<path d=\"M101,-308.1761C101,-328.7277 101,-362.4528 101,-386.5107\" fill=\"none\" stroke=\"#000000\"/>\n<polygon fill=\"#000000\" points=\"97.5001,-386.802 101,-396.802 104.5001,-386.802 97.5001,-386.802\" stroke=\"#000000\"/>\n<text fill=\"#000000\" font-family=\"Times,serif\" font-size=\"14.00\" text-anchor=\"middle\" x=\"181\" y=\"-348.8\">iiwa_joint_7 [revolute]</text>\n</g>\n<!-- body9 -->\n<g class=\"node\" id=\"node10\">\n<title>body9</title>\n<ellipse cx=\"101\" cy=\"-182\" fill=\"none\" rx=\"33.2948\" ry=\"18\" stroke=\"#000000\"/>\n<text fill=\"#000000\" font-family=\"Times,serif\" font-size=\"14.00\" text-anchor=\"middle\" x=\"101\" y=\"-178.3\">body</text>\n</g>\n<!-- body9&#45;&gt;body8 -->\n<g class=\"edge\" id=\"edge11\">\n<title>body9-&gt;body8</title>\n<path d=\"M101,-200.3207C101,-217.179 101,-242.4349 101,-261.853\" fill=\"none\" stroke=\"#000000\"/>\n<polygon fill=\"#000000\" points=\"97.5001,-261.9498 101,-271.9498 104.5001,-261.9499 97.5001,-261.9498\" stroke=\"#000000\"/>\n<text fill=\"#000000\" font-family=\"Times,serif\" font-size=\"14.00\" text-anchor=\"middle\" x=\"222\" y=\"-221.8\">iiwa_link_7_welds_to_body [weld]</text>\n</g>\n<!-- body10 -->\n<g class=\"node\" id=\"node11\">\n<title>body10</title>\n<ellipse cx=\"335\" cy=\"-57\" fill=\"none\" rx=\"59.2899\" ry=\"18\" stroke=\"#000000\"/>\n<text fill=\"#000000\" font-family=\"Times,serif\" font-size=\"14.00\" text-anchor=\"middle\" x=\"335\" y=\"-53.3\">left_finger</text>\n</g>\n<!-- body10&#45;&gt;body9 -->\n<g class=\"edge\" id=\"edge9\">\n<title>body10-&gt;body9</title>\n<path d=\"M334.0773,-75.0455C332.292,-90.898 327.2189,-113.484 313,-127 288.792,-150.0114 197.9725,-167.341 143.3649,-175.9503\" fill=\"none\" stroke=\"#000000\"/>\n<polygon fill=\"#000000\" points=\"142.6348,-172.5215 133.2854,-177.5054 143.7022,-179.4396 142.6348,-172.5215\" stroke=\"#000000\"/>\n<text fill=\"#000000\" font-family=\"Times,serif\" font-size=\"14.00\" text-anchor=\"middle\" x=\"449.5\" y=\"-115.8\">left_finger_sliding_joint [prismatic]</text>\n</g>\n<!-- body11 -->\n<g class=\"node\" id=\"node12\">\n<title>body11</title>\n<ellipse cx=\"82\" cy=\"-57\" fill=\"none\" rx=\"66.0889\" ry=\"18\" stroke=\"#000000\"/>\n<text fill=\"#000000\" font-family=\"Times,serif\" font-size=\"14.00\" text-anchor=\"middle\" x=\"82\" y=\"-53.3\">right_finger</text>\n</g>\n<!-- body11&#45;&gt;body9 -->\n<g class=\"edge\" id=\"edge10\">\n<title>body11-&gt;body9</title>\n<path d=\"M64.4748,-74.5335C52.717,-88.5116 40.6205,-108.7071 48,-127 53.2454,-140.0028 63.1991,-151.647 73.077,-160.8368\" fill=\"none\" stroke=\"#000000\"/>\n<polygon fill=\"#000000\" points=\"71.0565,-163.7191 80.8912,-167.6597 75.6605,-158.4461 71.0565,-163.7191\" stroke=\"#000000\"/>\n<text fill=\"#000000\" font-family=\"Times,serif\" font-size=\"14.00\" text-anchor=\"middle\" x=\"180.5\" y=\"-115.8\">right_finger_sliding_joint [prismatic]</text>\n</g>\n<!-- body12 -->\n<g class=\"node\" id=\"node13\">\n<title>body12</title>\n<ellipse cx=\"644\" cy=\"-57\" fill=\"none\" rx=\"32.4942\" ry=\"18\" stroke=\"#000000\"/>\n<text fill=\"#000000\" font-family=\"Times,serif\" font-size=\"14.00\" text-anchor=\"middle\" x=\"644\" y=\"-53.3\">base</text>\n</g>\n<!-- body13 -->\n<g class=\"node\" id=\"node14\">\n<title>body13</title>\n<ellipse cx=\"787\" cy=\"-57\" fill=\"none\" rx=\"87.1846\" ry=\"18\" stroke=\"#000000\"/>\n<text fill=\"#000000\" font-family=\"Times,serif\" font-size=\"14.00\" text-anchor=\"middle\" x=\"787\" y=\"-53.3\">bottle_base_link</text>\n</g>\n<!-- body14 -->\n<g class=\"node\" id=\"node15\">\n<title>body14</title>\n<ellipse cx=\"411\" cy=\"-1186\" fill=\"none\" rx=\"84.485\" ry=\"18\" stroke=\"#000000\"/>\n<text fill=\"#000000\" font-family=\"Times,serif\" font-size=\"14.00\" text-anchor=\"middle\" x=\"411\" y=\"-1182.3\">target_platform</text>\n</g>\n<!-- body14&#45;&gt;body0 -->\n<g class=\"edge\" id=\"edge12\">\n<title>body14-&gt;body0</title>\n<path d=\"M411,-1204.3207C411,-1221.179 411,-1246.4349 411,-1265.853\" fill=\"none\" stroke=\"#000000\"/>\n<polygon fill=\"#000000\" points=\"407.5001,-1265.9498 411,-1275.9498 414.5001,-1265.9499 407.5001,-1265.9498\" stroke=\"#000000\"/>\n<text fill=\"#000000\" font-family=\"Times,serif\" font-size=\"14.00\" text-anchor=\"middle\" x=\"571\" y=\"-1225.8\">WorldBody_welds_to_target_platform [weld]</text>\n</g>\n<!-- body15 -->\n<g class=\"node\" id=\"node16\">\n<title>body15</title>\n<ellipse cx=\"754\" cy=\"-1186\" fill=\"none\" rx=\"82.5854\" ry=\"18\" stroke=\"#000000\"/>\n<text fill=\"#000000\" font-family=\"Times,serif\" font-size=\"14.00\" text-anchor=\"middle\" x=\"754\" y=\"-1182.3\">initial_platform</text>\n</g>\n<!-- body15&#45;&gt;body0 -->\n<g class=\"edge\" id=\"edge13\">\n<title>body15-&gt;body0</title>\n<path d=\"M750.742,-1203.9948C747.7664,-1215.179 742.2066,-1228.9198 732,-1237 694.1917,-1266.9316 564.5041,-1282.2705 481.9963,-1289.1822\" fill=\"none\" stroke=\"#000000\"/>\n<polygon fill=\"#000000\" points=\"481.6109,-1285.7019 471.9287,-1290.0035 482.1802,-1292.6787 481.6109,-1285.7019\" stroke=\"#000000\"/>\n<text fill=\"#000000\" font-family=\"Times,serif\" font-size=\"14.00\" text-anchor=\"middle\" x=\"901.5\" y=\"-1225.8\">WorldBody_welds_to_initial_platform [weld]</text>\n</g>\n</g>\n</svg>"
          },
          "metadata": {
            "tags": []
          }
        }
      ]
    },
    {
      "cell_type": "markdown",
      "metadata": {
        "id": "2g_QRP7aFrXg"
      },
      "source": [
        "# Optimize the release position and velocity"
      ]
    },
    {
      "cell_type": "code",
      "metadata": {
        "id": "hkC5CoOlMKum"
      },
      "source": [
        "T = 500 # number of timesteps\n",
        "d = 12 # state dimension\n",
        "\n",
        "def dynamics(x):\n",
        "    dx = np.zeros_like(x)\n",
        "    dx[0:3] = x[3:6] # velocity\n",
        "    dx[5] = -9.81    # acceleration\n",
        "    dx[6:9] = x[9:] # angular velocity\n",
        "    return dx\n",
        "\n",
        "prog = MathematicalProgram()\n",
        "# create decision variables for the state and the timestep\n",
        "state = prog.NewContinuousVariables(T + 1, d, 'state')\n",
        "dt = prog.NewContinuousVariables(1, 'dt')\n",
        "\n",
        "# bound the starting and ending positions\n",
        "prog.AddLinearConstraint(eq(state[0,:3], np.array([1,0,0.5]))) # constrain initial position\n",
        "prog.AddLinearConstraint(eq(state[-1,:3], np.array([3,0,0]))) # constrain final position\n",
        "prog.AddLinearConstraint(eq(state[0, 6:9], np.zeros(3))) # constrain initial orientation\n",
        "prog.AddLinearConstraint(eq(state[-1, 6:9], np.array([0,-2*np.pi-1e-3, 0]))) # constrain final orientation\n",
        "# force it to be rotating backwards\n",
        "# prog.AddBoundingBoxConstraint(np.array([0,-10,0]), np.array([0,-1,0]), state[0,9:]) # constrain intial rotational velocity\n",
        "\n",
        "# Bound the timestep\n",
        "prog.AddBoundingBoxConstraint(0.002, 0.05, dt[0])\n",
        "# Do timestepping. Easy to do fixed timesteps with symplectic Euler\n",
        "for t in range(T):\n",
        "\tprog.AddConstraint(eq(state[t+1], state[t] + dt[0]*dynamics(state[t])))\n",
        "\n",
        "\n",
        "bottle_radius = 0.03\n",
        "bottle_height_of_cg = 0.075\n",
        "bottle_I_yy = 0.00105\n",
        "bottle_mass = 0.5\n",
        "sim_timestep = 0.002\n",
        "\n",
        "angular_momentum = bottle_I_yy * state[0,10]\n",
        "impact_torque = bottle_radius * bottle_mass * state[-1,5]\n",
        "friction_torque = -bottle_height_of_cg * bottle_mass * state[-1, 3]\n",
        "torque = impact_torque + friction_torque\n",
        "\n",
        "prog.AddConstraint(angular_momentum == torque*sim_timestep)\n",
        "\n",
        "\n",
        "result = Solve(prog)\n",
        "assert(result.is_success()), \"Optimization failed\"\n",
        "x0 = result.GetSolution(state)[0]\n",
        "xT = result.GetSolution(state)[-1]\n",
        "print(f'Release Velocity {x0[3:6]}')\n",
        "print(f'Release Angular Velocity {x0[9:]}')\n",
        "print(f'Timestep {result.GetSolution(dt)}')"
      ],
      "execution_count": null,
      "outputs": []
    },
    {
      "cell_type": "code",
      "metadata": {
        "id": "VHGnmgG1xn3p"
      },
      "source": [
        "bottle_radius = 0.03\n",
        "bottle_height_of_cg = 0.075\n",
        "bottle_I_yy = 0.00105\n",
        "bottle_mass = 0.5\n",
        "sim_timestep = 0.002\n",
        "\n",
        "angular_momentum = bottle_I_yy * x0[10]\n",
        "impact_torque = bottle_radius * xT[5]\n",
        "friction_torque = -bottle_height_of_cg * xT[3]\n",
        "torque = impact_torque + friction_torque\n",
        "\n",
        "\n",
        "print(angular_momentum,torque*sim_timestep)"
      ],
      "execution_count": null,
      "outputs": []
    },
    {
      "cell_type": "code",
      "metadata": {
        "id": "sjs4AOWE7pE4"
      },
      "source": [
        "np.vstack([np.zeros(3), np.ones(3)]).T.shape"
      ],
      "execution_count": null,
      "outputs": []
    },
    {
      "cell_type": "markdown",
      "metadata": {
        "id": "zXXXL4YC0xgi"
      },
      "source": [
        "# Junk"
      ]
    },
    {
      "cell_type": "markdown",
      "metadata": {
        "id": "vYwMycbT0X1N"
      },
      "source": [
        "Ok, I know that the manipulation station is supposed to wrap some functionality and give us a controller, but I find it very confusing because it hides what little documented functionality drake has... so here's an attempt to not use it"
      ]
    },
    {
      "cell_type": "code",
      "metadata": {
        "id": "N6sEEmD9q8NR"
      },
      "source": [
        "# top level simulation environment\n",
        "builder = pydrake.systems.framework.DiagramBuilder()\n",
        "# the plant is the dynamics model. The scene graph is a tree storing relations\n",
        "# between objects\n",
        "plant, scene_graph = AddMultibodyPlantSceneGraph(builder, time_step=1e-2)\n",
        "# the parser allows us to add models to the plant and scene graph\n",
        "parser = Parser(plant, scene_graph)\n",
        "# so let's add the bottle and the robot arm\n",
        "iwaa_file_path = pydrake.common.FindResourceOrThrow(\"drake/manipulation/models/iiwa_description/sdf/iiwa14_no_collision.sdf\")\n",
        "parser.AddModelFromFile(iwaa_file_path)\n",
        "parser.AddModelFromString(bottle_sdf, \"sdf\") # need to specify filetype\n",
        "# then we need to attach the base of the robot to the ground\n",
        "# plant.WeldFrames(plant.world_frame(), plant.GetFrameByName(\"iiwa_link_0\"))\n",
        "# and for some reason when we're done we have to call\n",
        "plant.Finalize()\n",
        "meshcat = ConnectMeshcatVisualizer(builder, scene_graph, zmq_url=zmq_url)"
      ],
      "execution_count": null,
      "outputs": []
    },
    {
      "cell_type": "code",
      "metadata": {
        "id": "MIVlnrQnq7S1"
      },
      "source": [
        "from pydrake.all import eq, MathematicalProgram, Solve, Variable\n",
        "from pydrake.all import LinearSystem, DirectTranscription\n",
        "import math\n",
        "import matplotlib.pyplot as plt\n",
        "\n",
        "prog = MathematicalProgram()\n",
        "\n",
        "dt = 0.01;\n",
        "g = 9.81\n",
        "N = 50\n",
        "vx0 = 10\n",
        "vy0 = 10\n",
        "h = 3\n",
        "\n",
        "A = np.eye(12)\n",
        "A[0, 3] = 1\n",
        "A[1, 4] = 1\n",
        "A[2, 5] = 1\n",
        "A[6, 9] = 1\n",
        "A[7, 10] = 1\n",
        "A[8, 11] = 1\n",
        "B = dt*np.array([[0, 0, 0, 0, 0, -g, 0, 0, 0, 0, 0, 0]]).T\n",
        "C = np.eye(12)\n",
        "D = np.zeros((12,1))\n",
        "\n",
        "sys = LinearSystem(A, B, C, D, dt)\n",
        "\n",
        "prog = DirectTranscription(sys, sys.CreateDefaultContext(), N)\n",
        "#prog.AddBoundingBoxConstraint(x0, x0, prog.initial_state())\n",
        "#prog.AddBoundingBoxConstraint(xf, xf, prog.final_state())\n",
        "#prog.AddConstraintToAllKnotPoints(prog.input()[0] == 1)\n",
        "#prog.AddConstraintToAllKnotPoints(prog.input()[0] == 1)\n",
        "\n",
        "initial_state_l = (0., 0., h, -vx0, 0, 0, 0., 0., 0, -vx0, -vy0, 0.)\n",
        "initial_state_u = (0., 5., 0., vx0, 0, 100, 0., 0., 0, vx0, vy0, 0.)\n",
        "\n",
        "prog.AddBoundingBoxConstraint(initial_state_l, initial_state_u, prog.initial_state())\n",
        "\n",
        "final_state_l = (0., -5., 0., -vx0, -vy0, -100, 0., 0., -math.pi, 0., 0., 0.)\n",
        "final_state_u = (0., 5., 0., vx0, vy0, 0, 0., 0., math.pi, 0., 0., 0.)\n",
        "\n",
        "prog.AddBoundingBoxConstraint(final_state_l, final_state_u, prog.final_state())\n",
        "\n",
        "#prog.AddConstraint(state[timesteps, :] == xf)\n",
        "# Do timestepping. Easy to do fixed timesteps with symplectic Euler, but timesteps can be decision variables as well. \n",
        "#for t in range(timesteps + 1):\n",
        "#\tprog.AddConstraint(x[t+1,:] = dynamics(x[t,:]) * h)\n",
        "\n",
        "result = Solve(prog)\n",
        "x_sol = prog.ReconstructStateTrajectory(result)\n",
        "assert(result.is_success()), \"Optimization failed\"\n",
        "\n",
        "\n",
        "plt.figure()\n",
        "x_values = x_sol.vector_values(x_sol.get_segment_times())\n",
        "\n",
        "plt.plot(x_values[0,:1], x_values[1,:1])\n",
        "plt.xlabel('q')\n",
        "plt.ylabel('qdot')"
      ],
      "execution_count": null,
      "outputs": []
    }
  ]
}