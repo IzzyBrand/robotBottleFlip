{
  "nbformat": 4,
  "nbformat_minor": 0,
  "metadata": {
    "colab": {
      "name": "new_flip",
      "provenance": [],
      "include_colab_link": true
    },
    "kernelspec": {
      "name": "python3",
      "display_name": "Python 3"
    }
  },
  "cells": [
    {
      "cell_type": "markdown",
      "metadata": {
        "id": "view-in-github",
        "colab_type": "text"
      },
      "source": [
        "<a href=\"https://colab.research.google.com/github/IzzyBrand/robotBottleFlip/blob/main/new_flip.ipynb\" target=\"_parent\"><img src=\"https://colab.research.google.com/assets/colab-badge.svg\" alt=\"Open In Colab\"/></a>"
      ]
    },
    {
      "cell_type": "markdown",
      "metadata": {
        "id": "HKkh77a02Fnt"
      },
      "source": [
        "## Lots of imports"
      ]
    },
    {
      "cell_type": "code",
      "metadata": {
        "id": "l8KnujzAqrMe"
      },
      "source": [
        "import numpy as np\n",
        "import ipywidgets\n",
        "import pydot\n",
        "import os\n",
        "from IPython.display import display, SVG\n",
        "\n",
        "import importlib\n",
        "import sys\n",
        "from urllib.request import urlretrieve\n",
        "\n",
        "if 'google.colab' in sys.modules and importlib.util.find_spec('manipulation') is None:\n",
        "    urlretrieve(f\"http://manipulation.csail.mit.edu/scripts/setup/setup_manipulation_colab.py\",\n",
        "                \"setup_manipulation_colab.py\")\n",
        "    from setup_manipulation_colab import setup_manipulation\n",
        "    setup_manipulation(manipulation_sha='master', drake_version='20201120', drake_build='nightly')\n",
        "\n",
        "if 'google.colab' in sys.modules and os.getenv(\"DISPLAY\") is None:\n",
        "    from pyvirtualdisplay import Display\n",
        "    display = Display(visible=0, size=(1400, 900))\n",
        "    display.start()\n",
        "\n",
        "# Use pyngrok on colab.\n",
        "server_args = []\n",
        "if 'google.colab' in sys.modules:\n",
        "  server_args = ['--ngrok_http_tunnel']\n",
        "\n",
        "# Start a single meshcat server instance to use for the remainder of this notebook.\n",
        "from meshcat.servers.zmqserver import start_zmq_server_as_subprocess\n",
        "proc, zmq_url, web_url = start_zmq_server_as_subprocess(server_args=server_args)\n",
        "\n",
        "import pydrake.all\n",
        "from manipulation.scenarios import AddIiwa, AddWsg, AddRgbdSensors, AddShape\n",
        "from manipulation.utils import FindResource\n",
        "\n",
        "from pydrake.all import (\n",
        "    AddMultibodyPlantSceneGraph, ConnectMeshcatVisualizer, DiagramBuilder, \n",
        "    FindResourceOrThrow, GenerateHtml, InverseDynamicsController, \n",
        "    MultibodyPlant, Parser, Simulator, TrajectorySource)\n",
        "\n",
        "from pydrake.all import (\n",
        "    DiagramBuilder,\n",
        "    RenderEngineVtkParams, MakeRenderEngineVtk, DepthCameraProperties, RgbdSensor, RigidTransform, RollPitchYaw,\n",
        "    ColorRenderCamera, DepthRenderCamera, CameraInfo, ClippingRange, RenderCameraCore, DepthRange\n",
        ")\n",
        "    \n",
        "from pydrake.all import RigidTransform, RotationMatrix, SpatialVelocity, PiecewisePolynomial\n",
        "\n",
        "from pydrake.all import eq, MathematicalProgram, Solve\n",
        "\n",
        "from google.colab.patches import cv2_imshow"
      ],
      "execution_count": null,
      "outputs": []
    },
    {
      "cell_type": "markdown",
      "metadata": {
        "id": "ry_8mwwsqfA1"
      },
      "source": [
        "Upload a model of the bottle from github. Uses requests to pull the raw SDF from github. Optionally we can upload the bottle manually."
      ]
    },
    {
      "cell_type": "code",
      "metadata": {
        "id": "NX9SggayqDGY"
      },
      "source": [
        "# from google.colab import files\n",
        "# print('Please upload bottle.sdf')\n",
        "# uploaded = files.upload()\n",
        "\n",
        "# for fn in uploaded.keys():\n",
        "#   print('User uploaded file \"{name}\" with length {length} bytes'.format(\n",
        "#       name=fn, length=len(uploaded[fn])))\n",
        "\n",
        "# bottle_sdf = uploaded['bottle.sdf'].decode(\"utf-8\")\n",
        "\n",
        "import requests\n",
        "resp = requests.get(\"https://raw.githubusercontent.com/IzzyBrand/robotBottleFlip/main/models/bottle.sdf\")\n",
        "if resp.status_code == 200:\n",
        "    bottle_sdf = resp.text"
      ],
      "execution_count": null,
      "outputs": []
    },
    {
      "cell_type": "markdown",
      "metadata": {
        "id": "qagvWc9Vqk4H"
      },
      "source": [
        "### Set up the Manipulation Station"
      ]
    },
    {
      "cell_type": "code",
      "metadata": {
        "id": "3J_m-ZvW2AWW"
      },
      "source": [
        "def MakeManipulationStation(time_step=0.001):\n",
        "    builder = pydrake.systems.framework.DiagramBuilder()\n",
        "\n",
        "    # Add the iiwa, WSG, and cameras to the scene.\n",
        "    plant, scene_graph = pydrake.multibody.plant.AddMultibodyPlantSceneGraph(\n",
        "        builder, time_step=time_step)\n",
        "    iiwa = AddIiwa(plant)\n",
        "    wsg = AddWsg(plant, iiwa)\n",
        "    pydrake.multibody.parsing.Parser(plant).AddModelFromFile(\n",
        "        FindResource(\"models/camera_box.sdf\"), \"camera0\")\n",
        "    pydrake.multibody.parsing.Parser(plant).AddModelFromString(bottle_sdf, 'sdf')\n",
        "\n",
        "    # add platforms for the bottle to sit\n",
        "    AddShape(plant, pydrake.geometry.Box(0.2, 0.2, 0.01), 'target_platform')\n",
        "    AddShape(plant, pydrake.geometry.Box(0.2, 0.2, 0.01), 'initial_platform')\n",
        "    plant.WeldFrames(plant.world_frame(), plant.GetFrameByName(\"target_platform\"),\n",
        "                     RigidTransform(RotationMatrix(), [2.5,0,-.005]))\n",
        "    plant.WeldFrames(plant.world_frame(), plant.GetFrameByName(\"initial_platform\"),\n",
        "                     RigidTransform(RotationMatrix(), [0.5,0,-.005]))\n",
        "\n",
        "    plant.SetDefaultFreeBodyPose(plant.GetBodyByName('bottle_base_link'),\n",
        "                          RigidTransform(RotationMatrix(), [0.5,0,0]))\n",
        "\n",
        "    plant.Finalize()\n",
        "\n",
        "    num_iiwa_positions = plant.num_positions(iiwa)\n",
        "\n",
        "    # I need a PassThrough system so that I can export the input port.\n",
        "    iiwa_position = builder.AddSystem(pydrake.systems.primitives.PassThrough(num_iiwa_positions))\n",
        "    builder.ExportInput(iiwa_position.get_input_port(), \"iiwa_position\")\n",
        "    builder.ExportOutput(iiwa_position.get_output_port(), \"iiwa_position_command\")\n",
        "\n",
        "    # Export the iiwa \"state\" outputs.\n",
        "    demux = builder.AddSystem(pydrake.systems.primitives.Demultiplexer(\n",
        "        2 * num_iiwa_positions, num_iiwa_positions))\n",
        "    builder.Connect(plant.get_state_output_port(iiwa), demux.get_input_port())\n",
        "    builder.ExportOutput(demux.get_output_port(0), \"iiwa_position_measured\")\n",
        "    builder.ExportOutput(demux.get_output_port(1), \"iiwa_velocity_estimated\")\n",
        "    builder.ExportOutput(plant.get_state_output_port(iiwa), \"iiwa_state_estimated\")\n",
        "\n",
        "    # Make the plant for the iiwa controller to use.\n",
        "    controller_plant = pydrake.multibody.plant.MultibodyPlant(time_step=time_step)\n",
        "    controller_iiwa = AddIiwa(controller_plant)\n",
        "    AddWsg(controller_plant, controller_iiwa, welded=True)\n",
        "    controller_plant.Finalize()\n",
        "\n",
        "    # Add the iiwa controller\n",
        "    iiwa_controller = builder.AddSystem(\n",
        "        pydrake.systems.controllers.InverseDynamicsController(\n",
        "            controller_plant,\n",
        "            kp=[100]*num_iiwa_positions,\n",
        "            ki=[1]*num_iiwa_positions,\n",
        "            kd=[20]*num_iiwa_positions,\n",
        "            has_reference_acceleration=False))\n",
        "    iiwa_controller.set_name(\"iiwa_controller\")\n",
        "    builder.Connect(\n",
        "        plant.get_state_output_port(iiwa), iiwa_controller.get_input_port_estimated_state())\n",
        "\n",
        "    # Add in the feed-forward torque\n",
        "    adder = builder.AddSystem(pydrake.systems.primitives.Adder(2, num_iiwa_positions))\n",
        "    builder.Connect(iiwa_controller.get_output_port_control(),\n",
        "                    adder.get_input_port(0))\n",
        "    # Use a PassThrough to make the port optional (it will provide zero values if not connected).\n",
        "    torque_passthrough = builder.AddSystem(\n",
        "        pydrake.systems.primitives.PassThrough([0]*num_iiwa_positions))\n",
        "    builder.Connect(torque_passthrough.get_output_port(), adder.get_input_port(1))\n",
        "    builder.ExportInput(torque_passthrough.get_input_port(), \"iiwa_feedforward_torque\")\n",
        "    builder.Connect(adder.get_output_port(), plant.get_actuation_input_port(iiwa))\n",
        "\n",
        "    # Add discrete derivative to command velocities.\n",
        "    desired_state_from_position = builder.AddSystem(\n",
        "        pydrake.systems.primitives.StateInterpolatorWithDiscreteDerivative(\n",
        "            num_iiwa_positions, time_step, suppress_initial_transient=True))\n",
        "    desired_state_from_position.set_name(\"desired_state_from_position\")\n",
        "    builder.Connect(desired_state_from_position.get_output_port(),      \n",
        "                    iiwa_controller.get_input_port_desired_state())\n",
        "    builder.Connect(iiwa_position.get_output_port(), desired_state_from_position.get_input_port())\n",
        "\n",
        "    # Export commanded torques.\n",
        "    #builder.ExportOutput(adder.get_output_port(), \"iiwa_torque_commanded\")\n",
        "    #builder.ExportOutput(adder.get_output_port(), \"iiwa_torque_measured\")\n",
        "\n",
        "    # Wsg controller.\n",
        "    wsg_controller = builder.AddSystem(pydrake.manipulation.schunk_wsg.SchunkWsgPositionController())\n",
        "    wsg_controller.set_name(\"wsg_controller\")\n",
        "    builder.Connect(wsg_controller.get_generalized_force_output_port(),             \n",
        "                    plant.get_actuation_input_port(wsg))\n",
        "    builder.Connect(plant.get_state_output_port(wsg), wsg_controller.get_state_input_port())\n",
        "    builder.ExportInput(wsg_controller.get_desired_position_input_port(), \"wsg_position\")\n",
        "    builder.ExportInput(wsg_controller.get_force_limit_input_port(), \"wsg_force_limit\")\n",
        "    wsg_mbp_state_to_wsg_state = builder.AddSystem(\n",
        "        pydrake.manipulation.schunk_wsg.MakeMultibodyStateToWsgStateSystem())\n",
        "    builder.Connect(plant.get_state_output_port(wsg), wsg_mbp_state_to_wsg_state.get_input_port())\n",
        "    builder.ExportOutput(wsg_mbp_state_to_wsg_state.get_output_port(), \"wsg_state_measured\")\n",
        "    builder.ExportOutput(wsg_controller.get_grip_force_output_port(), \"wsg_force_measured\")\n",
        "\n",
        "    # Cameras.\n",
        "    #color_camera = ColorRenderCamera(\n",
        "    #RenderCameraCore(\"manip_station_renderer\", CameraInfo(1080, 720, np.pi/4),\n",
        "    #             ClippingRange(0.1, 10.0), RigidTransform()), False)\n",
        "    \n",
        "    #depth_camera = DepthRenderCamera(color_camera.core(), DepthRange(0.1, 9.5))\n",
        "\n",
        "    AddRgbdSensors(builder, plant, scene_graph)\n",
        "\n",
        "    # Export \"cheat\" ports.\n",
        "    builder.ExportOutput(scene_graph.get_query_output_port(), \"geometry_query\")\n",
        "    builder.ExportOutput(plant.get_contact_results_output_port(), \"contact_results\")\n",
        "    builder.ExportOutput(plant.get_state_output_port(), \"plant_continuous_state\")\n",
        "\n",
        "    return builder.Build()\n"
      ],
      "execution_count": null,
      "outputs": []
    },
    {
      "cell_type": "markdown",
      "metadata": {
        "id": "eV4u62Exg6uo"
      },
      "source": [
        "## Set up an IK solver to easily position the end effector\n",
        "\n",
        "inspired by [this notebook](https://colab.research.google.com/drive/1lDnpQ_zIaHGXKPUVk0bY5P9pOLMan5zd#scrollTo=WfPONFgTfuh9)"
      ]
    },
    {
      "cell_type": "code",
      "metadata": {
        "id": "y4xWs6ARg5p0"
      },
      "source": [
        "class IKSolver(object):\n",
        "    def __init__(self):\n",
        "        ## setup controller plant\n",
        "        self.plant = pydrake.multibody.plant.MultibodyPlant(0.0)\n",
        "        iiwa = AddIiwa(self.plant)\n",
        "\n",
        "        # Define frames\n",
        "        self.world_frame = self.plant.world_frame()\n",
        "        self.l7_frame = self.plant.GetFrameByName(\"iiwa_link_7\")\n",
        "        # gripper in link 7 frame (see source of AddWsg)\n",
        "        self.X_L7G = RigidTransform(RollPitchYaw(np.pi / 2.0, 0, np.pi / 2.0), [0, 0, 0.114])\n",
        "\n",
        "        # finalize the plant\n",
        "        self.plant.Finalize()\n",
        "        self.plant_context = self.plant.CreateDefaultContext()\n",
        "\n",
        "    def solve(self, X_WT, q_guess = None, theta_bound=0.01, position_bound=0.01):\n",
        "        \"\"\"\n",
        "        plant: a mini plant only consists of iiwa arm with no gripper attached\n",
        "        X_WT: transform of target frame in world frame\n",
        "        q_guess: a guess on the joint state sol\n",
        "        \"\"\"\n",
        "        if q_guess is None:\n",
        "            q_guess = np.zeros(7)\n",
        "        \n",
        "        ik_instance = pydrake.multibody.inverse_kinematics.InverseKinematics(self.plant)\n",
        "        # align frame A to frame B\n",
        "        ik_instance.AddOrientationConstraint(frameAbar=self.l7_frame, \n",
        "                                        R_AbarA=self.X_L7G.rotation(),\n",
        "                                        #   R_AbarA=RotationMatrix(), # for link 7\n",
        "                                        frameBbar=self.world_frame, \n",
        "                                        R_BbarB=X_WT.rotation(), \n",
        "                                        theta_bound=position_bound)\n",
        "        # align point Q in frame B to the bounding box in frame A\n",
        "        ik_instance.AddPositionConstraint(frameB=self.l7_frame, \n",
        "                                        p_BQ=self.X_L7G.translation(),\n",
        "                                        # p_BQ=[0,0,0], # for link 7\n",
        "                                    frameA=self.world_frame, \n",
        "                                    p_AQ_lower=X_WT.translation()-position_bound, \n",
        "                                    p_AQ_upper=X_WT.translation()+position_bound)\n",
        "        prog = ik_instance.prog()\n",
        "        prog.SetInitialGuess(ik_instance.q(), q_guess)\n",
        "        result = Solve(prog)\n",
        "        if not result.is_success():\n",
        "            return result.GetSolution(ik_instance.q()), False\n",
        "        return result.GetSolution(ik_instance.q()), True"
      ],
      "execution_count": null,
      "outputs": []
    },
    {
      "cell_type": "markdown",
      "metadata": {
        "id": "0mPBCIROMMBv"
      },
      "source": [
        "## Create a top-level builder and add Meshcat + Station\n"
      ]
    },
    {
      "cell_type": "code",
      "metadata": {
        "id": "SJjnTZbHE_95"
      },
      "source": [
        "# create a new builder and attach the station as a child\n",
        "builder = pydrake.systems.framework.DiagramBuilder()\n",
        "station_diagram = builder.AddSystem(MakeManipulationStation())\n",
        "station_diagram.set_name('station')\n",
        "station_context = station_diagram.CreateDefaultContext()\n",
        "\n",
        "# pull out the plant and the bottle for easy access\n",
        "plant = station_diagram.GetSubsystemByName('plant')\n",
        "plant_context = plant.CreateDefaultContext()\n",
        "bottle = plant.GetBodyByName('bottle_base_link')\n",
        "\n",
        "# connect a meshcat visualizer\n",
        "meshcat = ConnectMeshcatVisualizer(builder,\n",
        "                                   output_port=station_diagram.GetOutputPort(\"geometry_query\"),\n",
        "                                   zmq_url=zmq_url)\n"
      ],
      "execution_count": null,
      "outputs": []
    },
    {
      "cell_type": "code",
      "metadata": {
        "id": "J4D8qMXpUCcK"
      },
      "source": [
        "# the origin of the bottle is at the base of the bottle. The spout begins at\n",
        "# 15.5cm and ends at 19cm in Z\n",
        "X_GO_pregrasp = RigidTransform(RotationMatrix.MakeXRotation(np.pi/2.0).multiply(\n",
        "        RotationMatrix.MakeZRotation(np.pi/2.0)), [0, 0.20, 0])\n",
        "X_GO_grasp = RigidTransform(RotationMatrix.MakeXRotation(np.pi/2.0).multiply(\n",
        "        RotationMatrix.MakeZRotation(np.pi/2.0)), [0, 0.12, 0])\n",
        "\n",
        "# get the pose of the bottle and combine to compute a grasp pose\n",
        "X_WO = bottle.EvalPoseInWorld(plant_context)\n",
        "X_WG_grasp = X_WO.multiply(X_GO_grasp.inverse())\n",
        "\n",
        "# Do ik to find the correct pose for the gripper\n",
        "ik_solver = IKSolver()\n",
        "q_init = station_diagram.GetOutputPort(\"iiwa_position_measured\").Eval(station_context)\n",
        "q_goal, optimal = ik_solver.solve(X_WG_grasp, q_init)\n",
        "\n",
        "# attach a gripper controller. we need to wire the gripper controller output\n",
        "# ports to the station input ports, so we can't just abstract this entirely into\n",
        "# its own function like we could with creating the station diagram\n",
        "# traj_wsg_command = PiecewisePolynomial.FirstOrderHold([0, 1, 2], np.array([[0, 0.1, 0]]))\n",
        "# wsg_source = builder.AddSystem(TrajectorySource(traj_wsg_command))\n",
        "# wsg_source.set_name(\"wsg_command\")\n",
        "# builder.Connect(wsg_source.get_output_port(), station_diagram.GetInputPort(\"wsg_position\"))"
      ],
      "execution_count": null,
      "outputs": []
    },
    {
      "cell_type": "markdown",
      "metadata": {
        "id": "dHi1GewGMEAX"
      },
      "source": [
        "## Build the top-level builder and attach a simulator"
      ]
    },
    {
      "cell_type": "code",
      "metadata": {
        "id": "pG6GuSKyquET"
      },
      "source": [
        "# not sure what this does\n",
        "diagram = builder.Build()\n",
        "context = diagram.CreateDefaultContext()\n",
        "\n",
        "#color_camera = ColorRenderCamera(\n",
        "#    RenderCameraCore(\"station_renderer\", CameraInfo(1080, 720, np.pi/4),\n",
        "#                 ClippingRange(0.1, 10.0), RigidTransform()), False)\n",
        "#X_PC = RigidTransform(RollPitchYaw([0.0, -np.pi/2.5, 0.0]), [0.7, 0.0, 0.7])\n",
        "#station.RegisterRgbdSensor(\"single_sensor\", plant.world_frame(), X_PC, depth_camera)\n",
        "#station.RegisterRgbdSensor(\"dual_sensor\", plant.world_frame(), X_PC, color_camera, depth_camera)\n",
        "\n",
        "# depth_camera = DepthRenderCamera(color_camera.core(), DepthRange(0.1, 9.5))\n",
        "# get the context\n",
        "# context = diagram.CreateDefaultContext()\n",
        "# create a simulator\n",
        "simulator = Simulator(diagram)\n",
        "\n",
        "\n",
        "# NOTE(izzy): i couldn't create the plant_context in the same way as the diagram\n",
        "# context if I wanted to be able to set the pose of the bottle... Not at all\n",
        "# sure why.\n",
        "# NOTE(izzy): these initial conditions were found using the optimization\n",
        "# procedure a few cells below. not sure why they aren't really working...\n",
        "# mutable_context = diagram.GetMyContextFromRoot(simulator.get_mutable_context())\n",
        "mutable_station_context = station_diagram.GetMyMutableContextFromRoot(context)\n",
        "\n",
        "# set the position of the arm to the result of the IK above\n",
        "diagram.GetSubsystemByName('station').GetInputPort('iiwa_position').FixValue(mutable_context, q_goal)\n",
        "\n",
        "# Note(chris I believe this is how we access the rbg / depth images)\n",
        "#display(SVG(pydot.graph_from_dot_data(diagram.GetGraphvizString())[0].create_svg()))\n",
        "# color_image = station_diagram.GetOutputPort(\"camera0_rgb_image\").Eval(plant_context)\n",
        "# point_cloud = station_diagram.GetOutputPort(\"camera0_point_cloud\").Eval(plant_context)\n",
        "# color_image_np = color_image.data\n",
        "# cv2_imshow(color_image_np)\n",
        "#plant.get_state_output_port(camera)\n",
        "\n",
        "# position the bottle on the platform in front of the robot\n",
        "# plant = station_diagram.GetSubsystemByName('plant')\n",
        "# plant.SetFreeBodyPose(mutable_context,\n",
        "#                       plant.GetBodyByName('bottle_base_link'),\n",
        "#                       RigidTransform(RotationMatrix(), [0.5,0,0]))\n",
        "\n",
        "# NOTE(izzy): if we hard assign the position and velocity of the bottle to the \n",
        "# solution of the optimization below, then we can check that the flip actually \n",
        "# works\n",
        "# plant.SetFreeBodyPose(mutable_context,\n",
        "#                       plant.GetBodyByName('bottle_base_link'),\n",
        "#                       RigidTransform(RotationMatrix(), [1,0,0.5]))\n",
        "# plant.SetFreeBodySpatialVelocity(plant.GetBodyByName('bottle_base_link'),\n",
        "#                                  SpatialVelocity(w=[ 0.,         -0.95135561,  0.        ],\n",
        "#                                                  v=[ 0.30277771,  0.,         32.25951315]),\n",
        "#                                  mutable_context)\n",
        "\n",
        "\n",
        "# record an animation of the simulation advancing\n"
      ],
      "execution_count": null,
      "outputs": []
    },
    {
      "cell_type": "code",
      "metadata": {
        "id": "lfYCsEwtqtsy"
      },
      "source": [
        "meshcat.start_recording()\n",
        "simulator.AdvanceTo(2.5)\n",
        "meshcat.publish_recording()"
      ],
      "execution_count": null,
      "outputs": []
    },
    {
      "cell_type": "code",
      "metadata": {
        "id": "OhQ-RpP9ViGl"
      },
      "source": [
        "for sys in builder.GetSystems():\n",
        "    print(sys, sys.GetSystemName())\n",
        "\n",
        "iiwa_controller = station_diagram.GetSubsystemByName('iiwa_controller')\n",
        "port = station_diagram.GetOutputPort(\"iiwa_position_measured\")\n",
        "port.Eval(station_diagram.CreateDefaultContext())"
      ],
      "execution_count": null,
      "outputs": []
    },
    {
      "cell_type": "code",
      "metadata": {
        "id": "EwK4lDdwwb21"
      },
      "source": [
        "port = diagram.GetSubsystemByName('station').GetInputPort('iiwa_position')\n",
        "port.HasValue()"
      ],
      "execution_count": null,
      "outputs": []
    },
    {
      "cell_type": "code",
      "metadata": {
        "id": "XXxslmulrYPE"
      },
      "source": [
        "import pydot\n",
        "from IPython.display import display, SVG\n",
        "display(SVG(pydot.graph_from_dot_data(plant.GetTopologyGraphvizString())[0].create_svg()))"
      ],
      "execution_count": null,
      "outputs": []
    },
    {
      "cell_type": "code",
      "metadata": {
        "id": "SPf5nT6im7lr"
      },
      "source": [
        "plant_context = plant.CreateDefaultContext()\n",
        "# the origin of the bottle is at the base of the bottle. The spout begins at\n",
        "# 15.5cm and ends at 19cm in Z\n",
        "X_GO_pregrasp = RigidTransform(RotationMatrix.MakeXRotation(np.pi/2.0).multiply(\n",
        "        RotationMatrix.MakeZRotation(np.pi/2.0)), [0, 0.20, 0])\n",
        "X_GO_grasp = RigidTransform(RotationMatrix.MakeXRotation(np.pi/2.0).multiply(\n",
        "        RotationMatrix.MakeZRotation(np.pi/2.0)), [0, 0.12, 0])\n",
        "\n",
        "X_WO = plant.EvalBodyPoseInWorld(plant_context, plant.GetBodyByName('bottle_base_link'))\n",
        "X_WG_grasp = X_WO.multiply(X_GO_grasp.inverse())\n",
        "\n",
        "# We could hard assign the pose of the gripper to sanity check\n",
        "# plant.SetFreeBodyPose(plant_context, plant.GetBodyByName('body'), X_WG_grasp) # for some reason the gripper is called body\n",
        "# plant.GetJointByName(\"left_finger_sliding_joint\").set_translation(plant_context, -0.02)\n",
        "# plant.GetJointByName(\"right_finger_sliding_joint\").set_translation(plant_context, 0.02)\n"
      ],
      "execution_count": null,
      "outputs": []
    },
    {
      "cell_type": "markdown",
      "metadata": {
        "id": "2g_QRP7aFrXg"
      },
      "source": [
        "# Optimize the release position and velocity"
      ]
    },
    {
      "cell_type": "code",
      "metadata": {
        "id": "hkC5CoOlMKum"
      },
      "source": [
        "T = 500 # number of timesteps\n",
        "d = 12 # state dimension\n",
        "\n",
        "def dynamics(x):\n",
        "    dx = np.zeros_like(x)\n",
        "    dx[0:3] = x[3:6] # velocity\n",
        "    dx[5] = -9.81    # acceleration\n",
        "    dx[6:9] = x[9:] # angular velocity\n",
        "    return dx\n",
        "\n",
        "prog = MathematicalProgram()\n",
        "# create decision variables for the state and the timestep\n",
        "state = prog.NewContinuousVariables(T + 1, d, 'state')\n",
        "dt = prog.NewContinuousVariables(1, 'dt')\n",
        "\n",
        "# bound the starting and ending positions\n",
        "prog.AddLinearConstraint(eq(state[0,:3], np.array([1,0,0.5]))) # constrain initial position\n",
        "prog.AddLinearConstraint(eq(state[-1,:3], np.array([3,0,0]))) # constrain final position\n",
        "prog.AddLinearConstraint(eq(state[0, 6:9], np.zeros(3))) # constrain initial orientation\n",
        "prog.AddLinearConstraint(eq(state[-1, 6:9], np.array([0,-2*np.pi-1e-3, 0]))) # constrain final orientation\n",
        "# force it to be rotating backwards\n",
        "# prog.AddBoundingBoxConstraint(np.array([0,-10,0]), np.array([0,-1,0]), state[0,9:]) # constrain intial rotational velocity\n",
        "\n",
        "# Bound the timestep\n",
        "prog.AddBoundingBoxConstraint(0.002, 0.05, dt[0])\n",
        "# Do timestepping. Easy to do fixed timesteps with symplectic Euler\n",
        "for t in range(T):\n",
        "\tprog.AddConstraint(eq(state[t+1], state[t] + dt[0]*dynamics(state[t])))\n",
        "\n",
        "\n",
        "bottle_radius = 0.03\n",
        "bottle_height_of_cg = 0.075\n",
        "bottle_I_yy = 0.00105\n",
        "bottle_mass = 0.5\n",
        "sim_timestep = 0.002\n",
        "\n",
        "angular_momentum = bottle_I_yy * state[0,10]\n",
        "impact_torque = bottle_radius * bottle_mass * state[-1,5]\n",
        "friction_torque = -bottle_height_of_cg * bottle_mass * state[-1, 3]\n",
        "torque = impact_torque + friction_torque\n",
        "\n",
        "prog.AddConstraint(angular_momentum == torque*sim_timestep)\n",
        "\n",
        "\n",
        "result = Solve(prog)\n",
        "assert(result.is_success()), \"Optimization failed\"\n",
        "x0 = result.GetSolution(state)[0]\n",
        "xT = result.GetSolution(state)[-1]\n",
        "print(f'Release Velocity {x0[3:6]}')\n",
        "print(f'Release Angular Velocity {x0[9:]}')\n",
        "print(f'Timestep {result.GetSolution(dt)}')"
      ],
      "execution_count": null,
      "outputs": []
    },
    {
      "cell_type": "code",
      "metadata": {
        "id": "VHGnmgG1xn3p"
      },
      "source": [
        "bottle_radius = 0.03\n",
        "bottle_height_of_cg = 0.075\n",
        "bottle_I_yy = 0.00105\n",
        "bottle_mass = 0.5\n",
        "sim_timestep = 0.002\n",
        "\n",
        "angular_momentum = bottle_I_yy * x0[10]\n",
        "impact_torque = bottle_radius * xT[5]\n",
        "friction_torque = -bottle_height_of_cg * xT[3]\n",
        "torque = impact_torque + friction_torque\n",
        "\n",
        "\n",
        "print(angular_momentum,torque*sim_timestep)"
      ],
      "execution_count": null,
      "outputs": []
    },
    {
      "cell_type": "markdown",
      "metadata": {
        "id": "zXXXL4YC0xgi"
      },
      "source": [
        "# Junk"
      ]
    },
    {
      "cell_type": "markdown",
      "metadata": {
        "id": "vYwMycbT0X1N"
      },
      "source": [
        "Ok, I know that the manipulation station is supposed to wrap some functionality and give us a controller, but I find it very confusing because it hides what little documented functionality drake has... so here's an attempt to not use it"
      ]
    },
    {
      "cell_type": "code",
      "metadata": {
        "id": "N6sEEmD9q8NR"
      },
      "source": [
        "# top level simulation environment\n",
        "builder = pydrake.systems.framework.DiagramBuilder()\n",
        "# the plant is the dynamics model. The scene graph is a tree storing relations\n",
        "# between objects\n",
        "plant, scene_graph = AddMultibodyPlantSceneGraph(builder, time_step=1e-2)\n",
        "# the parser allows us to add models to the plant and scene graph\n",
        "parser = Parser(plant, scene_graph)\n",
        "# so let's add the bottle and the robot arm\n",
        "iwaa_file_path = pydrake.common.FindResourceOrThrow(\"drake/manipulation/models/iiwa_description/sdf/iiwa14_no_collision.sdf\")\n",
        "parser.AddModelFromFile(iwaa_file_path)\n",
        "parser.AddModelFromString(bottle_sdf, \"sdf\") # need to specify filetype\n",
        "# then we need to attach the base of the robot to the ground\n",
        "# plant.WeldFrames(plant.world_frame(), plant.GetFrameByName(\"iiwa_link_0\"))\n",
        "# and for some reason when we're done we have to call\n",
        "plant.Finalize()\n",
        "meshcat = ConnectMeshcatVisualizer(builder, scene_graph, zmq_url=zmq_url)"
      ],
      "execution_count": null,
      "outputs": []
    },
    {
      "cell_type": "code",
      "metadata": {
        "id": "MIVlnrQnq7S1"
      },
      "source": [
        "from pydrake.all import eq, MathematicalProgram, Solve, Variable\n",
        "from pydrake.all import LinearSystem, DirectTranscription\n",
        "import math\n",
        "import matplotlib.pyplot as plt\n",
        "\n",
        "prog = MathematicalProgram()\n",
        "\n",
        "dt = 0.01;\n",
        "g = 9.81\n",
        "N = 50\n",
        "vx0 = 10\n",
        "vy0 = 10\n",
        "h = 3\n",
        "\n",
        "A = np.eye(12)\n",
        "A[0, 3] = 1\n",
        "A[1, 4] = 1\n",
        "A[2, 5] = 1\n",
        "A[6, 9] = 1\n",
        "A[7, 10] = 1\n",
        "A[8, 11] = 1\n",
        "B = dt*np.array([[0, 0, 0, 0, 0, -g, 0, 0, 0, 0, 0, 0]]).T\n",
        "C = np.eye(12)\n",
        "D = np.zeros((12,1))\n",
        "\n",
        "sys = LinearSystem(A, B, C, D, dt)\n",
        "\n",
        "prog = DirectTranscription(sys, sys.CreateDefaultContext(), N)\n",
        "#prog.AddBoundingBoxConstraint(x0, x0, prog.initial_state())\n",
        "#prog.AddBoundingBoxConstraint(xf, xf, prog.final_state())\n",
        "#prog.AddConstraintToAllKnotPoints(prog.input()[0] == 1)\n",
        "#prog.AddConstraintToAllKnotPoints(prog.input()[0] == 1)\n",
        "\n",
        "initial_state_l = (0., 0., h, -vx0, 0, 0, 0., 0., 0, -vx0, -vy0, 0.)\n",
        "initial_state_u = (0., 5., 0., vx0, 0, 100, 0., 0., 0, vx0, vy0, 0.)\n",
        "\n",
        "prog.AddBoundingBoxConstraint(initial_state_l, initial_state_u, prog.initial_state())\n",
        "\n",
        "final_state_l = (0., -5., 0., -vx0, -vy0, -100, 0., 0., -math.pi, 0., 0., 0.)\n",
        "final_state_u = (0., 5., 0., vx0, vy0, 0, 0., 0., math.pi, 0., 0., 0.)\n",
        "\n",
        "prog.AddBoundingBoxConstraint(final_state_l, final_state_u, prog.final_state())\n",
        "\n",
        "#prog.AddConstraint(state[timesteps, :] == xf)\n",
        "# Do timestepping. Easy to do fixed timesteps with symplectic Euler, but timesteps can be decision variables as well. \n",
        "#for t in range(timesteps + 1):\n",
        "#\tprog.AddConstraint(x[t+1,:] = dynamics(x[t,:]) * h)\n",
        "\n",
        "result = Solve(prog)\n",
        "x_sol = prog.ReconstructStateTrajectory(result)\n",
        "assert(result.is_success()), \"Optimization failed\"\n",
        "\n",
        "\n",
        "plt.figure()\n",
        "x_values = x_sol.vector_values(x_sol.get_segment_times())\n",
        "\n",
        "plt.plot(x_values[0,:1], x_values[1,:1])\n",
        "plt.xlabel('q')\n",
        "plt.ylabel('qdot')"
      ],
      "execution_count": null,
      "outputs": []
    }
  ]
}